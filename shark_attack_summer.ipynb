{
 "cells": [
  {
   "cell_type": "markdown",
   "id": "cb1b7802",
   "metadata": {},
   "source": [
    "\n",
    "# Shark attacks during summer vs. other season"
   ]
  },
  {
   "cell_type": "markdown",
   "id": "3415850e",
   "metadata": {},
   "source": [
    "## Obtaining the data and checking the information"
   ]
  },
  {
   "cell_type": "code",
   "execution_count": 1,
   "id": "534729a0",
   "metadata": {},
   "outputs": [],
   "source": [
    "import numpy as np\n",
    "import pandas as pd"
   ]
  },
  {
   "cell_type": "code",
   "execution_count": 2,
   "id": "f3598933",
   "metadata": {},
   "outputs": [],
   "source": [
    "df=pd.read_csv(\"data/attacks.csv\", encoding='cp1252')# due to a error of encoding we include which one we need to include"
   ]
  },
  {
   "cell_type": "code",
   "execution_count": 3,
   "id": "92e58541",
   "metadata": {},
   "outputs": [
    {
     "data": {
      "text/html": [
       "<div>\n",
       "<style scoped>\n",
       "    .dataframe tbody tr th:only-of-type {\n",
       "        vertical-align: middle;\n",
       "    }\n",
       "\n",
       "    .dataframe tbody tr th {\n",
       "        vertical-align: top;\n",
       "    }\n",
       "\n",
       "    .dataframe thead th {\n",
       "        text-align: right;\n",
       "    }\n",
       "</style>\n",
       "<table border=\"1\" class=\"dataframe\">\n",
       "  <thead>\n",
       "    <tr style=\"text-align: right;\">\n",
       "      <th></th>\n",
       "      <th>Case Number</th>\n",
       "      <th>Date</th>\n",
       "      <th>Year</th>\n",
       "      <th>Type</th>\n",
       "      <th>Country</th>\n",
       "      <th>Area</th>\n",
       "      <th>Location</th>\n",
       "      <th>Activity</th>\n",
       "      <th>Name</th>\n",
       "      <th>Sex</th>\n",
       "      <th>...</th>\n",
       "      <th>Species</th>\n",
       "      <th>Investigator or Source</th>\n",
       "      <th>pdf</th>\n",
       "      <th>href formula</th>\n",
       "      <th>href</th>\n",
       "      <th>Case Number.1</th>\n",
       "      <th>Case Number.2</th>\n",
       "      <th>original order</th>\n",
       "      <th>Unnamed: 22</th>\n",
       "      <th>Unnamed: 23</th>\n",
       "    </tr>\n",
       "  </thead>\n",
       "  <tbody>\n",
       "    <tr>\n",
       "      <th>14797</th>\n",
       "      <td>NaN</td>\n",
       "      <td>NaN</td>\n",
       "      <td>NaN</td>\n",
       "      <td>NaN</td>\n",
       "      <td>NaN</td>\n",
       "      <td>NaN</td>\n",
       "      <td>NaN</td>\n",
       "      <td>NaN</td>\n",
       "      <td>NaN</td>\n",
       "      <td>NaN</td>\n",
       "      <td>...</td>\n",
       "      <td>NaN</td>\n",
       "      <td>NaN</td>\n",
       "      <td>NaN</td>\n",
       "      <td>NaN</td>\n",
       "      <td>NaN</td>\n",
       "      <td>NaN</td>\n",
       "      <td>NaN</td>\n",
       "      <td>NaN</td>\n",
       "      <td>NaN</td>\n",
       "      <td>NaN</td>\n",
       "    </tr>\n",
       "  </tbody>\n",
       "</table>\n",
       "<p>1 rows × 24 columns</p>\n",
       "</div>"
      ],
      "text/plain": [
       "      Case Number Date  Year Type Country Area Location Activity Name Sex   \\\n",
       "14797         NaN  NaN   NaN  NaN     NaN  NaN      NaN      NaN  NaN  NaN   \n",
       "\n",
       "       ... Species  Investigator or Source  pdf href formula href  \\\n",
       "14797  ...      NaN                    NaN  NaN          NaN  NaN   \n",
       "\n",
       "      Case Number.1 Case Number.2 original order Unnamed: 22 Unnamed: 23  \n",
       "14797           NaN           NaN            NaN         NaN         NaN  \n",
       "\n",
       "[1 rows x 24 columns]"
      ]
     },
     "execution_count": 3,
     "metadata": {},
     "output_type": "execute_result"
    }
   ],
   "source": [
    "df.sample()"
   ]
  },
  {
   "cell_type": "markdown",
   "id": "9437cc18",
   "metadata": {},
   "source": [
    "## Cleaning process"
   ]
  },
  {
   "cell_type": "code",
   "execution_count": 4,
   "id": "e7942311",
   "metadata": {},
   "outputs": [
    {
     "data": {
      "text/plain": [
       "'During this stage we gonna clear up all the data is not neccesary for the research as well as the empty values,\\nfor then, filtering by year 1946'"
      ]
     },
     "execution_count": 4,
     "metadata": {},
     "output_type": "execute_result"
    }
   ],
   "source": [
    "\"\"\"During this stage we gonna clear up all the data is not neccesary for the research as well as the empty values,\n",
    "for then, filtering by year 1946\"\"\""
   ]
  },
  {
   "cell_type": "code",
   "execution_count": 5,
   "id": "3d1713f4",
   "metadata": {},
   "outputs": [],
   "source": [
    "import src.cleaning as clean"
   ]
  },
  {
   "cell_type": "code",
   "execution_count": 6,
   "id": "3152336f",
   "metadata": {},
   "outputs": [
    {
     "data": {
      "text/plain": [
       "'Importing the functions for cleaning: the first one is cleaning the columns, second duplicates and nan values,\\nto continue with removing the years out of the hypothesis and cleaning and filtering countries'"
      ]
     },
     "execution_count": 6,
     "metadata": {},
     "output_type": "execute_result"
    }
   ],
   "source": [
    "\"\"\"Importing the functions for cleaning: the first one is cleaning the columns, second duplicates and nan values,\n",
    "to continue with removing the years out of the hypothesis and cleaning and filtering countries\"\"\""
   ]
  },
  {
   "cell_type": "code",
   "execution_count": 7,
   "id": "c4d0d475",
   "metadata": {},
   "outputs": [],
   "source": [
    "df = clean.column_na(df) # cleaning columns"
   ]
  },
  {
   "cell_type": "code",
   "execution_count": 8,
   "id": "1d293e55",
   "metadata": {},
   "outputs": [],
   "source": [
    "df = clean.drop_duplicates(df) # dropping duplicates and NaN values"
   ]
  },
  {
   "cell_type": "code",
   "execution_count": 9,
   "id": "d3e49fe5",
   "metadata": {},
   "outputs": [
    {
     "name": "stderr",
     "output_type": "stream",
     "text": [
      "/Users/skyfly/Desktop/myIH/project1/project_shark/src/cleaning.py:13: SettingWithCopyWarning: \n",
      "A value is trying to be set on a copy of a slice from a DataFrame.\n",
      "Try using .loc[row_indexer,col_indexer] = value instead\n",
      "\n",
      "See the caveats in the documentation: https://pandas.pydata.org/pandas-docs/stable/user_guide/indexing.html#returning-a-view-versus-a-copy\n",
      "  df['Year'] = df['Year'].astype('str')\n",
      "/Users/skyfly/Desktop/myIH/project1/project_shark/src/cleaning.py:14: SettingWithCopyWarning: \n",
      "A value is trying to be set on a copy of a slice from a DataFrame.\n",
      "Try using .loc[row_indexer,col_indexer] = value instead\n",
      "\n",
      "See the caveats in the documentation: https://pandas.pydata.org/pandas-docs/stable/user_guide/indexing.html#returning-a-view-versus-a-copy\n",
      "  df['Year'] = df['Year'].map(lambda x: x.rstrip('.0'))\n",
      "/Users/skyfly/Desktop/myIH/project1/project_shark/src/cleaning.py:15: SettingWithCopyWarning: \n",
      "A value is trying to be set on a copy of a slice from a DataFrame.\n",
      "Try using .loc[row_indexer,col_indexer] = value instead\n",
      "\n",
      "See the caveats in the documentation: https://pandas.pydata.org/pandas-docs/stable/user_guide/indexing.html#returning-a-view-versus-a-copy\n",
      "  df['Year'] = df['Year'].astype('int')\n"
     ]
    }
   ],
   "source": [
    "df = clean.year_1946(df) # removing the years before 1946"
   ]
  },
  {
   "cell_type": "code",
   "execution_count": 10,
   "id": "71010145",
   "metadata": {},
   "outputs": [],
   "source": [
    "df = clean.clean_country(df) # removing whitespaces and lower-case"
   ]
  },
  {
   "cell_type": "code",
   "execution_count": 11,
   "id": "bfafe26d",
   "metadata": {},
   "outputs": [],
   "source": [
    "df = clean.replace_country_values(df) # replacing some countries which wouldn't match with df-country_list"
   ]
  },
  {
   "cell_type": "markdown",
   "id": "796c577d",
   "metadata": {},
   "source": [
    "## Preparing data for analysis"
   ]
  },
  {
   "cell_type": "markdown",
   "id": "cb677010",
   "metadata": {},
   "source": [
    "### Obtaining a list of all the countries with latitude to determine wether are from the north or south."
   ]
  },
  {
   "cell_type": "code",
   "execution_count": 12,
   "id": "70d377d3",
   "metadata": {},
   "outputs": [
    {
     "data": {
      "text/plain": [
       "'Obtaining a dataframe from a csv file with the list of countries and their coordinates'"
      ]
     },
     "execution_count": 12,
     "metadata": {},
     "output_type": "execute_result"
    }
   ],
   "source": [
    "\"\"\"Obtaining a dataframe from a csv file with the list of countries and their coordinates\"\"\""
   ]
  },
  {
   "cell_type": "code",
   "execution_count": 13,
   "id": "8308ff86",
   "metadata": {},
   "outputs": [
    {
     "data": {
      "text/plain": [
       "1"
      ]
     },
     "execution_count": 13,
     "metadata": {},
     "output_type": "execute_result"
    }
   ],
   "source": [
    "l_country= pd.read_csv('data/list_country.csv') \n",
    "l_country.latitude.isna().sum() # Obtaining a dataframe with the list of countries and their coordinates we can find there's a NaN value"
   ]
  },
  {
   "cell_type": "code",
   "execution_count": 14,
   "id": "96ad4581",
   "metadata": {},
   "outputs": [],
   "source": [
    "l_country.dropna(how= 'any',inplace= True) # so, we remove the NaN row as we can't say if North or South"
   ]
  },
  {
   "cell_type": "code",
   "execution_count": 15,
   "id": "8b3d8795",
   "metadata": {},
   "outputs": [],
   "source": [
    "import src.analysis as analysis"
   ]
  },
  {
   "cell_type": "code",
   "execution_count": 16,
   "id": "9ac5f098",
   "metadata": {},
   "outputs": [],
   "source": [
    "l_country = analysis.list_country_hemisphere(l_country) # filtering countries wether are north or south"
   ]
  },
  {
   "cell_type": "code",
   "execution_count": 17,
   "id": "0d41db7a",
   "metadata": {},
   "outputs": [],
   "source": [
    "south_list = analysis.cleaning_ref(l_country) "
   ]
  },
  {
   "cell_type": "code",
   "execution_count": 18,
   "id": "5d9facbf",
   "metadata": {},
   "outputs": [
    {
     "data": {
      "text/plain": [
       "'create a list of southern countries'"
      ]
     },
     "execution_count": 18,
     "metadata": {},
     "output_type": "execute_result"
    }
   ],
   "source": [
    "\"\"\"create a list of southern countries\"\"\""
   ]
  },
  {
   "cell_type": "markdown",
   "id": "6dcf91b8",
   "metadata": {},
   "source": [
    "### Combination of both df to obtain a concatenate df within the cases and their hemisphere"
   ]
  },
  {
   "cell_type": "code",
   "execution_count": 19,
   "id": "ae0d2ec2",
   "metadata": {},
   "outputs": [],
   "source": [
    "import src.combination as comb"
   ]
  },
  {
   "cell_type": "code",
   "execution_count": 20,
   "id": "a0f4d1ba",
   "metadata": {},
   "outputs": [
    {
     "data": {
      "text/plain": [
       "'we create another function to combine and concatenate df and the south list created before'"
      ]
     },
     "execution_count": 20,
     "metadata": {},
     "output_type": "execute_result"
    }
   ],
   "source": [
    "\"\"\"we create another function to combine and concatenate df and the south list created before\"\"\""
   ]
  },
  {
   "cell_type": "code",
   "execution_count": 21,
   "id": "fae4f43d",
   "metadata": {},
   "outputs": [],
   "source": [
    "df_concat = comb.combine_ref_df(df, south_list) "
   ]
  },
  {
   "cell_type": "code",
   "execution_count": 22,
   "id": "6fcbfc5d",
   "metadata": {},
   "outputs": [
    {
     "data": {
      "text/html": [
       "<div>\n",
       "<style scoped>\n",
       "    .dataframe tbody tr th:only-of-type {\n",
       "        vertical-align: middle;\n",
       "    }\n",
       "\n",
       "    .dataframe tbody tr th {\n",
       "        vertical-align: top;\n",
       "    }\n",
       "\n",
       "    .dataframe thead th {\n",
       "        text-align: right;\n",
       "    }\n",
       "</style>\n",
       "<table border=\"1\" class=\"dataframe\">\n",
       "  <thead>\n",
       "    <tr style=\"text-align: right;\">\n",
       "      <th></th>\n",
       "      <th>Date</th>\n",
       "      <th>Year</th>\n",
       "      <th>hemisphere</th>\n",
       "    </tr>\n",
       "    <tr>\n",
       "      <th>Country</th>\n",
       "      <th></th>\n",
       "      <th></th>\n",
       "      <th></th>\n",
       "    </tr>\n",
       "  </thead>\n",
       "  <tbody>\n",
       "    <tr>\n",
       "      <th>united states</th>\n",
       "      <td>25-Jun-2018</td>\n",
       "      <td>2018</td>\n",
       "      <td>north</td>\n",
       "    </tr>\n",
       "    <tr>\n",
       "      <th>united states</th>\n",
       "      <td>18-Jun-2018</td>\n",
       "      <td>2018</td>\n",
       "      <td>north</td>\n",
       "    </tr>\n",
       "    <tr>\n",
       "      <th>united states</th>\n",
       "      <td>09-Jun-2018</td>\n",
       "      <td>2018</td>\n",
       "      <td>north</td>\n",
       "    </tr>\n",
       "    <tr>\n",
       "      <th>australia</th>\n",
       "      <td>08-Jun-2018</td>\n",
       "      <td>2018</td>\n",
       "      <td>south</td>\n",
       "    </tr>\n",
       "    <tr>\n",
       "      <th>mexico</th>\n",
       "      <td>04-Jun-2018</td>\n",
       "      <td>2018</td>\n",
       "      <td>north</td>\n",
       "    </tr>\n",
       "    <tr>\n",
       "      <th>...</th>\n",
       "      <td>...</td>\n",
       "      <td>...</td>\n",
       "      <td>...</td>\n",
       "    </tr>\n",
       "    <tr>\n",
       "      <th>south africa</th>\n",
       "      <td>07-Jan-1946</td>\n",
       "      <td>1946</td>\n",
       "      <td>south</td>\n",
       "    </tr>\n",
       "    <tr>\n",
       "      <th>australia</th>\n",
       "      <td>05-Jan-1946</td>\n",
       "      <td>1946</td>\n",
       "      <td>south</td>\n",
       "    </tr>\n",
       "    <tr>\n",
       "      <th>south africa</th>\n",
       "      <td>01-Jan-1946</td>\n",
       "      <td>1946</td>\n",
       "      <td>south</td>\n",
       "    </tr>\n",
       "    <tr>\n",
       "      <th>south africa</th>\n",
       "      <td>1946</td>\n",
       "      <td>1946</td>\n",
       "      <td>south</td>\n",
       "    </tr>\n",
       "    <tr>\n",
       "      <th>persian gulf</th>\n",
       "      <td>1946</td>\n",
       "      <td>1946</td>\n",
       "      <td>north</td>\n",
       "    </tr>\n",
       "  </tbody>\n",
       "</table>\n",
       "<p>4253 rows × 3 columns</p>\n",
       "</div>"
      ],
      "text/plain": [
       "                      Date  Year hemisphere\n",
       "Country                                    \n",
       "united states  25-Jun-2018  2018      north\n",
       "united states  18-Jun-2018  2018      north\n",
       "united states  09-Jun-2018  2018      north\n",
       "australia      08-Jun-2018  2018      south\n",
       "mexico         04-Jun-2018  2018      north\n",
       "...                    ...   ...        ...\n",
       "south africa   07-Jan-1946  1946      south\n",
       "australia      05-Jan-1946  1946      south\n",
       "south africa   01-Jan-1946  1946      south\n",
       "south africa          1946  1946      south\n",
       "persian gulf          1946  1946      north\n",
       "\n",
       "[4253 rows x 3 columns]"
      ]
     },
     "execution_count": 22,
     "metadata": {},
     "output_type": "execute_result"
    }
   ],
   "source": [
    "df_concat"
   ]
  },
  {
   "cell_type": "code",
   "execution_count": 23,
   "id": "ad9a07e4",
   "metadata": {},
   "outputs": [
    {
     "data": {
      "text/plain": [
       "'As a result of the combination we get a new df creating a dictionary of list to merge by index\\n(set_index as Country) the hemisphere '"
      ]
     },
     "execution_count": 23,
     "metadata": {},
     "output_type": "execute_result"
    }
   ],
   "source": [
    "\"\"\"As a result of the combination we get a new df creating a dictionary of list to merge by index\n",
    "(set_index as Country) the hemisphere \"\"\""
   ]
  },
  {
   "cell_type": "markdown",
   "id": "b10a9f53",
   "metadata": {},
   "source": [
    "## Creating the seasons according to the hemisphere"
   ]
  },
  {
   "cell_type": "code",
   "execution_count": 24,
   "id": "a71ed495",
   "metadata": {},
   "outputs": [
    {
     "data": {
      "text/plain": [
       "'In the first function we get the month with regex (thanks to David V), while 2 and 3 function we create 2 subsets for each\\nhemisphere to get the season'"
      ]
     },
     "execution_count": 24,
     "metadata": {},
     "output_type": "execute_result"
    }
   ],
   "source": [
    "import src.concat as cct\n",
    "\"\"\"In the first function we get the month with regex (thanks to David V), while 2 and 3 function we create 2 subsets for each\n",
    "hemisphere to get the season\"\"\""
   ]
  },
  {
   "cell_type": "code",
   "execution_count": 25,
   "id": "a0cc9d19",
   "metadata": {},
   "outputs": [],
   "source": [
    "df_concat= cct.concat_month(df_concat)"
   ]
  },
  {
   "cell_type": "code",
   "execution_count": 26,
   "id": "73fd650d",
   "metadata": {},
   "outputs": [],
   "source": [
    "df_south = df_concat.loc[df_concat['hemisphere'] == \"south\"] #creating a subset for southern countries"
   ]
  },
  {
   "cell_type": "code",
   "execution_count": 27,
   "id": "5023f820",
   "metadata": {
    "scrolled": true
   },
   "outputs": [],
   "source": [
    "df_north = df_concat.loc[df_concat['hemisphere'] == \"north\"] #creating a subset for northern countries"
   ]
  },
  {
   "cell_type": "code",
   "execution_count": 28,
   "id": "2bedea9c",
   "metadata": {},
   "outputs": [
    {
     "name": "stderr",
     "output_type": "stream",
     "text": [
      "/var/folders/8p/zy_zh8_j0k926kzhhbp39j9c0000gn/T/ipykernel_65675/116206850.py:1: SettingWithCopyWarning: \n",
      "A value is trying to be set on a copy of a slice from a DataFrame.\n",
      "Try using .loc[row_indexer,col_indexer] = value instead\n",
      "\n",
      "See the caveats in the documentation: https://pandas.pydata.org/pandas-docs/stable/user_guide/indexing.html#returning-a-view-versus-a-copy\n",
      "  df_south['season'] = df_south['month'].map(lambda month:cct.south_season(month))\n"
     ]
    }
   ],
   "source": [
    "df_south['season'] = df_south['month'].map(lambda month:cct.south_season(month)) \n",
    "#creating a new column iterating in between the month and season according to the hemisphere"
   ]
  },
  {
   "cell_type": "code",
   "execution_count": 29,
   "id": "7fb9d960",
   "metadata": {},
   "outputs": [
    {
     "name": "stderr",
     "output_type": "stream",
     "text": [
      "/var/folders/8p/zy_zh8_j0k926kzhhbp39j9c0000gn/T/ipykernel_65675/3084720278.py:1: SettingWithCopyWarning: \n",
      "A value is trying to be set on a copy of a slice from a DataFrame.\n",
      "Try using .loc[row_indexer,col_indexer] = value instead\n",
      "\n",
      "See the caveats in the documentation: https://pandas.pydata.org/pandas-docs/stable/user_guide/indexing.html#returning-a-view-versus-a-copy\n",
      "  df_north['season'] = df_north['month'].map(lambda month:cct.north_season(month))\n"
     ]
    }
   ],
   "source": [
    "df_north['season'] = df_north['month'].map(lambda month:cct.north_season(month))\n",
    "#creating a new column iterating in between the month and season according to the hemisphere"
   ]
  },
  {
   "cell_type": "code",
   "execution_count": 30,
   "id": "d4ce1607",
   "metadata": {},
   "outputs": [
    {
     "data": {
      "text/html": [
       "<div>\n",
       "<style scoped>\n",
       "    .dataframe tbody tr th:only-of-type {\n",
       "        vertical-align: middle;\n",
       "    }\n",
       "\n",
       "    .dataframe tbody tr th {\n",
       "        vertical-align: top;\n",
       "    }\n",
       "\n",
       "    .dataframe thead th {\n",
       "        text-align: right;\n",
       "    }\n",
       "</style>\n",
       "<table border=\"1\" class=\"dataframe\">\n",
       "  <thead>\n",
       "    <tr style=\"text-align: right;\">\n",
       "      <th></th>\n",
       "      <th>Date</th>\n",
       "      <th>Year</th>\n",
       "      <th>hemisphere</th>\n",
       "      <th>month</th>\n",
       "      <th>season</th>\n",
       "    </tr>\n",
       "    <tr>\n",
       "      <th>Country</th>\n",
       "      <th></th>\n",
       "      <th></th>\n",
       "      <th></th>\n",
       "      <th></th>\n",
       "      <th></th>\n",
       "    </tr>\n",
       "  </thead>\n",
       "  <tbody>\n",
       "    <tr>\n",
       "      <th>united states</th>\n",
       "      <td>05-Jul-2007</td>\n",
       "      <td>2007</td>\n",
       "      <td>north</td>\n",
       "      <td>Jul</td>\n",
       "      <td>Summer</td>\n",
       "    </tr>\n",
       "  </tbody>\n",
       "</table>\n",
       "</div>"
      ],
      "text/plain": [
       "                      Date  Year hemisphere month  season\n",
       "Country                                                  \n",
       "united states  05-Jul-2007  2007      north   Jul  Summer"
      ]
     },
     "execution_count": 30,
     "metadata": {},
     "output_type": "execute_result"
    }
   ],
   "source": [
    "df_north.sample()"
   ]
  },
  {
   "cell_type": "code",
   "execution_count": 31,
   "id": "c1d7f9e2",
   "metadata": {},
   "outputs": [
    {
     "data": {
      "text/html": [
       "<div>\n",
       "<style scoped>\n",
       "    .dataframe tbody tr th:only-of-type {\n",
       "        vertical-align: middle;\n",
       "    }\n",
       "\n",
       "    .dataframe tbody tr th {\n",
       "        vertical-align: top;\n",
       "    }\n",
       "\n",
       "    .dataframe thead th {\n",
       "        text-align: right;\n",
       "    }\n",
       "</style>\n",
       "<table border=\"1\" class=\"dataframe\">\n",
       "  <thead>\n",
       "    <tr style=\"text-align: right;\">\n",
       "      <th></th>\n",
       "      <th>Date</th>\n",
       "      <th>Year</th>\n",
       "      <th>hemisphere</th>\n",
       "      <th>month</th>\n",
       "      <th>season</th>\n",
       "    </tr>\n",
       "    <tr>\n",
       "      <th>Country</th>\n",
       "      <th></th>\n",
       "      <th></th>\n",
       "      <th></th>\n",
       "      <th></th>\n",
       "      <th></th>\n",
       "    </tr>\n",
       "  </thead>\n",
       "  <tbody>\n",
       "    <tr>\n",
       "      <th>australia</th>\n",
       "      <td>14-Jul-2017</td>\n",
       "      <td>2017</td>\n",
       "      <td>south</td>\n",
       "      <td>Jul</td>\n",
       "      <td>Winter</td>\n",
       "    </tr>\n",
       "  </tbody>\n",
       "</table>\n",
       "</div>"
      ],
      "text/plain": [
       "                  Date  Year hemisphere month  season\n",
       "Country                                              \n",
       "australia  14-Jul-2017  2017      south   Jul  Winter"
      ]
     },
     "execution_count": 31,
     "metadata": {},
     "output_type": "execute_result"
    }
   ],
   "source": [
    "df_south.sample()"
   ]
  },
  {
   "cell_type": "code",
   "execution_count": 32,
   "id": "8a250dc2",
   "metadata": {},
   "outputs": [
    {
     "name": "stdout",
     "output_type": "stream",
     "text": [
      "The total amount of attacks found in the north is 2211, meanwhile, in the south is 1638\n",
      "This gives a difference os 573 more in the North\n"
     ]
    }
   ],
   "source": [
    "x= df_north.hemisphere.count() - df_south.hemisphere.count()\n",
    "print(f\"The total amount of attacks found in the north is {df_north.hemisphere.count()}, meanwhile, in the south is {df_south.hemisphere.count()}\")\n",
    "print (f\"This gives a difference os {x} more in the North\")"
   ]
  },
  {
   "cell_type": "markdown",
   "id": "60710133",
   "metadata": {},
   "source": [
    "## Extracting the data"
   ]
  },
  {
   "cell_type": "code",
   "execution_count": 33,
   "id": "30502874",
   "metadata": {},
   "outputs": [],
   "source": [
    "import src.graphs as gp\n",
    "import matplotlib as plt\n",
    "import seaborn as sns"
   ]
  },
  {
   "cell_type": "code",
   "execution_count": 34,
   "id": "f8b2c4ee",
   "metadata": {},
   "outputs": [
    {
     "data": {
      "image/png": "[encoded data removed]",
      "text/plain": [
       "<Figure size 432x288 with 1 Axes>"
      ]
     },
     "metadata": {
      "needs_background": "light"
     },
     "output_type": "display_data"
    }
   ],
   "source": [
    "graph_north = gp.extract_data_north(df_north);"
   ]
  },
  {
   "cell_type": "code",
   "execution_count": 35,
   "id": "b1ca8338",
   "metadata": {},
   "outputs": [
    {
     "data": {
      "text/plain": [
       "'Checking the data from the northern hemisphere, can be seen a relevant increment in summer in compare the other season'"
      ]
     },
     "execution_count": 35,
     "metadata": {},
     "output_type": "execute_result"
    }
   ],
   "source": [
    "\"\"\"Checking the data from the northern hemisphere, can be seen a relevant increment in summer in compare the other season\"\"\""
   ]
  },
  {
   "cell_type": "code",
   "execution_count": 36,
   "id": "e4f51041",
   "metadata": {},
   "outputs": [
    {
     "data": {
      "image/png": "[encoded data removed]",
      "text/plain": [
       "<Figure size 432x288 with 1 Axes>"
      ]
     },
     "metadata": {
      "needs_background": "light"
     },
     "output_type": "display_data"
    }
   ],
   "source": [
    "graph_south = gp.extract_data_sout(df_south)"
   ]
  },
  {
   "cell_type": "code",
   "execution_count": 37,
   "id": "36f485f9",
   "metadata": {},
   "outputs": [
    {
     "data": {
      "text/plain": [
       "'Checking the data from the southern hemisphere, can be also seen a relevant increment in summer in compare the other season'"
      ]
     },
     "execution_count": 37,
     "metadata": {},
     "output_type": "execute_result"
    }
   ],
   "source": [
    "\"\"\"Checking the data from the southern hemisphere, can be also seen a relevant increment in summer in compare the other season\"\"\""
   ]
  },
  {
   "cell_type": "code",
   "execution_count": 38,
   "id": "ccaaf184",
   "metadata": {
    "scrolled": true
   },
   "outputs": [
    {
     "data": {
      "image/png": "[encoded data removed]",
      "text/plain": [
       "<Figure size 432x288 with 1 Axes>"
      ]
     },
     "metadata": {
      "needs_background": "light"
     },
     "output_type": "display_data"
    }
   ],
   "source": [
    "graph_together = gp.extract_data_together(df_north, df_south)"
   ]
  },
  {
   "cell_type": "code",
   "execution_count": 39,
   "id": "f7603b91",
   "metadata": {},
   "outputs": [
    {
     "data": {
      "text/plain": [
       "'putting all together can confirm worldwide the increase of the attacks in summer'"
      ]
     },
     "execution_count": 39,
     "metadata": {},
     "output_type": "execute_result"
    }
   ],
   "source": [
    "\"\"\"putting all together can confirm worldwide the increase of the attacks in summer\"\"\""
   ]
  },
  {
   "cell_type": "markdown",
   "id": "5b0fceac",
   "metadata": {},
   "source": [
    "## Saving graphs"
   ]
  },
  {
   "cell_type": "code",
   "execution_count": 40,
   "id": "e06a630d",
   "metadata": {
    "scrolled": true
   },
   "outputs": [
    {
     "data": {
      "image/png": "[encoded data removed]",
      "text/plain": [
       "<Figure size 432x288 with 1 Axes>"
      ]
     },
     "metadata": {
      "needs_background": "light"
     },
     "output_type": "display_data"
    }
   ],
   "source": [
    "north = sns.countplot(x=\"season\", data=df_north, label= \"Northern hemisphere\");\n",
    "north.figure.savefig(\"North.jpg\", dpi=1000)"
   ]
  },
  {
   "cell_type": "code",
   "execution_count": 41,
   "id": "78387970",
   "metadata": {},
   "outputs": [
    {
     "data": {
      "image/png": "[encoded data removed]",
      "text/plain": [
       "<Figure size 432x288 with 1 Axes>"
      ]
     },
     "metadata": {
      "needs_background": "light"
     },
     "output_type": "display_data"
    }
   ],
   "source": [
    "south = sns.countplot(x=\"season\", data=df_south, label= \"Southern hemisphere\");\n",
    "south.figure.savefig(\"South.jpg\", dpi=1000)"
   ]
  }
 ],
 "metadata": {
  "kernelspec": {
   "display_name": "ironhack",
   "language": "python",
   "name": "ironhack"
  },
  "language_info": {
   "codemirror_mode": {
    "name": "ipython",
    "version": 3
   },
   "file_extension": ".py",
   "mimetype": "text/x-python",
   "name": "python",
   "nbconvert_exporter": "python",
   "pygments_lexer": "ipython3",
   "version": "3.9.15"
  },
  "toc": {
   "base_numbering": 1,
   "nav_menu": {},
   "number_sections": true,
   "sideBar": true,
   "skip_h1_title": false,
   "title_cell": "Table of Contents",
   "title_sidebar": "Contents",
   "toc_cell": false,
   "toc_position": {},
   "toc_section_display": true,
   "toc_window_display": false
  }
 },
 "nbformat": 4,
 "nbformat_minor": 5
}
