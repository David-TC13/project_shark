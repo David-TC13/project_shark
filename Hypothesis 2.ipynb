{
 "cells": [
  {
   "cell_type": "markdown",
   "id": "a0df3e05",
   "metadata": {},
   "source": [
    "## Check the % of fatalities are small comparing the amount of attacks"
   ]
  },
  {
   "cell_type": "markdown",
   "id": "8753c252",
   "metadata": {},
   "source": [
    "- Checking since 1946"
   ]
  },
  {
   "cell_type": "code",
   "execution_count": 1,
   "id": "33d845ae",
   "metadata": {},
   "outputs": [],
   "source": [
    "import numpy as np\n",
    "import pandas as pd"
   ]
  },
  {
   "cell_type": "code",
   "execution_count": 2,
   "id": "af5d30fa",
   "metadata": {},
   "outputs": [],
   "source": [
    "df= pd.read_csv(\"data/attacks.csv\", encoding='cp1252')"
   ]
  },
  {
   "cell_type": "code",
   "execution_count": 3,
   "id": "a0e80b4b",
   "metadata": {},
   "outputs": [],
   "source": [
    "df.drop_duplicates(inplace= True)"
   ]
  },
  {
   "cell_type": "code",
   "execution_count": 4,
   "id": "641bf004",
   "metadata": {},
   "outputs": [
    {
     "data": {
      "text/html": [
       "<div>\n",
       "<style scoped>\n",
       "    .dataframe tbody tr th:only-of-type {\n",
       "        vertical-align: middle;\n",
       "    }\n",
       "\n",
       "    .dataframe tbody tr th {\n",
       "        vertical-align: top;\n",
       "    }\n",
       "\n",
       "    .dataframe thead th {\n",
       "        text-align: right;\n",
       "    }\n",
       "</style>\n",
       "<table border=\"1\" class=\"dataframe\">\n",
       "  <thead>\n",
       "    <tr style=\"text-align: right;\">\n",
       "      <th></th>\n",
       "      <th>Case Number</th>\n",
       "      <th>Date</th>\n",
       "      <th>Year</th>\n",
       "      <th>Type</th>\n",
       "      <th>Country</th>\n",
       "      <th>Area</th>\n",
       "      <th>Location</th>\n",
       "      <th>Activity</th>\n",
       "      <th>Name</th>\n",
       "      <th>Sex</th>\n",
       "      <th>...</th>\n",
       "      <th>Species</th>\n",
       "      <th>Investigator or Source</th>\n",
       "      <th>pdf</th>\n",
       "      <th>href formula</th>\n",
       "      <th>href</th>\n",
       "      <th>Case Number.1</th>\n",
       "      <th>Case Number.2</th>\n",
       "      <th>original order</th>\n",
       "      <th>Unnamed: 22</th>\n",
       "      <th>Unnamed: 23</th>\n",
       "    </tr>\n",
       "  </thead>\n",
       "  <tbody>\n",
       "    <tr>\n",
       "      <th>232</th>\n",
       "      <td>2016.08.06</td>\n",
       "      <td>06-Aug-2016</td>\n",
       "      <td>2016.0</td>\n",
       "      <td>Unprovoked</td>\n",
       "      <td>USA</td>\n",
       "      <td>Hawaii</td>\n",
       "      <td>Maui</td>\n",
       "      <td>SUP Foil boarding</td>\n",
       "      <td>Connor Baxter</td>\n",
       "      <td>M</td>\n",
       "      <td>...</td>\n",
       "      <td>Tiger shark, 10'</td>\n",
       "      <td>SUP, 8/9/2015</td>\n",
       "      <td>2016.08.06-Baxter.pdf</td>\n",
       "      <td>http://sharkattackfile.net/spreadsheets/pdf_di...</td>\n",
       "      <td>http://sharkattackfile.net/spreadsheets/pdf_di...</td>\n",
       "      <td>2016.08.06</td>\n",
       "      <td>2016.08.06</td>\n",
       "      <td>6071.0</td>\n",
       "      <td>NaN</td>\n",
       "      <td>NaN</td>\n",
       "    </tr>\n",
       "  </tbody>\n",
       "</table>\n",
       "<p>1 rows × 24 columns</p>\n",
       "</div>"
      ],
      "text/plain": [
       "    Case Number         Date    Year        Type Country    Area Location  \\\n",
       "232  2016.08.06  06-Aug-2016  2016.0  Unprovoked     USA  Hawaii     Maui   \n",
       "\n",
       "              Activity           Name Sex   ...           Species   \\\n",
       "232  SUP Foil boarding  Connor Baxter    M  ...  Tiger shark, 10'    \n",
       "\n",
       "    Investigator or Source                    pdf  \\\n",
       "232          SUP, 8/9/2015  2016.08.06-Baxter.pdf   \n",
       "\n",
       "                                          href formula  \\\n",
       "232  http://sharkattackfile.net/spreadsheets/pdf_di...   \n",
       "\n",
       "                                                  href Case Number.1  \\\n",
       "232  http://sharkattackfile.net/spreadsheets/pdf_di...    2016.08.06   \n",
       "\n",
       "    Case Number.2 original order Unnamed: 22 Unnamed: 23  \n",
       "232    2016.08.06         6071.0         NaN         NaN  \n",
       "\n",
       "[1 rows x 24 columns]"
      ]
     },
     "execution_count": 4,
     "metadata": {},
     "output_type": "execute_result"
    }
   ],
   "source": [
    "df.sample()"
   ]
  },
  {
   "cell_type": "code",
   "execution_count": 5,
   "id": "20d58254",
   "metadata": {},
   "outputs": [],
   "source": [
    "df.drop (labels= ['Case Number', 'Date', 'Type', 'Country', 'Area', 'Location', 'Activity', 'Name', 'Age', 'Injury', 'Time', 'Species ', 'Investigator or Source', 'pdf', 'href formula', 'href', 'Case Number.1','Case Number.2', 'original order', 'Unnamed: 22', 'Unnamed: 23'], axis= 1, inplace= True)"
   ]
  },
  {
   "cell_type": "code",
   "execution_count": 6,
   "id": "a778e866",
   "metadata": {},
   "outputs": [
    {
     "data": {
      "text/plain": [
       "Year           float64\n",
       "Sex             object\n",
       "Fatal (Y/N)     object\n",
       "dtype: object"
      ]
     },
     "execution_count": 6,
     "metadata": {},
     "output_type": "execute_result"
    }
   ],
   "source": [
    "df.dtypes"
   ]
  },
  {
   "cell_type": "code",
   "execution_count": 7,
   "id": "fc9827a1",
   "metadata": {},
   "outputs": [],
   "source": [
    "df.dropna(how= 'all',inplace= True)"
   ]
  },
  {
   "cell_type": "code",
   "execution_count": 8,
   "id": "6baf5454",
   "metadata": {},
   "outputs": [],
   "source": [
    "df=df[df[\"Year\"]>=1946]"
   ]
  },
  {
   "cell_type": "code",
   "execution_count": 9,
   "id": "e75ba051",
   "metadata": {},
   "outputs": [],
   "source": [
    "df['Year'] = df['Year'].astype('str') # remove the .0 format to have a proper year"
   ]
  },
  {
   "cell_type": "code",
   "execution_count": 10,
   "id": "ebdecdc7",
   "metadata": {},
   "outputs": [],
   "source": [
    "df['Year'] = df['Year'].map(lambda x: x.rstrip('.0'))\n",
    "df['Year'] = df['Year'].astype('int')"
   ]
  },
  {
   "cell_type": "code",
   "execution_count": 11,
   "id": "11b6b8d8",
   "metadata": {},
   "outputs": [
    {
     "data": {
      "text/plain": [
       "Index(['Year', 'Sex ', 'Fatal (Y/N)'], dtype='object')"
      ]
     },
     "execution_count": 11,
     "metadata": {},
     "output_type": "execute_result"
    }
   ],
   "source": [
    "df.columns"
   ]
  },
  {
   "cell_type": "code",
   "execution_count": 12,
   "id": "06645298",
   "metadata": {},
   "outputs": [
    {
     "data": {
      "text/plain": [
       "array(['N', 'Y', nan, 'M', 'UNKNOWN', '2017', ' N'], dtype=object)"
      ]
     },
     "execution_count": 12,
     "metadata": {},
     "output_type": "execute_result"
    }
   ],
   "source": [
    "df[\"Fatal (Y/N)\"].unique()"
   ]
  },
  {
   "cell_type": "code",
   "execution_count": 13,
   "id": "88b4aa72",
   "metadata": {},
   "outputs": [],
   "source": [
    "df['Fatal (Y/N)'] =df['Fatal (Y/N)'].str.strip()"
   ]
  },
  {
   "cell_type": "code",
   "execution_count": 14,
   "id": "b369249a",
   "metadata": {},
   "outputs": [],
   "source": [
    "df = df.dropna(axis=0, subset=['Fatal (Y/N)'])"
   ]
  },
  {
   "cell_type": "code",
   "execution_count": 15,
   "id": "0d393313",
   "metadata": {},
   "outputs": [],
   "source": [
    "df= df.drop(df[(df['Fatal (Y/N)'] != 'N') & (df['Fatal (Y/N)'] != 'Y')].index)"
   ]
  },
  {
   "cell_type": "code",
   "execution_count": 23,
   "id": "eedb7c9a",
   "metadata": {},
   "outputs": [
    {
     "data": {
      "text/plain": [
       "array(['F', 'M'], dtype=object)"
      ]
     },
     "execution_count": 23,
     "metadata": {},
     "output_type": "execute_result"
    }
   ],
   "source": [
    "df[\"Sex \"].unique()"
   ]
  },
  {
   "cell_type": "code",
   "execution_count": 25,
   "id": "c4eccc06",
   "metadata": {},
   "outputs": [],
   "source": [
    "df= df.drop(df[(df['Sex '] != 'M') & (df['Sex '] != 'F')].index)"
   ]
  },
  {
   "cell_type": "markdown",
   "id": "9b287996",
   "metadata": {},
   "source": [
    "### Create a barplot comparing the total cases with the fatalities by gender"
   ]
  },
  {
   "cell_type": "code",
   "execution_count": 24,
   "id": "00bcae98",
   "metadata": {},
   "outputs": [],
   "source": [
    "import seaborn as sns\n",
    "import matplotlib.pyplot as plt"
   ]
  },
  {
   "cell_type": "code",
   "execution_count": null,
   "id": "5870de52",
   "metadata": {},
   "outputs": [],
   "source": []
  }
 ],
 "metadata": {
  "kernelspec": {
   "display_name": "ironhack",
   "language": "python",
   "name": "ironhack"
  },
  "language_info": {
   "codemirror_mode": {
    "name": "ipython",
    "version": 3
   },
   "file_extension": ".py",
   "mimetype": "text/x-python",
   "name": "python",
   "nbconvert_exporter": "python",
   "pygments_lexer": "ipython3",
   "version": "3.9.15"
  },
  "toc": {
   "base_numbering": 1,
   "nav_menu": {},
   "number_sections": true,
   "sideBar": true,
   "skip_h1_title": false,
   "title_cell": "Table of Contents",
   "title_sidebar": "Contents",
   "toc_cell": false,
   "toc_position": {},
   "toc_section_display": true,
   "toc_window_display": false
  }
 },
 "nbformat": 4,
 "nbformat_minor": 5
}
