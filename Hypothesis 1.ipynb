{
 "cells": [
  {
   "cell_type": "markdown",
   "id": "24329c8b",
   "metadata": {},
   "source": [
    "# Checking if attacks happen more in summer than other seasons"
   ]
  },
  {
   "cell_type": "code",
   "execution_count": 1,
   "id": "01b0c671",
   "metadata": {},
   "outputs": [],
   "source": [
    "import numpy as np\n",
    "import pandas as pd"
   ]
  },
  {
   "cell_type": "code",
   "execution_count": 2,
   "id": "65554156",
   "metadata": {},
   "outputs": [],
   "source": [
    "df= pd.read_csv(\"data/attacks.csv\", encoding='cp1252')"
   ]
  },
  {
   "cell_type": "code",
   "execution_count": 3,
   "id": "49d3cd82",
   "metadata": {},
   "outputs": [
    {
     "data": {
      "text/plain": [
       "(25723, 24)"
      ]
     },
     "execution_count": 3,
     "metadata": {},
     "output_type": "execute_result"
    }
   ],
   "source": [
    "df.shape"
   ]
  },
  {
   "cell_type": "code",
   "execution_count": 4,
   "id": "2153b23d",
   "metadata": {
    "scrolled": true
   },
   "outputs": [
    {
     "name": "stdout",
     "output_type": "stream",
     "text": [
      "<class 'pandas.core.frame.DataFrame'>\n",
      "RangeIndex: 25723 entries, 0 to 25722\n",
      "Data columns (total 24 columns):\n",
      " #   Column                  Non-Null Count  Dtype  \n",
      "---  ------                  --------------  -----  \n",
      " 0   Case Number             8702 non-null   object \n",
      " 1   Date                    6302 non-null   object \n",
      " 2   Year                    6300 non-null   float64\n",
      " 3   Type                    6298 non-null   object \n",
      " 4   Country                 6252 non-null   object \n",
      " 5   Area                    5847 non-null   object \n",
      " 6   Location                5762 non-null   object \n",
      " 7   Activity                5758 non-null   object \n",
      " 8   Name                    6092 non-null   object \n",
      " 9   Sex                     5737 non-null   object \n",
      " 10  Age                     3471 non-null   object \n",
      " 11  Injury                  6274 non-null   object \n",
      " 12  Fatal (Y/N)             5763 non-null   object \n",
      " 13  Time                    2948 non-null   object \n",
      " 14  Species                 3464 non-null   object \n",
      " 15  Investigator or Source  6285 non-null   object \n",
      " 16  pdf                     6302 non-null   object \n",
      " 17  href formula            6301 non-null   object \n",
      " 18  href                    6302 non-null   object \n",
      " 19  Case Number.1           6302 non-null   object \n",
      " 20  Case Number.2           6302 non-null   object \n",
      " 21  original order          6309 non-null   float64\n",
      " 22  Unnamed: 22             1 non-null      object \n",
      " 23  Unnamed: 23             2 non-null      object \n",
      "dtypes: float64(2), object(22)\n",
      "memory usage: 4.7+ MB\n"
     ]
    }
   ],
   "source": [
    "df.info() #check out the info of the table"
   ]
  },
  {
   "cell_type": "markdown",
   "id": "59410703",
   "metadata": {},
   "source": [
    "### Dropping all unnecesary data\n"
   ]
  },
  {
   "cell_type": "markdown",
   "id": "ccab790d",
   "metadata": {},
   "source": [
    "- General Data"
   ]
  },
  {
   "cell_type": "code",
   "execution_count": 5,
   "id": "bcea8cc0",
   "metadata": {},
   "outputs": [],
   "source": [
    "df.drop (labels= ['Case Number', 'Type', 'Activity', 'Name', 'Sex ', 'Age', 'Injury', 'Fatal (Y/N)', 'Time', 'Species ', 'Investigator or Source', 'pdf', 'href formula', 'href', 'Case Number.1', 'Case Number.2', 'Unnamed: 22', 'Unnamed: 23', 'original order', 'Area', 'Location'], axis= 1, inplace= True)"
   ]
  },
  {
   "cell_type": "code",
   "execution_count": 6,
   "id": "5a150218",
   "metadata": {},
   "outputs": [],
   "source": [
    "df.drop_duplicates(inplace= True) #remove all the values duplicated"
   ]
  },
  {
   "cell_type": "code",
   "execution_count": 7,
   "id": "9850dd91",
   "metadata": {},
   "outputs": [],
   "source": [
    "df.dropna(how= 'all',inplace= True) #removed all the rows which all the values were NaN."
   ]
  },
  {
   "cell_type": "code",
   "execution_count": 8,
   "id": "ec1ace6e",
   "metadata": {
    "scrolled": true
   },
   "outputs": [
    {
     "data": {
      "text/html": [
       "<div>\n",
       "<style scoped>\n",
       "    .dataframe tbody tr th:only-of-type {\n",
       "        vertical-align: middle;\n",
       "    }\n",
       "\n",
       "    .dataframe tbody tr th {\n",
       "        vertical-align: top;\n",
       "    }\n",
       "\n",
       "    .dataframe thead th {\n",
       "        text-align: right;\n",
       "    }\n",
       "</style>\n",
       "<table border=\"1\" class=\"dataframe\">\n",
       "  <thead>\n",
       "    <tr style=\"text-align: right;\">\n",
       "      <th></th>\n",
       "      <th>Date</th>\n",
       "      <th>Year</th>\n",
       "      <th>Country</th>\n",
       "    </tr>\n",
       "  </thead>\n",
       "  <tbody>\n",
       "    <tr>\n",
       "      <th>3175</th>\n",
       "      <td>26-Aug-1976</td>\n",
       "      <td>1976.0</td>\n",
       "      <td>USA</td>\n",
       "    </tr>\n",
       "  </tbody>\n",
       "</table>\n",
       "</div>"
      ],
      "text/plain": [
       "             Date    Year Country\n",
       "3175  26-Aug-1976  1976.0     USA"
      ]
     },
     "execution_count": 8,
     "metadata": {},
     "output_type": "execute_result"
    }
   ],
   "source": [
    "df.sample()"
   ]
  },
  {
   "cell_type": "markdown",
   "id": "0935026d",
   "metadata": {
    "scrolled": true
   },
   "source": [
    "\n",
    "- cleaning data not useful"
   ]
  },
  {
   "cell_type": "markdown",
   "id": "4af07eae",
   "metadata": {},
   "source": [
    "df.drop (labels= ['Case Number', 'Type', 'Activity', 'Name', 'Sex ', 'Age', 'Injury', 'Fatal (Y/N)', 'Time', 'Species ', 'Investigator or Source', 'pdf', 'href formula', 'href', 'Case Number.1', 'Case Number.2', 'Unnamed: 22', 'Unnamed: 23', 'original order', 'Area', 'Location'], axis= 1, inplace= True)"
   ]
  },
  {
   "cell_type": "code",
   "execution_count": 9,
   "id": "26deb656",
   "metadata": {},
   "outputs": [
    {
     "data": {
      "text/html": [
       "<div>\n",
       "<style scoped>\n",
       "    .dataframe tbody tr th:only-of-type {\n",
       "        vertical-align: middle;\n",
       "    }\n",
       "\n",
       "    .dataframe tbody tr th {\n",
       "        vertical-align: top;\n",
       "    }\n",
       "\n",
       "    .dataframe thead th {\n",
       "        text-align: right;\n",
       "    }\n",
       "</style>\n",
       "<table border=\"1\" class=\"dataframe\">\n",
       "  <thead>\n",
       "    <tr style=\"text-align: right;\">\n",
       "      <th></th>\n",
       "      <th>Date</th>\n",
       "      <th>Year</th>\n",
       "      <th>Country</th>\n",
       "    </tr>\n",
       "  </thead>\n",
       "  <tbody>\n",
       "    <tr>\n",
       "      <th>0</th>\n",
       "      <td>25-Jun-2018</td>\n",
       "      <td>2018.0</td>\n",
       "      <td>USA</td>\n",
       "    </tr>\n",
       "    <tr>\n",
       "      <th>1</th>\n",
       "      <td>18-Jun-2018</td>\n",
       "      <td>2018.0</td>\n",
       "      <td>USA</td>\n",
       "    </tr>\n",
       "    <tr>\n",
       "      <th>2</th>\n",
       "      <td>09-Jun-2018</td>\n",
       "      <td>2018.0</td>\n",
       "      <td>USA</td>\n",
       "    </tr>\n",
       "    <tr>\n",
       "      <th>3</th>\n",
       "      <td>08-Jun-2018</td>\n",
       "      <td>2018.0</td>\n",
       "      <td>AUSTRALIA</td>\n",
       "    </tr>\n",
       "    <tr>\n",
       "      <th>4</th>\n",
       "      <td>04-Jun-2018</td>\n",
       "      <td>2018.0</td>\n",
       "      <td>MEXICO</td>\n",
       "    </tr>\n",
       "  </tbody>\n",
       "</table>\n",
       "</div>"
      ],
      "text/plain": [
       "          Date    Year    Country\n",
       "0  25-Jun-2018  2018.0        USA\n",
       "1  18-Jun-2018  2018.0        USA\n",
       "2  09-Jun-2018  2018.0        USA\n",
       "3  08-Jun-2018  2018.0  AUSTRALIA\n",
       "4  04-Jun-2018  2018.0     MEXICO"
      ]
     },
     "execution_count": 9,
     "metadata": {},
     "output_type": "execute_result"
    }
   ],
   "source": [
    "df.head()"
   ]
  },
  {
   "cell_type": "markdown",
   "id": "419e0629",
   "metadata": {},
   "source": [
    "### Deleting all the incidents happened before 1946 when the World Tourism Organization was created"
   ]
  },
  {
   "cell_type": "code",
   "execution_count": 10,
   "id": "0c1ff213",
   "metadata": {},
   "outputs": [],
   "source": [
    "df=df[df[\"Year\"]>=1946] #remove the row before the year "
   ]
  },
  {
   "cell_type": "code",
   "execution_count": 11,
   "id": "8eb4fe31",
   "metadata": {},
   "outputs": [],
   "source": [
    "df['Year'] = df['Year'].astype('str') # remove the .0 format to have a proper year\n",
    "df['Year'] = df['Year'].map(lambda x: x.rstrip('.0'))\n",
    "df['Year'] = df['Year'].astype('int')"
   ]
  },
  {
   "cell_type": "code",
   "execution_count": 12,
   "id": "e1522f32",
   "metadata": {},
   "outputs": [],
   "source": [
    "df.dropna(subset = ['Country'], inplace=True) # remove all the empty values for country"
   ]
  },
  {
   "cell_type": "code",
   "execution_count": 13,
   "id": "7a7c1c42",
   "metadata": {},
   "outputs": [],
   "source": [
    "df['Country'] = df['Country'].apply(lambda x: x.lower())#lowercase to compare later with a list of countries"
   ]
  },
  {
   "cell_type": "code",
   "execution_count": 14,
   "id": "2df7d944",
   "metadata": {
    "scrolled": true
   },
   "outputs": [],
   "source": [
    "df['Country'] =df['Country'].str.strip()"
   ]
  },
  {
   "cell_type": "code",
   "execution_count": 15,
   "id": "5efc97db",
   "metadata": {
    "scrolled": true
   },
   "outputs": [],
   "source": [
    "df['Country'] = df['Country'].replace([\"usa\"], 'united states')\n",
    "df['Country'] = df['Country'].replace([\"sudan?\"], 'sudan')\n",
    "df['Country'] = df['Country'].replace([\"united arab emirates (uae)\"], 'united arab emirates')\n"
   ]
  },
  {
   "cell_type": "markdown",
   "id": "e3b32ecc",
   "metadata": {},
   "source": [
    "### Creating a list of countries of the world separing them in between the north and south"
   ]
  },
  {
   "cell_type": "markdown",
   "id": "f2fa3f94",
   "metadata": {},
   "source": [
    "# pending to create a function!!!!!!!!!"
   ]
  },
  {
   "cell_type": "code",
   "execution_count": 16,
   "id": "83600d34",
   "metadata": {},
   "outputs": [],
   "source": [
    "l_country= pd.read_csv('data/list_country.csv') #we can see there's a latitude empty, so we remove it\n",
    "l_country.dropna(how= 'any',inplace= True)"
   ]
  },
  {
   "cell_type": "code",
   "execution_count": 17,
   "id": "f193064d",
   "metadata": {
    "scrolled": true
   },
   "outputs": [],
   "source": [
    "l_country[\"hemisphere\"]=l_country[\"latitude\"].apply(lambda x : \"north\" if x>0 else \"south\")\n",
    "l_country['name'] = l_country['name'].apply(lambda x: x.lower())"
   ]
  },
  {
   "cell_type": "code",
   "execution_count": 18,
   "id": "9f9b2b7f",
   "metadata": {},
   "outputs": [],
   "source": [
    "l_country.drop (labels= ['latitude','longitude'], axis= 1, inplace= True)"
   ]
  },
  {
   "cell_type": "code",
   "execution_count": 19,
   "id": "e294dfa9",
   "metadata": {},
   "outputs": [],
   "source": [
    "l_country= l_country[l_country.hemisphere == \"south\"]\n",
    "south_list= l_country['name'].values.tolist()"
   ]
  },
  {
   "cell_type": "code",
   "execution_count": 20,
   "id": "cd166c1c",
   "metadata": {
    "scrolled": true
   },
   "outputs": [
    {
     "data": {
      "text/html": [
       "<div>\n",
       "<style scoped>\n",
       "    .dataframe tbody tr th:only-of-type {\n",
       "        vertical-align: middle;\n",
       "    }\n",
       "\n",
       "    .dataframe tbody tr th {\n",
       "        vertical-align: top;\n",
       "    }\n",
       "\n",
       "    .dataframe thead th {\n",
       "        text-align: right;\n",
       "    }\n",
       "</style>\n",
       "<table border=\"1\" class=\"dataframe\">\n",
       "  <thead>\n",
       "    <tr style=\"text-align: right;\">\n",
       "      <th></th>\n",
       "      <th>name</th>\n",
       "      <th>hemisphere</th>\n",
       "    </tr>\n",
       "  </thead>\n",
       "  <tbody>\n",
       "    <tr>\n",
       "      <th>0</th>\n",
       "      <td>angola</td>\n",
       "      <td>south</td>\n",
       "    </tr>\n",
       "    <tr>\n",
       "      <th>1</th>\n",
       "      <td>antarctica</td>\n",
       "      <td>south</td>\n",
       "    </tr>\n",
       "    <tr>\n",
       "      <th>2</th>\n",
       "      <td>argentina</td>\n",
       "      <td>south</td>\n",
       "    </tr>\n",
       "    <tr>\n",
       "      <th>3</th>\n",
       "      <td>american samoa</td>\n",
       "      <td>south</td>\n",
       "    </tr>\n",
       "    <tr>\n",
       "      <th>4</th>\n",
       "      <td>australia</td>\n",
       "      <td>south</td>\n",
       "    </tr>\n",
       "    <tr>\n",
       "      <th>...</th>\n",
       "      <td>...</td>\n",
       "      <td>...</td>\n",
       "    </tr>\n",
       "    <tr>\n",
       "      <th>58</th>\n",
       "      <td>samoa</td>\n",
       "      <td>south</td>\n",
       "    </tr>\n",
       "    <tr>\n",
       "      <th>59</th>\n",
       "      <td>mayotte</td>\n",
       "      <td>south</td>\n",
       "    </tr>\n",
       "    <tr>\n",
       "      <th>60</th>\n",
       "      <td>south africa</td>\n",
       "      <td>south</td>\n",
       "    </tr>\n",
       "    <tr>\n",
       "      <th>61</th>\n",
       "      <td>zambia</td>\n",
       "      <td>south</td>\n",
       "    </tr>\n",
       "    <tr>\n",
       "      <th>62</th>\n",
       "      <td>zimbabwe</td>\n",
       "      <td>south</td>\n",
       "    </tr>\n",
       "  </tbody>\n",
       "</table>\n",
       "<p>63 rows × 2 columns</p>\n",
       "</div>"
      ],
      "text/plain": [
       "              name hemisphere\n",
       "0           angola      south\n",
       "1       antarctica      south\n",
       "2        argentina      south\n",
       "3   american samoa      south\n",
       "4        australia      south\n",
       "..             ...        ...\n",
       "58           samoa      south\n",
       "59         mayotte      south\n",
       "60    south africa      south\n",
       "61          zambia      south\n",
       "62        zimbabwe      south\n",
       "\n",
       "[63 rows x 2 columns]"
      ]
     },
     "execution_count": 20,
     "metadata": {},
     "output_type": "execute_result"
    }
   ],
   "source": [
    "l_country.reset_index(drop=True)"
   ]
  },
  {
   "cell_type": "markdown",
   "id": "2e403ecc",
   "metadata": {},
   "source": [
    "### Comparing the df's"
   ]
  },
  {
   "cell_type": "markdown",
   "id": "b74dfd74",
   "metadata": {},
   "source": [
    "- Checking both lists can find there are some discrepancies how the countries are described. so, we gonna implement some changes to adjust as much as many countries in order to match both lists"
   ]
  },
  {
   "cell_type": "code",
   "execution_count": 21,
   "id": "03f4837b",
   "metadata": {},
   "outputs": [],
   "source": [
    "ls_country_df= df['Country'].values.tolist()"
   ]
  },
  {
   "cell_type": "code",
   "execution_count": 22,
   "id": "b3294555",
   "metadata": {},
   "outputs": [],
   "source": [
    "df.set_index(['Country'], inplace=True) "
   ]
  },
  {
   "cell_type": "code",
   "execution_count": 23,
   "id": "8ab49a38",
   "metadata": {},
   "outputs": [],
   "source": [
    "lst_n_s=[]\n",
    "for i in ls_country_df:\n",
    "    if i in south_list:\n",
    "        lst_n_s.append(\"south\")\n",
    "    else:\n",
    "        lst_n_s.append(\"north\")"
   ]
  },
  {
   "cell_type": "code",
   "execution_count": 24,
   "id": "9d7bcbb7",
   "metadata": {},
   "outputs": [],
   "source": [
    "dict_={\"hemisphere\":lst_n_s, \"Country\": ls_country_df}"
   ]
  },
  {
   "cell_type": "code",
   "execution_count": 25,
   "id": "f6f9538c",
   "metadata": {},
   "outputs": [],
   "source": [
    "df_hemisphere=pd.DataFrame(dict_)"
   ]
  },
  {
   "cell_type": "code",
   "execution_count": 26,
   "id": "8ac5bae7",
   "metadata": {},
   "outputs": [],
   "source": [
    "df_hemisphere.set_index(['Country'], inplace=True) "
   ]
  },
  {
   "cell_type": "code",
   "execution_count": 27,
   "id": "d1a491d5",
   "metadata": {},
   "outputs": [],
   "source": [
    "df_concat = pd.concat([df, df_hemisphere], axis=1)"
   ]
  },
  {
   "cell_type": "markdown",
   "id": "4c1c2801",
   "metadata": {},
   "source": [
    "# UNTIL HERE NEEDS TO BE CHECKED!!!!!!!!"
   ]
  },
  {
   "cell_type": "markdown",
   "id": "cc3a697d",
   "metadata": {},
   "source": [
    "### Creating the seasons according to the hemisphere"
   ]
  },
  {
   "cell_type": "code",
   "execution_count": 28,
   "id": "bc4d5c05",
   "metadata": {},
   "outputs": [],
   "source": [
    "import re"
   ]
  },
  {
   "cell_type": "code",
   "execution_count": 29,
   "id": "5b712eaa",
   "metadata": {
    "scrolled": true
   },
   "outputs": [],
   "source": [
    "df_concat['month'] = df_concat['Date'].apply(lambda x: re.search(r'-(\\w+)-', x).group(1) if re.search(r'-(\\w+)-', x) else \"month_not_found\")"
   ]
  },
  {
   "cell_type": "code",
   "execution_count": 30,
   "id": "43f325c5",
   "metadata": {},
   "outputs": [],
   "source": [
    "df_concat.month.replace({'Ap':'Apr','July': 'Jul'}, inplace =True )"
   ]
  },
  {
   "cell_type": "code",
   "execution_count": 31,
   "id": "bab4c5d5",
   "metadata": {},
   "outputs": [
    {
     "data": {
      "text/plain": [
       "array(['Jun', 'May', 'month_not_found', 'Apr', 'Mar', 'Feb', 'Jan', 'Dec',\n",
       "       'Nov', 'Oct', 'Sep', 'Aug', 'Jul', '30'], dtype=object)"
      ]
     },
     "execution_count": 31,
     "metadata": {},
     "output_type": "execute_result"
    }
   ],
   "source": [
    "df_concat.month.unique()"
   ]
  },
  {
   "cell_type": "code",
   "execution_count": 32,
   "id": "8a60db00",
   "metadata": {},
   "outputs": [],
   "source": [
    "df_concat= df_concat[df_concat.month !='month_not_found'] "
   ]
  },
  {
   "cell_type": "code",
   "execution_count": 33,
   "id": "cfd37bc9",
   "metadata": {},
   "outputs": [],
   "source": [
    "df_concat= df_concat[df_concat.month !='30']"
   ]
  },
  {
   "cell_type": "code",
   "execution_count": 34,
   "id": "b6a30eb0",
   "metadata": {},
   "outputs": [],
   "source": [
    "df_north= df_concat.loc[df_concat['hemisphere'] == \"north\"]#subset for northern countries"
   ]
  },
  {
   "cell_type": "code",
   "execution_count": 35,
   "id": "049f5e2a",
   "metadata": {},
   "outputs": [],
   "source": [
    "df_south= df_concat.loc[df_concat['hemisphere'] == \"south\"]#subset for southern countries"
   ]
  },
  {
   "cell_type": "code",
   "execution_count": 36,
   "id": "4e4a874e",
   "metadata": {},
   "outputs": [],
   "source": [
    "def south_season(month):\n",
    "    season_month_south = {\n",
    "            'Dec':'Summer', 'Jan':'Summer', 'Feb':'Summer',\n",
    "            'Mar':'Autumn', 'Apr':'Autumn', 'May':'Autumn',\n",
    "            'Jun':'Winter', 'Jul':'Winter', 'Aug':'Winter',\n",
    "            'Sep':'Spring', 'Oct':'Spring', 'Nov':'Spring'}\n",
    "    for key, value in season_month_south.items():\n",
    "        if month in key:\n",
    "            return value"
   ]
  },
  {
   "cell_type": "code",
   "execution_count": 37,
   "id": "25ee9b7c",
   "metadata": {
    "scrolled": true
   },
   "outputs": [
    {
     "name": "stderr",
     "output_type": "stream",
     "text": [
      "/var/folders/8p/zy_zh8_j0k926kzhhbp39j9c0000gn/T/ipykernel_48891/210517750.py:1: SettingWithCopyWarning: \n",
      "A value is trying to be set on a copy of a slice from a DataFrame.\n",
      "Try using .loc[row_indexer,col_indexer] = value instead\n",
      "\n",
      "See the caveats in the documentation: https://pandas.pydata.org/pandas-docs/stable/user_guide/indexing.html#returning-a-view-versus-a-copy\n",
      "  df_south['season'] = df_south['month'].map(lambda month:south_season(month))\n"
     ]
    }
   ],
   "source": [
    "df_south['season'] = df_south['month'].map(lambda month:south_season(month))"
   ]
  },
  {
   "cell_type": "code",
   "execution_count": 38,
   "id": "41757e21",
   "metadata": {},
   "outputs": [],
   "source": [
    "def north_season(month):\n",
    "    season_month_north = {\n",
    "            'Dec':'Winter', 'Jan':'Winter', 'Feb':'Winter',\n",
    "            'Mar':'Spring', 'Apr':'Spring', 'May':'Spring',\n",
    "            'Jun':'Summer', 'Jul':'Summer', 'Aug':'Summer',\n",
    "            'Sep':'Autumn', 'Oct':'Autumn', 'Nov':'Autumn'}\n",
    "    for key, value in season_month_north.items():\n",
    "        if key in month:\n",
    "            return value"
   ]
  },
  {
   "cell_type": "code",
   "execution_count": 39,
   "id": "797ed50b",
   "metadata": {},
   "outputs": [
    {
     "name": "stderr",
     "output_type": "stream",
     "text": [
      "/var/folders/8p/zy_zh8_j0k926kzhhbp39j9c0000gn/T/ipykernel_48891/3300816878.py:1: SettingWithCopyWarning: \n",
      "A value is trying to be set on a copy of a slice from a DataFrame.\n",
      "Try using .loc[row_indexer,col_indexer] = value instead\n",
      "\n",
      "See the caveats in the documentation: https://pandas.pydata.org/pandas-docs/stable/user_guide/indexing.html#returning-a-view-versus-a-copy\n",
      "  df_north['season'] = df_north['month'].map(lambda month:north_season(month))\n"
     ]
    }
   ],
   "source": [
    "df_north['season'] = df_north['month'].map(lambda month:north_season(month))"
   ]
  },
  {
   "cell_type": "code",
   "execution_count": 40,
   "id": "a6420cb0",
   "metadata": {},
   "outputs": [
    {
     "data": {
      "text/plain": [
       "Date          2211\n",
       "Year          2211\n",
       "hemisphere    2211\n",
       "month         2211\n",
       "season        2211\n",
       "dtype: int64"
      ]
     },
     "execution_count": 40,
     "metadata": {},
     "output_type": "execute_result"
    }
   ],
   "source": [
    "df_north.count()"
   ]
  },
  {
   "cell_type": "code",
   "execution_count": 41,
   "id": "39c94997",
   "metadata": {},
   "outputs": [
    {
     "data": {
      "text/plain": [
       "Date          1638\n",
       "Year          1638\n",
       "hemisphere    1638\n",
       "month         1638\n",
       "season        1638\n",
       "dtype: int64"
      ]
     },
     "execution_count": 41,
     "metadata": {},
     "output_type": "execute_result"
    }
   ],
   "source": [
    "df_south.count()"
   ]
  },
  {
   "cell_type": "markdown",
   "id": "71ea9990",
   "metadata": {},
   "source": [
    "### Extracting the data"
   ]
  },
  {
   "cell_type": "code",
   "execution_count": 42,
   "id": "0c09bfcc",
   "metadata": {},
   "outputs": [],
   "source": [
    "import seaborn as sns\n",
    "import matplotlib.pyplot as plt\n"
   ]
  },
  {
   "cell_type": "code",
   "execution_count": 43,
   "id": "7120e8da",
   "metadata": {},
   "outputs": [
    {
     "data": {
      "text/html": [
       "<div>\n",
       "<style scoped>\n",
       "    .dataframe tbody tr th:only-of-type {\n",
       "        vertical-align: middle;\n",
       "    }\n",
       "\n",
       "    .dataframe tbody tr th {\n",
       "        vertical-align: top;\n",
       "    }\n",
       "\n",
       "    .dataframe thead th {\n",
       "        text-align: right;\n",
       "    }\n",
       "</style>\n",
       "<table border=\"1\" class=\"dataframe\">\n",
       "  <thead>\n",
       "    <tr style=\"text-align: right;\">\n",
       "      <th></th>\n",
       "      <th>Date</th>\n",
       "      <th>Year</th>\n",
       "      <th>hemisphere</th>\n",
       "      <th>month</th>\n",
       "    </tr>\n",
       "    <tr>\n",
       "      <th>season</th>\n",
       "      <th></th>\n",
       "      <th></th>\n",
       "      <th></th>\n",
       "      <th></th>\n",
       "    </tr>\n",
       "  </thead>\n",
       "  <tbody>\n",
       "    <tr>\n",
       "      <th>Autumn</th>\n",
       "      <td>602</td>\n",
       "      <td>602</td>\n",
       "      <td>602</td>\n",
       "      <td>602</td>\n",
       "    </tr>\n",
       "    <tr>\n",
       "      <th>Spring</th>\n",
       "      <td>442</td>\n",
       "      <td>442</td>\n",
       "      <td>442</td>\n",
       "      <td>442</td>\n",
       "    </tr>\n",
       "    <tr>\n",
       "      <th>Summer</th>\n",
       "      <td>917</td>\n",
       "      <td>917</td>\n",
       "      <td>917</td>\n",
       "      <td>917</td>\n",
       "    </tr>\n",
       "    <tr>\n",
       "      <th>Winter</th>\n",
       "      <td>250</td>\n",
       "      <td>250</td>\n",
       "      <td>250</td>\n",
       "      <td>250</td>\n",
       "    </tr>\n",
       "  </tbody>\n",
       "</table>\n",
       "</div>"
      ],
      "text/plain": [
       "        Date  Year  hemisphere  month\n",
       "season                               \n",
       "Autumn   602   602         602    602\n",
       "Spring   442   442         442    442\n",
       "Summer   917   917         917    917\n",
       "Winter   250   250         250    250"
      ]
     },
     "execution_count": 43,
     "metadata": {},
     "output_type": "execute_result"
    }
   ],
   "source": [
    "df_north.groupby(\"season\").agg(\"count\")"
   ]
  },
  {
   "cell_type": "code",
   "execution_count": 44,
   "id": "290e527f",
   "metadata": {},
   "outputs": [
    {
     "data": {
      "image/png": "[encoded data removed]",
      "text/plain": [
       "<Figure size 432x288 with 1 Axes>"
      ]
     },
     "metadata": {
      "needs_background": "light"
     },
     "output_type": "display_data"
    }
   ],
   "source": [
    "fig_north= sns.countplot(x=df_north.season).set(title='Northern Hemisphere');"
   ]
  },
  {
   "cell_type": "code",
   "execution_count": 45,
   "id": "604423ee",
   "metadata": {},
   "outputs": [
    {
     "data": {
      "text/html": [
       "<div>\n",
       "<style scoped>\n",
       "    .dataframe tbody tr th:only-of-type {\n",
       "        vertical-align: middle;\n",
       "    }\n",
       "\n",
       "    .dataframe tbody tr th {\n",
       "        vertical-align: top;\n",
       "    }\n",
       "\n",
       "    .dataframe thead th {\n",
       "        text-align: right;\n",
       "    }\n",
       "</style>\n",
       "<table border=\"1\" class=\"dataframe\">\n",
       "  <thead>\n",
       "    <tr style=\"text-align: right;\">\n",
       "      <th></th>\n",
       "      <th>Date</th>\n",
       "      <th>Year</th>\n",
       "      <th>hemisphere</th>\n",
       "      <th>month</th>\n",
       "    </tr>\n",
       "    <tr>\n",
       "      <th>season</th>\n",
       "      <th></th>\n",
       "      <th></th>\n",
       "      <th></th>\n",
       "      <th></th>\n",
       "    </tr>\n",
       "  </thead>\n",
       "  <tbody>\n",
       "    <tr>\n",
       "      <th>Autumn</th>\n",
       "      <td>394</td>\n",
       "      <td>394</td>\n",
       "      <td>394</td>\n",
       "      <td>394</td>\n",
       "    </tr>\n",
       "    <tr>\n",
       "      <th>Spring</th>\n",
       "      <td>338</td>\n",
       "      <td>338</td>\n",
       "      <td>338</td>\n",
       "      <td>338</td>\n",
       "    </tr>\n",
       "    <tr>\n",
       "      <th>Summer</th>\n",
       "      <td>652</td>\n",
       "      <td>652</td>\n",
       "      <td>652</td>\n",
       "      <td>652</td>\n",
       "    </tr>\n",
       "    <tr>\n",
       "      <th>Winter</th>\n",
       "      <td>254</td>\n",
       "      <td>254</td>\n",
       "      <td>254</td>\n",
       "      <td>254</td>\n",
       "    </tr>\n",
       "  </tbody>\n",
       "</table>\n",
       "</div>"
      ],
      "text/plain": [
       "        Date  Year  hemisphere  month\n",
       "season                               \n",
       "Autumn   394   394         394    394\n",
       "Spring   338   338         338    338\n",
       "Summer   652   652         652    652\n",
       "Winter   254   254         254    254"
      ]
     },
     "execution_count": 45,
     "metadata": {},
     "output_type": "execute_result"
    }
   ],
   "source": [
    "df_south.groupby(\"season\").agg(\"count\")"
   ]
  },
  {
   "cell_type": "code",
   "execution_count": 46,
   "id": "63464500",
   "metadata": {},
   "outputs": [
    {
     "data": {
      "image/png": "[encoded data removed]",
      "text/plain": [
       "<Figure size 432x288 with 1 Axes>"
      ]
     },
     "metadata": {
      "needs_background": "light"
     },
     "output_type": "display_data"
    }
   ],
   "source": [
    "fig_south = sns.countplot(x=df_south.season).set(title='Southern Hemisphere');"
   ]
  },
  {
   "cell_type": "code",
   "execution_count": 47,
   "id": "8aeef5f7",
   "metadata": {},
   "outputs": [],
   "source": [
    "\n",
    "df_both_hemisp_ = pd.concat([df_north, df_south], ignore_index=True, sort=False)"
   ]
  },
  {
   "cell_type": "code",
   "execution_count": 48,
   "id": "2446d6ea",
   "metadata": {},
   "outputs": [
    {
     "data": {
      "text/html": [
       "<div>\n",
       "<style scoped>\n",
       "    .dataframe tbody tr th:only-of-type {\n",
       "        vertical-align: middle;\n",
       "    }\n",
       "\n",
       "    .dataframe tbody tr th {\n",
       "        vertical-align: top;\n",
       "    }\n",
       "\n",
       "    .dataframe thead th {\n",
       "        text-align: right;\n",
       "    }\n",
       "</style>\n",
       "<table border=\"1\" class=\"dataframe\">\n",
       "  <thead>\n",
       "    <tr style=\"text-align: right;\">\n",
       "      <th></th>\n",
       "      <th>Date</th>\n",
       "      <th>Year</th>\n",
       "      <th>hemisphere</th>\n",
       "      <th>month</th>\n",
       "    </tr>\n",
       "    <tr>\n",
       "      <th>season</th>\n",
       "      <th></th>\n",
       "      <th></th>\n",
       "      <th></th>\n",
       "      <th></th>\n",
       "    </tr>\n",
       "  </thead>\n",
       "  <tbody>\n",
       "    <tr>\n",
       "      <th>Autumn</th>\n",
       "      <td>996</td>\n",
       "      <td>996</td>\n",
       "      <td>996</td>\n",
       "      <td>996</td>\n",
       "    </tr>\n",
       "    <tr>\n",
       "      <th>Spring</th>\n",
       "      <td>780</td>\n",
       "      <td>780</td>\n",
       "      <td>780</td>\n",
       "      <td>780</td>\n",
       "    </tr>\n",
       "    <tr>\n",
       "      <th>Summer</th>\n",
       "      <td>1569</td>\n",
       "      <td>1569</td>\n",
       "      <td>1569</td>\n",
       "      <td>1569</td>\n",
       "    </tr>\n",
       "    <tr>\n",
       "      <th>Winter</th>\n",
       "      <td>504</td>\n",
       "      <td>504</td>\n",
       "      <td>504</td>\n",
       "      <td>504</td>\n",
       "    </tr>\n",
       "  </tbody>\n",
       "</table>\n",
       "</div>"
      ],
      "text/plain": [
       "        Date  Year  hemisphere  month\n",
       "season                               \n",
       "Autumn   996   996         996    996\n",
       "Spring   780   780         780    780\n",
       "Summer  1569  1569        1569   1569\n",
       "Winter   504   504         504    504"
      ]
     },
     "execution_count": 48,
     "metadata": {},
     "output_type": "execute_result"
    }
   ],
   "source": [
    "df_both_hemisp_.groupby(\"season\").agg(\"count\")"
   ]
  },
  {
   "cell_type": "code",
   "execution_count": 49,
   "id": "b69bd90b",
   "metadata": {},
   "outputs": [
    {
     "data": {
      "image/png": "[encoded data removed]",
      "text/plain": [
       "<Figure size 432x288 with 1 Axes>"
      ]
     },
     "metadata": {
      "needs_background": "light"
     },
     "output_type": "display_data"
    }
   ],
   "source": [
    "fig_both = sns.countplot(x=df_both_hemisp_.season).set(title='Both Hemispheres Together');"
   ]
  },
  {
   "cell_type": "code",
   "execution_count": 52,
   "id": "e1c360d6",
   "metadata": {},
   "outputs": [
    {
     "ename": "AttributeError",
     "evalue": "'list' object has no attribute 'save'",
     "output_type": "error",
     "traceback": [
      "\u001b[0;31m---------------------------------------------------------------------------\u001b[0m",
      "\u001b[0;31mAttributeError\u001b[0m                            Traceback (most recent call last)",
      "Input \u001b[0;32mIn [52]\u001b[0m, in \u001b[0;36m<cell line: 1>\u001b[0;34m()\u001b[0m\n\u001b[0;32m----> 1\u001b[0m \u001b[43mfig_both\u001b[49m\u001b[38;5;241;43m.\u001b[39;49m\u001b[43msave\u001b[49m(\u001b[38;5;124m\"\u001b[39m\u001b[38;5;124mimage.png\u001b[39m\u001b[38;5;124m\"\u001b[39m)\n",
      "\u001b[0;31mAttributeError\u001b[0m: 'list' object has no attribute 'save'"
     ]
    }
   ],
   "source": [
    "fig_both.save(\"image.png\")"
   ]
  },
  {
   "cell_type": "code",
   "execution_count": null,
   "id": "a9f1aada",
   "metadata": {},
   "outputs": [],
   "source": []
  }
 ],
 "metadata": {
  "kernelspec": {
   "display_name": "ironhack",
   "language": "python",
   "name": "ironhack"
  },
  "language_info": {
   "codemirror_mode": {
    "name": "ipython",
    "version": 3
   },
   "file_extension": ".py",
   "mimetype": "text/x-python",
   "name": "python",
   "nbconvert_exporter": "python",
   "pygments_lexer": "ipython3",
   "version": "3.9.15"
  },
  "toc": {
   "base_numbering": 1,
   "nav_menu": {},
   "number_sections": true,
   "sideBar": true,
   "skip_h1_title": false,
   "title_cell": "Table of Contents",
   "title_sidebar": "Contents",
   "toc_cell": false,
   "toc_position": {},
   "toc_section_display": true,
   "toc_window_display": false
  },
  "vscode": {
   "interpreter": {
    "hash": "65c280bfb1607ddbce30fd0ce3f06f418f353a9e23ac72900d787e513dca203b"
   }
  }
 },
 "nbformat": 4,
 "nbformat_minor": 5
}
