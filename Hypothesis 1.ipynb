{
 "cells": [
  {
   "cell_type": "markdown",
   "id": "24329c8b",
   "metadata": {},
   "source": [
    "## Checking if attacks happen more in summer than other seasons"
   ]
  },
  {
   "cell_type": "code",
   "execution_count": 1,
   "id": "01b0c671",
   "metadata": {},
   "outputs": [],
   "source": [
    "import numpy as np\n",
    "import pandas as pd"
   ]
  },
  {
   "cell_type": "code",
   "execution_count": 2,
   "id": "65554156",
   "metadata": {},
   "outputs": [],
   "source": [
    "df= pd.read_csv(\"data/attacks.csv\", encoding='cp1252')"
   ]
  },
  {
   "cell_type": "code",
   "execution_count": 3,
   "id": "49d3cd82",
   "metadata": {},
   "outputs": [
    {
     "data": {
      "text/plain": [
       "(25723, 24)"
      ]
     },
     "execution_count": 3,
     "metadata": {},
     "output_type": "execute_result"
    }
   ],
   "source": [
    "df.shape"
   ]
  },
  {
   "cell_type": "code",
   "execution_count": 4,
   "id": "2153b23d",
   "metadata": {
    "scrolled": true
   },
   "outputs": [
    {
     "name": "stdout",
     "output_type": "stream",
     "text": [
      "<class 'pandas.core.frame.DataFrame'>\n",
      "RangeIndex: 25723 entries, 0 to 25722\n",
      "Data columns (total 24 columns):\n",
      " #   Column                  Non-Null Count  Dtype  \n",
      "---  ------                  --------------  -----  \n",
      " 0   Case Number             8702 non-null   object \n",
      " 1   Date                    6302 non-null   object \n",
      " 2   Year                    6300 non-null   float64\n",
      " 3   Type                    6298 non-null   object \n",
      " 4   Country                 6252 non-null   object \n",
      " 5   Area                    5847 non-null   object \n",
      " 6   Location                5762 non-null   object \n",
      " 7   Activity                5758 non-null   object \n",
      " 8   Name                    6092 non-null   object \n",
      " 9   Sex                     5737 non-null   object \n",
      " 10  Age                     3471 non-null   object \n",
      " 11  Injury                  6274 non-null   object \n",
      " 12  Fatal (Y/N)             5763 non-null   object \n",
      " 13  Time                    2948 non-null   object \n",
      " 14  Species                 3464 non-null   object \n",
      " 15  Investigator or Source  6285 non-null   object \n",
      " 16  pdf                     6302 non-null   object \n",
      " 17  href formula            6301 non-null   object \n",
      " 18  href                    6302 non-null   object \n",
      " 19  Case Number.1           6302 non-null   object \n",
      " 20  Case Number.2           6302 non-null   object \n",
      " 21  original order          6309 non-null   float64\n",
      " 22  Unnamed: 22             1 non-null      object \n",
      " 23  Unnamed: 23             2 non-null      object \n",
      "dtypes: float64(2), object(22)\n",
      "memory usage: 4.7+ MB\n"
     ]
    }
   ],
   "source": [
    "df.info() #check out the info of the table"
   ]
  },
  {
   "cell_type": "markdown",
   "id": "59410703",
   "metadata": {},
   "source": [
    "### dropping all duplicated and empty rows\n",
    "- create a fucntion called general cleaning"
   ]
  },
  {
   "cell_type": "code",
   "execution_count": 5,
   "id": "5a150218",
   "metadata": {},
   "outputs": [],
   "source": [
    "df.drop_duplicates(inplace= True) #remove all the values duplicated"
   ]
  },
  {
   "cell_type": "code",
   "execution_count": 6,
   "id": "49b971eb",
   "metadata": {},
   "outputs": [
    {
     "data": {
      "text/plain": [
       "(6312, 24)"
      ]
     },
     "execution_count": 6,
     "metadata": {},
     "output_type": "execute_result"
    }
   ],
   "source": [
    "df.shape"
   ]
  },
  {
   "cell_type": "code",
   "execution_count": 7,
   "id": "9850dd91",
   "metadata": {},
   "outputs": [],
   "source": [
    "df.dropna(how= 'all',inplace= True) #removed all the rows which all the values were NaN."
   ]
  },
  {
   "cell_type": "code",
   "execution_count": 8,
   "id": "29a517d2",
   "metadata": {},
   "outputs": [
    {
     "data": {
      "text/plain": [
       "(6311, 24)"
      ]
     },
     "execution_count": 8,
     "metadata": {},
     "output_type": "execute_result"
    }
   ],
   "source": [
    "df.shape"
   ]
  },
  {
   "cell_type": "code",
   "execution_count": 9,
   "id": "ec1ace6e",
   "metadata": {},
   "outputs": [
    {
     "data": {
      "text/html": [
       "<div>\n",
       "<style scoped>\n",
       "    .dataframe tbody tr th:only-of-type {\n",
       "        vertical-align: middle;\n",
       "    }\n",
       "\n",
       "    .dataframe tbody tr th {\n",
       "        vertical-align: top;\n",
       "    }\n",
       "\n",
       "    .dataframe thead th {\n",
       "        text-align: right;\n",
       "    }\n",
       "</style>\n",
       "<table border=\"1\" class=\"dataframe\">\n",
       "  <thead>\n",
       "    <tr style=\"text-align: right;\">\n",
       "      <th></th>\n",
       "      <th>Case Number</th>\n",
       "      <th>Date</th>\n",
       "      <th>Year</th>\n",
       "      <th>Type</th>\n",
       "      <th>Country</th>\n",
       "      <th>Area</th>\n",
       "      <th>Location</th>\n",
       "      <th>Activity</th>\n",
       "      <th>Name</th>\n",
       "      <th>Sex</th>\n",
       "      <th>...</th>\n",
       "      <th>Species</th>\n",
       "      <th>Investigator or Source</th>\n",
       "      <th>pdf</th>\n",
       "      <th>href formula</th>\n",
       "      <th>href</th>\n",
       "      <th>Case Number.1</th>\n",
       "      <th>Case Number.2</th>\n",
       "      <th>original order</th>\n",
       "      <th>Unnamed: 22</th>\n",
       "      <th>Unnamed: 23</th>\n",
       "    </tr>\n",
       "  </thead>\n",
       "  <tbody>\n",
       "    <tr>\n",
       "      <th>3851</th>\n",
       "      <td>1962.01.11.a</td>\n",
       "      <td>11-Jan-1962</td>\n",
       "      <td>1962.0</td>\n",
       "      <td>Unprovoked</td>\n",
       "      <td>NEW ZEALAND</td>\n",
       "      <td>South Island</td>\n",
       "      <td>Fairdown Beach, 5 miles north of Westport</td>\n",
       "      <td>Surf fishing</td>\n",
       "      <td>Mrs. Beryl Grant</td>\n",
       "      <td>F</td>\n",
       "      <td>...</td>\n",
       "      <td>36\"  shark</td>\n",
       "      <td>R. D. Weeks, GSAF; Dr. C. Foote; The Evening P...</td>\n",
       "      <td>1962.01.11.a-BerylGrant.pdf</td>\n",
       "      <td>http://sharkattackfile.net/spreadsheets/pdf_di...</td>\n",
       "      <td>http://sharkattackfile.net/spreadsheets/pdf_di...</td>\n",
       "      <td>1962.01.11.a</td>\n",
       "      <td>1962.01.11.a</td>\n",
       "      <td>2452.0</td>\n",
       "      <td>NaN</td>\n",
       "      <td>NaN</td>\n",
       "    </tr>\n",
       "  </tbody>\n",
       "</table>\n",
       "<p>1 rows × 24 columns</p>\n",
       "</div>"
      ],
      "text/plain": [
       "       Case Number         Date    Year        Type      Country  \\\n",
       "3851  1962.01.11.a  11-Jan-1962  1962.0  Unprovoked  NEW ZEALAND   \n",
       "\n",
       "              Area                                   Location      Activity  \\\n",
       "3851  South Island  Fairdown Beach, 5 miles north of Westport  Surf fishing   \n",
       "\n",
       "                  Name Sex   ...    Species   \\\n",
       "3851  Mrs. Beryl Grant    F  ...  36\"  shark   \n",
       "\n",
       "                                 Investigator or Source  \\\n",
       "3851  R. D. Weeks, GSAF; Dr. C. Foote; The Evening P...   \n",
       "\n",
       "                              pdf  \\\n",
       "3851  1962.01.11.a-BerylGrant.pdf   \n",
       "\n",
       "                                           href formula  \\\n",
       "3851  http://sharkattackfile.net/spreadsheets/pdf_di...   \n",
       "\n",
       "                                                   href Case Number.1  \\\n",
       "3851  http://sharkattackfile.net/spreadsheets/pdf_di...  1962.01.11.a   \n",
       "\n",
       "     Case Number.2 original order Unnamed: 22 Unnamed: 23  \n",
       "3851  1962.01.11.a         2452.0         NaN         NaN  \n",
       "\n",
       "[1 rows x 24 columns]"
      ]
     },
     "execution_count": 9,
     "metadata": {},
     "output_type": "execute_result"
    }
   ],
   "source": [
    "df.sample()"
   ]
  },
  {
   "cell_type": "markdown",
   "id": "0935026d",
   "metadata": {
    "scrolled": true
   },
   "source": [
    "### Eliminating all the columns are not useful for the hypothesis and rows without the all data it's necesary \n",
    "- cleaning data not useful"
   ]
  },
  {
   "cell_type": "code",
   "execution_count": 10,
   "id": "314b235e",
   "metadata": {},
   "outputs": [
    {
     "data": {
      "text/plain": [
       "Index(['Case Number', 'Date', 'Year', 'Type', 'Country', 'Area', 'Location',\n",
       "       'Activity', 'Name', 'Sex ', 'Age', 'Injury', 'Fatal (Y/N)', 'Time',\n",
       "       'Species ', 'Investigator or Source', 'pdf', 'href formula', 'href',\n",
       "       'Case Number.1', 'Case Number.2', 'original order', 'Unnamed: 22',\n",
       "       'Unnamed: 23'],\n",
       "      dtype='object')"
      ]
     },
     "execution_count": 10,
     "metadata": {},
     "output_type": "execute_result"
    }
   ],
   "source": [
    "df.columns"
   ]
  },
  {
   "cell_type": "code",
   "execution_count": 11,
   "id": "22ae9b78",
   "metadata": {},
   "outputs": [],
   "source": [
    "df.drop (labels= ['Case Number', 'Type', 'Activity', 'Name', 'Sex ', 'Age', 'Injury', 'Fatal (Y/N)', 'Time', 'Species ', 'Investigator or Source', 'pdf', 'href formula', 'href', 'Case Number.1', 'Case Number.2', 'Unnamed: 22', 'Unnamed: 23', 'original order', 'Area', 'Location'], axis= 1, inplace= True)"
   ]
  },
  {
   "cell_type": "code",
   "execution_count": 12,
   "id": "26deb656",
   "metadata": {},
   "outputs": [
    {
     "data": {
      "text/html": [
       "<div>\n",
       "<style scoped>\n",
       "    .dataframe tbody tr th:only-of-type {\n",
       "        vertical-align: middle;\n",
       "    }\n",
       "\n",
       "    .dataframe tbody tr th {\n",
       "        vertical-align: top;\n",
       "    }\n",
       "\n",
       "    .dataframe thead th {\n",
       "        text-align: right;\n",
       "    }\n",
       "</style>\n",
       "<table border=\"1\" class=\"dataframe\">\n",
       "  <thead>\n",
       "    <tr style=\"text-align: right;\">\n",
       "      <th></th>\n",
       "      <th>Date</th>\n",
       "      <th>Year</th>\n",
       "      <th>Country</th>\n",
       "    </tr>\n",
       "  </thead>\n",
       "  <tbody>\n",
       "    <tr>\n",
       "      <th>0</th>\n",
       "      <td>25-Jun-2018</td>\n",
       "      <td>2018.0</td>\n",
       "      <td>USA</td>\n",
       "    </tr>\n",
       "    <tr>\n",
       "      <th>1</th>\n",
       "      <td>18-Jun-2018</td>\n",
       "      <td>2018.0</td>\n",
       "      <td>USA</td>\n",
       "    </tr>\n",
       "    <tr>\n",
       "      <th>2</th>\n",
       "      <td>09-Jun-2018</td>\n",
       "      <td>2018.0</td>\n",
       "      <td>USA</td>\n",
       "    </tr>\n",
       "    <tr>\n",
       "      <th>3</th>\n",
       "      <td>08-Jun-2018</td>\n",
       "      <td>2018.0</td>\n",
       "      <td>AUSTRALIA</td>\n",
       "    </tr>\n",
       "    <tr>\n",
       "      <th>4</th>\n",
       "      <td>04-Jun-2018</td>\n",
       "      <td>2018.0</td>\n",
       "      <td>MEXICO</td>\n",
       "    </tr>\n",
       "  </tbody>\n",
       "</table>\n",
       "</div>"
      ],
      "text/plain": [
       "          Date    Year    Country\n",
       "0  25-Jun-2018  2018.0        USA\n",
       "1  18-Jun-2018  2018.0        USA\n",
       "2  09-Jun-2018  2018.0        USA\n",
       "3  08-Jun-2018  2018.0  AUSTRALIA\n",
       "4  04-Jun-2018  2018.0     MEXICO"
      ]
     },
     "execution_count": 12,
     "metadata": {},
     "output_type": "execute_result"
    }
   ],
   "source": [
    "df.head()"
   ]
  },
  {
   "cell_type": "markdown",
   "id": "419e0629",
   "metadata": {},
   "source": [
    "### Deleting all the incidents happened before 1946 when the World Tourism Organization was created"
   ]
  },
  {
   "cell_type": "code",
   "execution_count": 13,
   "id": "0c1ff213",
   "metadata": {},
   "outputs": [],
   "source": [
    "df=df[df[\"Year\"]>=1946] #remove the row before the year "
   ]
  },
  {
   "cell_type": "code",
   "execution_count": 14,
   "id": "8eb4fe31",
   "metadata": {},
   "outputs": [],
   "source": [
    "df['Year'] = df['Year'].astype('str') # remove the .0 format to have a proper year\n",
    "df['Year'] = df['Year'].map(lambda x: x.rstrip('.0'))\n",
    "df['Year'] = df['Year'].astype('int')"
   ]
  },
  {
   "cell_type": "code",
   "execution_count": 15,
   "id": "e1522f32",
   "metadata": {},
   "outputs": [],
   "source": [
    "df.dropna(subset = ['Country'], inplace=True) # remove all the empty values for country"
   ]
  },
  {
   "cell_type": "code",
   "execution_count": 16,
   "id": "7a7c1c42",
   "metadata": {},
   "outputs": [],
   "source": [
    "df['Country'] = df['Country'].apply(lambda x: x.lower())#lowercase to compare later with a list of countries"
   ]
  },
  {
   "cell_type": "code",
   "execution_count": 17,
   "id": "2df7d944",
   "metadata": {
    "scrolled": true
   },
   "outputs": [],
   "source": [
    "df['Country'] =df['Country'].str.strip()"
   ]
  },
  {
   "cell_type": "code",
   "execution_count": 18,
   "id": "5efc97db",
   "metadata": {
    "scrolled": true
   },
   "outputs": [],
   "source": [
    "df['Country'] = df['Country'].replace([\"usa\"], 'united states')\n",
    "df['Country'] = df['Country'].replace([\"sudan?\"], 'sudan')\n",
    "df['Country'] = df['Country'].replace([\"united arab emirates (uae)\"], 'united arab emirates')\n"
   ]
  },
  {
   "cell_type": "markdown",
   "id": "e3b32ecc",
   "metadata": {},
   "source": [
    "### Creating a list of countries of the world separing them in between the north and south"
   ]
  },
  {
   "cell_type": "markdown",
   "id": "f2fa3f94",
   "metadata": {},
   "source": [
    "- can be created as a function"
   ]
  },
  {
   "cell_type": "code",
   "execution_count": 19,
   "id": "83600d34",
   "metadata": {},
   "outputs": [],
   "source": [
    "l_country= pd.read_csv('data/list_country.csv') #we can see there's a latitude empty, so we remove it\n",
    "l_country.dropna(how= 'any',inplace= True)"
   ]
  },
  {
   "cell_type": "code",
   "execution_count": 20,
   "id": "f193064d",
   "metadata": {
    "scrolled": true
   },
   "outputs": [],
   "source": [
    "l_country[\"hemisphere\"]=l_country[\"latitude\"].apply(lambda x : \"north\" if x>0 else \"south\")\n",
    "l_country['name'] = l_country['name'].apply(lambda x: x.lower())"
   ]
  },
  {
   "cell_type": "code",
   "execution_count": 21,
   "id": "9f9b2b7f",
   "metadata": {},
   "outputs": [],
   "source": [
    "l_country.drop (labels= ['latitude','longitude'], axis= 1, inplace= True)"
   ]
  },
  {
   "cell_type": "code",
   "execution_count": 22,
   "id": "e294dfa9",
   "metadata": {},
   "outputs": [],
   "source": [
    "l_country= l_country[l_country.hemisphere == \"south\"]\n",
    "south_list= l_country['name'].values.tolist()"
   ]
  },
  {
   "cell_type": "code",
   "execution_count": 23,
   "id": "5d6e6bf6",
   "metadata": {},
   "outputs": [
    {
     "data": {
      "text/html": [
       "<div>\n",
       "<style scoped>\n",
       "    .dataframe tbody tr th:only-of-type {\n",
       "        vertical-align: middle;\n",
       "    }\n",
       "\n",
       "    .dataframe tbody tr th {\n",
       "        vertical-align: top;\n",
       "    }\n",
       "\n",
       "    .dataframe thead th {\n",
       "        text-align: right;\n",
       "    }\n",
       "</style>\n",
       "<table border=\"1\" class=\"dataframe\">\n",
       "  <thead>\n",
       "    <tr style=\"text-align: right;\">\n",
       "      <th></th>\n",
       "      <th>name</th>\n",
       "      <th>hemisphere</th>\n",
       "    </tr>\n",
       "  </thead>\n",
       "  <tbody>\n",
       "    <tr>\n",
       "      <th>8</th>\n",
       "      <td>angola</td>\n",
       "      <td>south</td>\n",
       "    </tr>\n",
       "    <tr>\n",
       "      <th>9</th>\n",
       "      <td>antarctica</td>\n",
       "      <td>south</td>\n",
       "    </tr>\n",
       "    <tr>\n",
       "      <th>10</th>\n",
       "      <td>argentina</td>\n",
       "      <td>south</td>\n",
       "    </tr>\n",
       "    <tr>\n",
       "      <th>11</th>\n",
       "      <td>american samoa</td>\n",
       "      <td>south</td>\n",
       "    </tr>\n",
       "    <tr>\n",
       "      <th>13</th>\n",
       "      <td>australia</td>\n",
       "      <td>south</td>\n",
       "    </tr>\n",
       "  </tbody>\n",
       "</table>\n",
       "</div>"
      ],
      "text/plain": [
       "              name hemisphere\n",
       "8           angola      south\n",
       "9       antarctica      south\n",
       "10       argentina      south\n",
       "11  american samoa      south\n",
       "13       australia      south"
      ]
     },
     "execution_count": 23,
     "metadata": {},
     "output_type": "execute_result"
    }
   ],
   "source": [
    "l_country.head()"
   ]
  },
  {
   "cell_type": "code",
   "execution_count": 24,
   "id": "cd166c1c",
   "metadata": {
    "scrolled": true
   },
   "outputs": [
    {
     "data": {
      "text/html": [
       "<div>\n",
       "<style scoped>\n",
       "    .dataframe tbody tr th:only-of-type {\n",
       "        vertical-align: middle;\n",
       "    }\n",
       "\n",
       "    .dataframe tbody tr th {\n",
       "        vertical-align: top;\n",
       "    }\n",
       "\n",
       "    .dataframe thead th {\n",
       "        text-align: right;\n",
       "    }\n",
       "</style>\n",
       "<table border=\"1\" class=\"dataframe\">\n",
       "  <thead>\n",
       "    <tr style=\"text-align: right;\">\n",
       "      <th></th>\n",
       "      <th>name</th>\n",
       "      <th>hemisphere</th>\n",
       "    </tr>\n",
       "  </thead>\n",
       "  <tbody>\n",
       "    <tr>\n",
       "      <th>0</th>\n",
       "      <td>angola</td>\n",
       "      <td>south</td>\n",
       "    </tr>\n",
       "    <tr>\n",
       "      <th>1</th>\n",
       "      <td>antarctica</td>\n",
       "      <td>south</td>\n",
       "    </tr>\n",
       "    <tr>\n",
       "      <th>2</th>\n",
       "      <td>argentina</td>\n",
       "      <td>south</td>\n",
       "    </tr>\n",
       "    <tr>\n",
       "      <th>3</th>\n",
       "      <td>american samoa</td>\n",
       "      <td>south</td>\n",
       "    </tr>\n",
       "    <tr>\n",
       "      <th>4</th>\n",
       "      <td>australia</td>\n",
       "      <td>south</td>\n",
       "    </tr>\n",
       "    <tr>\n",
       "      <th>...</th>\n",
       "      <td>...</td>\n",
       "      <td>...</td>\n",
       "    </tr>\n",
       "    <tr>\n",
       "      <th>58</th>\n",
       "      <td>samoa</td>\n",
       "      <td>south</td>\n",
       "    </tr>\n",
       "    <tr>\n",
       "      <th>59</th>\n",
       "      <td>mayotte</td>\n",
       "      <td>south</td>\n",
       "    </tr>\n",
       "    <tr>\n",
       "      <th>60</th>\n",
       "      <td>south africa</td>\n",
       "      <td>south</td>\n",
       "    </tr>\n",
       "    <tr>\n",
       "      <th>61</th>\n",
       "      <td>zambia</td>\n",
       "      <td>south</td>\n",
       "    </tr>\n",
       "    <tr>\n",
       "      <th>62</th>\n",
       "      <td>zimbabwe</td>\n",
       "      <td>south</td>\n",
       "    </tr>\n",
       "  </tbody>\n",
       "</table>\n",
       "<p>63 rows × 2 columns</p>\n",
       "</div>"
      ],
      "text/plain": [
       "              name hemisphere\n",
       "0           angola      south\n",
       "1       antarctica      south\n",
       "2        argentina      south\n",
       "3   american samoa      south\n",
       "4        australia      south\n",
       "..             ...        ...\n",
       "58           samoa      south\n",
       "59         mayotte      south\n",
       "60    south africa      south\n",
       "61          zambia      south\n",
       "62        zimbabwe      south\n",
       "\n",
       "[63 rows x 2 columns]"
      ]
     },
     "execution_count": 24,
     "metadata": {},
     "output_type": "execute_result"
    }
   ],
   "source": [
    "l_country.reset_index(drop=True)"
   ]
  },
  {
   "cell_type": "markdown",
   "id": "2e403ecc",
   "metadata": {},
   "source": [
    "### Comparing the df's"
   ]
  },
  {
   "cell_type": "markdown",
   "id": "b74dfd74",
   "metadata": {},
   "source": [
    "- Checking both lists can find there are some discrepancies how the countries are described. so, we gonna implement some changes to adjust as much as many countries in order to match both lists"
   ]
  },
  {
   "cell_type": "code",
   "execution_count": 25,
   "id": "03f4837b",
   "metadata": {},
   "outputs": [],
   "source": [
    "ls_country_df= df['Country'].values.tolist()"
   ]
  },
  {
   "cell_type": "code",
   "execution_count": 26,
   "id": "b3294555",
   "metadata": {},
   "outputs": [],
   "source": [
    "df.set_index(['Country'], inplace=True) "
   ]
  },
  {
   "cell_type": "code",
   "execution_count": 27,
   "id": "8ab49a38",
   "metadata": {},
   "outputs": [],
   "source": [
    "lst_n_s=[]\n",
    "for i in ls_country_df:\n",
    "    if i in south_list:\n",
    "        lst_n_s.append(\"south\")\n",
    "    else:\n",
    "        lst_n_s.append(\"north\")"
   ]
  },
  {
   "cell_type": "code",
   "execution_count": 28,
   "id": "9d7bcbb7",
   "metadata": {},
   "outputs": [],
   "source": [
    "dict_={\"hemisphere\":lst_n_s, \"Country\": ls_country_df}"
   ]
  },
  {
   "cell_type": "code",
   "execution_count": 29,
   "id": "f6f9538c",
   "metadata": {},
   "outputs": [],
   "source": [
    "df_hemisphere=pd.DataFrame(dict_)"
   ]
  },
  {
   "cell_type": "code",
   "execution_count": 30,
   "id": "8ac5bae7",
   "metadata": {},
   "outputs": [],
   "source": [
    "df_hemisphere.set_index(['Country'], inplace=True) "
   ]
  },
  {
   "cell_type": "code",
   "execution_count": 31,
   "id": "d1a491d5",
   "metadata": {},
   "outputs": [],
   "source": [
    "df_concat = pd.concat([df, df_hemisphere], axis=1)"
   ]
  },
  {
   "cell_type": "code",
   "execution_count": 32,
   "id": "36b6d79c",
   "metadata": {},
   "outputs": [
    {
     "data": {
      "text/html": [
       "<div>\n",
       "<style scoped>\n",
       "    .dataframe tbody tr th:only-of-type {\n",
       "        vertical-align: middle;\n",
       "    }\n",
       "\n",
       "    .dataframe tbody tr th {\n",
       "        vertical-align: top;\n",
       "    }\n",
       "\n",
       "    .dataframe thead th {\n",
       "        text-align: right;\n",
       "    }\n",
       "</style>\n",
       "<table border=\"1\" class=\"dataframe\">\n",
       "  <thead>\n",
       "    <tr style=\"text-align: right;\">\n",
       "      <th></th>\n",
       "      <th>Date</th>\n",
       "      <th>Year</th>\n",
       "      <th>hemisphere</th>\n",
       "    </tr>\n",
       "    <tr>\n",
       "      <th>Country</th>\n",
       "      <th></th>\n",
       "      <th></th>\n",
       "      <th></th>\n",
       "    </tr>\n",
       "  </thead>\n",
       "  <tbody>\n",
       "    <tr>\n",
       "      <th>united states</th>\n",
       "      <td>25-Jun-2018</td>\n",
       "      <td>2018</td>\n",
       "      <td>north</td>\n",
       "    </tr>\n",
       "    <tr>\n",
       "      <th>united states</th>\n",
       "      <td>18-Jun-2018</td>\n",
       "      <td>2018</td>\n",
       "      <td>north</td>\n",
       "    </tr>\n",
       "    <tr>\n",
       "      <th>united states</th>\n",
       "      <td>09-Jun-2018</td>\n",
       "      <td>2018</td>\n",
       "      <td>north</td>\n",
       "    </tr>\n",
       "    <tr>\n",
       "      <th>australia</th>\n",
       "      <td>08-Jun-2018</td>\n",
       "      <td>2018</td>\n",
       "      <td>south</td>\n",
       "    </tr>\n",
       "    <tr>\n",
       "      <th>mexico</th>\n",
       "      <td>04-Jun-2018</td>\n",
       "      <td>2018</td>\n",
       "      <td>north</td>\n",
       "    </tr>\n",
       "    <tr>\n",
       "      <th>...</th>\n",
       "      <td>...</td>\n",
       "      <td>...</td>\n",
       "      <td>...</td>\n",
       "    </tr>\n",
       "    <tr>\n",
       "      <th>australia</th>\n",
       "      <td>05-Jan-1946</td>\n",
       "      <td>1946</td>\n",
       "      <td>south</td>\n",
       "    </tr>\n",
       "    <tr>\n",
       "      <th>south africa</th>\n",
       "      <td>01-Jan-1946</td>\n",
       "      <td>1946</td>\n",
       "      <td>south</td>\n",
       "    </tr>\n",
       "    <tr>\n",
       "      <th>south africa</th>\n",
       "      <td>1946</td>\n",
       "      <td>1946</td>\n",
       "      <td>south</td>\n",
       "    </tr>\n",
       "    <tr>\n",
       "      <th>south africa</th>\n",
       "      <td>1946</td>\n",
       "      <td>1946</td>\n",
       "      <td>south</td>\n",
       "    </tr>\n",
       "    <tr>\n",
       "      <th>persian gulf</th>\n",
       "      <td>1946</td>\n",
       "      <td>1946</td>\n",
       "      <td>north</td>\n",
       "    </tr>\n",
       "  </tbody>\n",
       "</table>\n",
       "<p>4598 rows × 3 columns</p>\n",
       "</div>"
      ],
      "text/plain": [
       "                      Date  Year hemisphere\n",
       "Country                                    \n",
       "united states  25-Jun-2018  2018      north\n",
       "united states  18-Jun-2018  2018      north\n",
       "united states  09-Jun-2018  2018      north\n",
       "australia      08-Jun-2018  2018      south\n",
       "mexico         04-Jun-2018  2018      north\n",
       "...                    ...   ...        ...\n",
       "australia      05-Jan-1946  1946      south\n",
       "south africa   01-Jan-1946  1946      south\n",
       "south africa          1946  1946      south\n",
       "south africa          1946  1946      south\n",
       "persian gulf          1946  1946      north\n",
       "\n",
       "[4598 rows x 3 columns]"
      ]
     },
     "execution_count": 32,
     "metadata": {},
     "output_type": "execute_result"
    }
   ],
   "source": [
    "df_concat"
   ]
  },
  {
   "cell_type": "markdown",
   "id": "cc3a697d",
   "metadata": {},
   "source": [
    "### Creating the seasons according to the hemisphere"
   ]
  },
  {
   "cell_type": "code",
   "execution_count": 33,
   "id": "594ff73a",
   "metadata": {},
   "outputs": [],
   "source": [
    "# regex to check\n",
    "year_dict={\n",
    "    1 : \"jan\",\n",
    "    2 : \"feb\",\n",
    "    3 : \"mar\",\n",
    "    4 : \"apr\",\n",
    "    5 : \"may\",\n",
    "    6 : \"jun\",\n",
    "    7 : \"jul\",\n",
    "    8 : \"aug\",\n",
    "    9 : \"sept\",\n",
    "    10: \"oct\",\n",
    "    11: \"nov\",\n",
    "    12: \"dec\"\n",
    "}"
   ]
  },
  {
   "cell_type": "code",
   "execution_count": 34,
   "id": "087bf2ca",
   "metadata": {
    "scrolled": true
   },
   "outputs": [],
   "source": [
    "import re\n",
    "df_concat.Date.replace('(\\d)', (''), regex= True, inplace= True)"
   ]
  },
  {
   "cell_type": "code",
   "execution_count": 35,
   "id": "1414acc0",
   "metadata": {},
   "outputs": [
    {
     "data": {
      "text/plain": [
       "Country\n",
       "united states    -Jun-\n",
       "united states    -Jun-\n",
       "united states    -Jun-\n",
       "australia        -Jun-\n",
       "mexico           -Jun-\n",
       "                 ...  \n",
       "australia        -Jan-\n",
       "south africa     -Jan-\n",
       "south africa          \n",
       "south africa          \n",
       "persian gulf          \n",
       "Name: Date, Length: 4598, dtype: object"
      ]
     },
     "execution_count": 35,
     "metadata": {},
     "output_type": "execute_result"
    }
   ],
   "source": [
    "df_concat.Date.str.strip()"
   ]
  },
  {
   "cell_type": "code",
   "execution_count": 41,
   "id": "6a8d9281",
   "metadata": {
    "scrolled": true
   },
   "outputs": [],
   "source": [
    "#df_concat.Date.replace('[^a-z]', (''), regex= True, inplace= False)"
   ]
  },
  {
   "cell_type": "code",
   "execution_count": 42,
   "id": "e42eb3cc",
   "metadata": {},
   "outputs": [
    {
     "data": {
      "text/plain": [
       "Country\n",
       "united states    -jun-\n",
       "united states    -jun-\n",
       "united states    -jun-\n",
       "australia        -jun-\n",
       "mexico           -jun-\n",
       "                 ...  \n",
       "australia        -jan-\n",
       "south africa     -jan-\n",
       "south africa          \n",
       "south africa          \n",
       "persian gulf          \n",
       "Name: Date, Length: 4598, dtype: object"
      ]
     },
     "execution_count": 42,
     "metadata": {},
     "output_type": "execute_result"
    }
   ],
   "source": [
    "df_concat['Date'].str.lower()"
   ]
  },
  {
   "cell_type": "code",
   "execution_count": 46,
   "id": "d531a19a",
   "metadata": {},
   "outputs": [
    {
     "ename": "AttributeError",
     "evalue": "'Series' object has no attribute 're'",
     "output_type": "error",
     "traceback": [
      "\u001b[0;31m---------------------------------------------------------------------------\u001b[0m",
      "\u001b[0;31mAttributeError\u001b[0m                            Traceback (most recent call last)",
      "Input \u001b[0;32mIn [46]\u001b[0m, in \u001b[0;36m<cell line: 1>\u001b[0;34m()\u001b[0m\n\u001b[0;32m----> 1\u001b[0m df_concat\u001b[38;5;241m.\u001b[39mDate\u001b[38;5;241m=\u001b[39m\u001b[43mdf_concat\u001b[49m\u001b[38;5;241;43m.\u001b[39;49m\u001b[43mDate\u001b[49m\u001b[38;5;241;43m.\u001b[39;49m\u001b[43mre\u001b[49m\u001b[38;5;241m.\u001b[39mfindall(\u001b[38;5;124m'\u001b[39m\u001b[38;5;124m[a-z]\u001b[39m\u001b[38;5;132;01m{3}\u001b[39;00m\u001b[38;5;124m'\u001b[39m)\n",
      "File \u001b[0;32m~/miniconda3/envs/ironhack/lib/python3.9/site-packages/pandas/core/generic.py:5902\u001b[0m, in \u001b[0;36mNDFrame.__getattr__\u001b[0;34m(self, name)\u001b[0m\n\u001b[1;32m   5895\u001b[0m \u001b[38;5;28;01mif\u001b[39;00m (\n\u001b[1;32m   5896\u001b[0m     name \u001b[38;5;129;01mnot\u001b[39;00m \u001b[38;5;129;01min\u001b[39;00m \u001b[38;5;28mself\u001b[39m\u001b[38;5;241m.\u001b[39m_internal_names_set\n\u001b[1;32m   5897\u001b[0m     \u001b[38;5;129;01mand\u001b[39;00m name \u001b[38;5;129;01mnot\u001b[39;00m \u001b[38;5;129;01min\u001b[39;00m \u001b[38;5;28mself\u001b[39m\u001b[38;5;241m.\u001b[39m_metadata\n\u001b[1;32m   5898\u001b[0m     \u001b[38;5;129;01mand\u001b[39;00m name \u001b[38;5;129;01mnot\u001b[39;00m \u001b[38;5;129;01min\u001b[39;00m \u001b[38;5;28mself\u001b[39m\u001b[38;5;241m.\u001b[39m_accessors\n\u001b[1;32m   5899\u001b[0m     \u001b[38;5;129;01mand\u001b[39;00m \u001b[38;5;28mself\u001b[39m\u001b[38;5;241m.\u001b[39m_info_axis\u001b[38;5;241m.\u001b[39m_can_hold_identifiers_and_holds_name(name)\n\u001b[1;32m   5900\u001b[0m ):\n\u001b[1;32m   5901\u001b[0m     \u001b[38;5;28;01mreturn\u001b[39;00m \u001b[38;5;28mself\u001b[39m[name]\n\u001b[0;32m-> 5902\u001b[0m \u001b[38;5;28;01mreturn\u001b[39;00m \u001b[38;5;28;43mobject\u001b[39;49m\u001b[38;5;241;43m.\u001b[39;49m\u001b[38;5;21;43m__getattribute__\u001b[39;49m\u001b[43m(\u001b[49m\u001b[38;5;28;43mself\u001b[39;49m\u001b[43m,\u001b[49m\u001b[43m \u001b[49m\u001b[43mname\u001b[49m\u001b[43m)\u001b[49m\n",
      "\u001b[0;31mAttributeError\u001b[0m: 'Series' object has no attribute 're'"
     ]
    }
   ],
   "source": [
    "df_concat.Date=df_concat.Date.re.findall('[a-z]{3}')"
   ]
  },
  {
   "cell_type": "code",
   "execution_count": 39,
   "id": "8b048daa",
   "metadata": {},
   "outputs": [],
   "source": [
    "def find_season(month, hemisphere):\n",
    "    if hemisphere == 'south':\n",
    "        season_month_south = {\n",
    "            12:'Summer', 1:'Summer', 2:'Summer',\n",
    "            3:'Autumn', 4:'Autumn', 5:'Autumn',\n",
    "            6:'Winter', 7:'Winter', 8:'Winter',\n",
    "            9:'Spring', 10:'Spring', 11:'Spring'}\n",
    "        return season_month_south.get(month)\n",
    "        \n",
    "    elif hemisphere == 'north':\n",
    "        season_month_north = {\n",
    "            12:'Winter', 1:'Winter', 2:'Winter',\n",
    "            3:'Spring', 4:'Spring', 5:'Spring',\n",
    "            6:'Summer', 7:'Summer', 8:'Summer',\n",
    "            9:'Autumn', 10:'Autumn', 11:'Autumn'}\n",
    "        return season_month_north.get(month)"
   ]
  },
  {
   "cell_type": "code",
   "execution_count": null,
   "id": "1f0c8aad",
   "metadata": {},
   "outputs": [],
   "source": []
  }
 ],
 "metadata": {
  "kernelspec": {
   "display_name": "ironhack",
   "language": "python",
   "name": "ironhack"
  },
  "language_info": {
   "codemirror_mode": {
    "name": "ipython",
    "version": 3
   },
   "file_extension": ".py",
   "mimetype": "text/x-python",
   "name": "python",
   "nbconvert_exporter": "python",
   "pygments_lexer": "ipython3",
   "version": "3.9.15"
  },
  "toc": {
   "base_numbering": 1,
   "nav_menu": {},
   "number_sections": true,
   "sideBar": true,
   "skip_h1_title": false,
   "title_cell": "Table of Contents",
   "title_sidebar": "Contents",
   "toc_cell": false,
   "toc_position": {},
   "toc_section_display": true,
   "toc_window_display": false
  },
  "vscode": {
   "interpreter": {
    "hash": "65c280bfb1607ddbce30fd0ce3f06f418f353a9e23ac72900d787e513dca203b"
   }
  }
 },
 "nbformat": 4,
 "nbformat_minor": 5
}
