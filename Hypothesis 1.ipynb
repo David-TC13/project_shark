{
 "cells": [
  {
   "cell_type": "markdown",
   "id": "24329c8b",
   "metadata": {},
   "source": [
    "## Checking if attacks happen more in summer than other seasons"
   ]
  },
  {
   "cell_type": "code",
   "execution_count": 1,
   "id": "01b0c671",
   "metadata": {},
   "outputs": [],
   "source": [
    "import numpy as np\n",
    "import pandas as pd"
   ]
  },
  {
   "cell_type": "code",
   "execution_count": 2,
   "id": "65554156",
   "metadata": {},
   "outputs": [],
   "source": [
    "df= pd.read_csv(\"data/attacks.csv\", encoding='cp1252')"
   ]
  },
  {
   "cell_type": "code",
   "execution_count": 3,
   "id": "49d3cd82",
   "metadata": {},
   "outputs": [
    {
     "data": {
      "text/plain": [
       "(25723, 24)"
      ]
     },
     "execution_count": 3,
     "metadata": {},
     "output_type": "execute_result"
    }
   ],
   "source": [
    "df.shape"
   ]
  },
  {
   "cell_type": "code",
   "execution_count": 4,
   "id": "2153b23d",
   "metadata": {
    "scrolled": true
   },
   "outputs": [
    {
     "name": "stdout",
     "output_type": "stream",
     "text": [
      "<class 'pandas.core.frame.DataFrame'>\n",
      "RangeIndex: 25723 entries, 0 to 25722\n",
      "Data columns (total 24 columns):\n",
      " #   Column                  Non-Null Count  Dtype  \n",
      "---  ------                  --------------  -----  \n",
      " 0   Case Number             8702 non-null   object \n",
      " 1   Date                    6302 non-null   object \n",
      " 2   Year                    6300 non-null   float64\n",
      " 3   Type                    6298 non-null   object \n",
      " 4   Country                 6252 non-null   object \n",
      " 5   Area                    5847 non-null   object \n",
      " 6   Location                5762 non-null   object \n",
      " 7   Activity                5758 non-null   object \n",
      " 8   Name                    6092 non-null   object \n",
      " 9   Sex                     5737 non-null   object \n",
      " 10  Age                     3471 non-null   object \n",
      " 11  Injury                  6274 non-null   object \n",
      " 12  Fatal (Y/N)             5763 non-null   object \n",
      " 13  Time                    2948 non-null   object \n",
      " 14  Species                 3464 non-null   object \n",
      " 15  Investigator or Source  6285 non-null   object \n",
      " 16  pdf                     6302 non-null   object \n",
      " 17  href formula            6301 non-null   object \n",
      " 18  href                    6302 non-null   object \n",
      " 19  Case Number.1           6302 non-null   object \n",
      " 20  Case Number.2           6302 non-null   object \n",
      " 21  original order          6309 non-null   float64\n",
      " 22  Unnamed: 22             1 non-null      object \n",
      " 23  Unnamed: 23             2 non-null      object \n",
      "dtypes: float64(2), object(22)\n",
      "memory usage: 4.7+ MB\n"
     ]
    }
   ],
   "source": [
    "df.info() #check out the info of the table"
   ]
  },
  {
   "cell_type": "markdown",
   "id": "59410703",
   "metadata": {},
   "source": [
    "### dropping all duplicated and empty rows"
   ]
  },
  {
   "cell_type": "code",
   "execution_count": 5,
   "id": "5a150218",
   "metadata": {},
   "outputs": [],
   "source": [
    "df.drop_duplicates(inplace= True) #remove all the values duplicated"
   ]
  },
  {
   "cell_type": "code",
   "execution_count": 6,
   "id": "49b971eb",
   "metadata": {},
   "outputs": [
    {
     "data": {
      "text/plain": [
       "(6312, 24)"
      ]
     },
     "execution_count": 6,
     "metadata": {},
     "output_type": "execute_result"
    }
   ],
   "source": [
    "df.shape"
   ]
  },
  {
   "cell_type": "code",
   "execution_count": 7,
   "id": "9850dd91",
   "metadata": {},
   "outputs": [],
   "source": [
    "df.dropna(how= 'all',inplace= True) #removed all the rows which all the values were NaN."
   ]
  },
  {
   "cell_type": "code",
   "execution_count": 8,
   "id": "29a517d2",
   "metadata": {},
   "outputs": [
    {
     "data": {
      "text/plain": [
       "(6311, 24)"
      ]
     },
     "execution_count": 8,
     "metadata": {},
     "output_type": "execute_result"
    }
   ],
   "source": [
    "df.shape"
   ]
  },
  {
   "cell_type": "code",
   "execution_count": 9,
   "id": "ec1ace6e",
   "metadata": {},
   "outputs": [
    {
     "data": {
      "text/html": [
       "<div>\n",
       "<style scoped>\n",
       "    .dataframe tbody tr th:only-of-type {\n",
       "        vertical-align: middle;\n",
       "    }\n",
       "\n",
       "    .dataframe tbody tr th {\n",
       "        vertical-align: top;\n",
       "    }\n",
       "\n",
       "    .dataframe thead th {\n",
       "        text-align: right;\n",
       "    }\n",
       "</style>\n",
       "<table border=\"1\" class=\"dataframe\">\n",
       "  <thead>\n",
       "    <tr style=\"text-align: right;\">\n",
       "      <th></th>\n",
       "      <th>Case Number</th>\n",
       "      <th>Date</th>\n",
       "      <th>Year</th>\n",
       "      <th>Type</th>\n",
       "      <th>Country</th>\n",
       "      <th>Area</th>\n",
       "      <th>Location</th>\n",
       "      <th>Activity</th>\n",
       "      <th>Name</th>\n",
       "      <th>Sex</th>\n",
       "      <th>...</th>\n",
       "      <th>Species</th>\n",
       "      <th>Investigator or Source</th>\n",
       "      <th>pdf</th>\n",
       "      <th>href formula</th>\n",
       "      <th>href</th>\n",
       "      <th>Case Number.1</th>\n",
       "      <th>Case Number.2</th>\n",
       "      <th>original order</th>\n",
       "      <th>Unnamed: 22</th>\n",
       "      <th>Unnamed: 23</th>\n",
       "    </tr>\n",
       "  </thead>\n",
       "  <tbody>\n",
       "    <tr>\n",
       "      <th>5863</th>\n",
       "      <td>1877.00.00</td>\n",
       "      <td>Before 1878</td>\n",
       "      <td>1877.0</td>\n",
       "      <td>Unprovoked</td>\n",
       "      <td>INDIA</td>\n",
       "      <td>Hoogly River</td>\n",
       "      <td>Near Calcutta</td>\n",
       "      <td>NaN</td>\n",
       "      <td>Indian</td>\n",
       "      <td>M</td>\n",
       "      <td>...</td>\n",
       "      <td>NaN</td>\n",
       "      <td>J. Fayrer, M.D. cited in F. Day, The Fishes of...</td>\n",
       "      <td>1877.00.00-Calcutta.pdf</td>\n",
       "      <td>http://sharkattackfile.net/spreadsheets/pdf_di...</td>\n",
       "      <td>http://sharkattackfile.net/spreadsheets/pdf_di...</td>\n",
       "      <td>1877.00.00</td>\n",
       "      <td>1877.00.00</td>\n",
       "      <td>440.0</td>\n",
       "      <td>NaN</td>\n",
       "      <td>NaN</td>\n",
       "    </tr>\n",
       "  </tbody>\n",
       "</table>\n",
       "<p>1 rows × 24 columns</p>\n",
       "</div>"
      ],
      "text/plain": [
       "     Case Number         Date    Year        Type Country          Area  \\\n",
       "5863  1877.00.00  Before 1878  1877.0  Unprovoked   INDIA  Hoogly River   \n",
       "\n",
       "           Location Activity    Name Sex   ... Species   \\\n",
       "5863  Near Calcutta      NaN  Indian    M  ...      NaN   \n",
       "\n",
       "                                 Investigator or Source  \\\n",
       "5863  J. Fayrer, M.D. cited in F. Day, The Fishes of...   \n",
       "\n",
       "                          pdf  \\\n",
       "5863  1877.00.00-Calcutta.pdf   \n",
       "\n",
       "                                           href formula  \\\n",
       "5863  http://sharkattackfile.net/spreadsheets/pdf_di...   \n",
       "\n",
       "                                                   href Case Number.1  \\\n",
       "5863  http://sharkattackfile.net/spreadsheets/pdf_di...    1877.00.00   \n",
       "\n",
       "     Case Number.2 original order Unnamed: 22 Unnamed: 23  \n",
       "5863    1877.00.00          440.0         NaN         NaN  \n",
       "\n",
       "[1 rows x 24 columns]"
      ]
     },
     "execution_count": 9,
     "metadata": {},
     "output_type": "execute_result"
    }
   ],
   "source": [
    "df.sample()"
   ]
  },
  {
   "cell_type": "markdown",
   "id": "0935026d",
   "metadata": {
    "scrolled": true
   },
   "source": [
    "### Eliminating all the columns are not useful for the hypothesis and rows without the all data it's necesary "
   ]
  },
  {
   "cell_type": "code",
   "execution_count": 10,
   "id": "314b235e",
   "metadata": {},
   "outputs": [
    {
     "data": {
      "text/plain": [
       "Index(['Case Number', 'Date', 'Year', 'Type', 'Country', 'Area', 'Location',\n",
       "       'Activity', 'Name', 'Sex ', 'Age', 'Injury', 'Fatal (Y/N)', 'Time',\n",
       "       'Species ', 'Investigator or Source', 'pdf', 'href formula', 'href',\n",
       "       'Case Number.1', 'Case Number.2', 'original order', 'Unnamed: 22',\n",
       "       'Unnamed: 23'],\n",
       "      dtype='object')"
      ]
     },
     "execution_count": 10,
     "metadata": {},
     "output_type": "execute_result"
    }
   ],
   "source": [
    "df.columns"
   ]
  },
  {
   "cell_type": "code",
   "execution_count": 11,
   "id": "22ae9b78",
   "metadata": {},
   "outputs": [],
   "source": [
    "df.drop (labels= ['Case Number', 'Type', 'Activity', 'Name', 'Sex ', 'Age', 'Injury', 'Fatal (Y/N)', 'Time', 'Species ', 'Investigator or Source', 'pdf', 'href formula', 'href', 'Case Number.1', 'Case Number.2', 'Unnamed: 22', 'Unnamed: 23', 'original order', 'Area', 'Location'], axis= 1, inplace= True)"
   ]
  },
  {
   "cell_type": "code",
   "execution_count": 12,
   "id": "26deb656",
   "metadata": {},
   "outputs": [
    {
     "data": {
      "text/html": [
       "<div>\n",
       "<style scoped>\n",
       "    .dataframe tbody tr th:only-of-type {\n",
       "        vertical-align: middle;\n",
       "    }\n",
       "\n",
       "    .dataframe tbody tr th {\n",
       "        vertical-align: top;\n",
       "    }\n",
       "\n",
       "    .dataframe thead th {\n",
       "        text-align: right;\n",
       "    }\n",
       "</style>\n",
       "<table border=\"1\" class=\"dataframe\">\n",
       "  <thead>\n",
       "    <tr style=\"text-align: right;\">\n",
       "      <th></th>\n",
       "      <th>Date</th>\n",
       "      <th>Year</th>\n",
       "      <th>Country</th>\n",
       "    </tr>\n",
       "  </thead>\n",
       "  <tbody>\n",
       "    <tr>\n",
       "      <th>0</th>\n",
       "      <td>25-Jun-2018</td>\n",
       "      <td>2018.0</td>\n",
       "      <td>USA</td>\n",
       "    </tr>\n",
       "    <tr>\n",
       "      <th>1</th>\n",
       "      <td>18-Jun-2018</td>\n",
       "      <td>2018.0</td>\n",
       "      <td>USA</td>\n",
       "    </tr>\n",
       "    <tr>\n",
       "      <th>2</th>\n",
       "      <td>09-Jun-2018</td>\n",
       "      <td>2018.0</td>\n",
       "      <td>USA</td>\n",
       "    </tr>\n",
       "    <tr>\n",
       "      <th>3</th>\n",
       "      <td>08-Jun-2018</td>\n",
       "      <td>2018.0</td>\n",
       "      <td>AUSTRALIA</td>\n",
       "    </tr>\n",
       "    <tr>\n",
       "      <th>4</th>\n",
       "      <td>04-Jun-2018</td>\n",
       "      <td>2018.0</td>\n",
       "      <td>MEXICO</td>\n",
       "    </tr>\n",
       "  </tbody>\n",
       "</table>\n",
       "</div>"
      ],
      "text/plain": [
       "          Date    Year    Country\n",
       "0  25-Jun-2018  2018.0        USA\n",
       "1  18-Jun-2018  2018.0        USA\n",
       "2  09-Jun-2018  2018.0        USA\n",
       "3  08-Jun-2018  2018.0  AUSTRALIA\n",
       "4  04-Jun-2018  2018.0     MEXICO"
      ]
     },
     "execution_count": 12,
     "metadata": {},
     "output_type": "execute_result"
    }
   ],
   "source": [
    "df.head()"
   ]
  },
  {
   "cell_type": "markdown",
   "id": "419e0629",
   "metadata": {},
   "source": [
    "### Deleting all the incidents happened before 1946 when the World Tourism Organization was created"
   ]
  },
  {
   "cell_type": "code",
   "execution_count": 13,
   "id": "0c1ff213",
   "metadata": {},
   "outputs": [],
   "source": [
    "df=df[df[\"Year\"]>=1946] #remove the row before the year "
   ]
  },
  {
   "cell_type": "code",
   "execution_count": 14,
   "id": "8eb4fe31",
   "metadata": {},
   "outputs": [],
   "source": [
    "df['Year'] = df['Year'].astype('str') # remove the .0 format to have a proper year\n",
    "df['Year'] = df['Year'].map(lambda x: x.rstrip('.0'))\n",
    "df['Year'] = df['Year'].astype('int')"
   ]
  },
  {
   "cell_type": "code",
   "execution_count": 15,
   "id": "e1522f32",
   "metadata": {},
   "outputs": [],
   "source": [
    "df.dropna(subset = ['Country'], inplace=True) # remove all the empty values for country"
   ]
  },
  {
   "cell_type": "code",
   "execution_count": 16,
   "id": "7a7c1c42",
   "metadata": {},
   "outputs": [],
   "source": [
    "df['Country'] = df['Country'].apply(lambda x: x.lower())#lowercase to compare later with a list of countries"
   ]
  },
  {
   "cell_type": "code",
   "execution_count": 17,
   "id": "2df7d944",
   "metadata": {
    "scrolled": true
   },
   "outputs": [],
   "source": [
    "df['Country'] =df['Country'].str.strip()"
   ]
  },
  {
   "cell_type": "code",
   "execution_count": 18,
   "id": "5efc97db",
   "metadata": {},
   "outputs": [],
   "source": [
    "df['Country'] = df['Country'].replace([\"usa\"], 'united states')\n",
    "df['Country'] = df['Country'].replace([\"sudan?\"], 'sudan')\n",
    "df['Country'] = df['Country'].replace([\"united arab emirates (uae)\"], 'united arab emirates')"
   ]
  },
  {
   "cell_type": "code",
   "execution_count": 19,
   "id": "9025de25",
   "metadata": {},
   "outputs": [
    {
     "data": {
      "text/plain": [
       "(4598, 3)"
      ]
     },
     "execution_count": 19,
     "metadata": {},
     "output_type": "execute_result"
    }
   ],
   "source": [
    "df.shape"
   ]
  },
  {
   "cell_type": "markdown",
   "id": "e3b32ecc",
   "metadata": {},
   "source": [
    "### Creating a list of countries of the world separing them in between the north and south"
   ]
  },
  {
   "cell_type": "markdown",
   "id": "f2fa3f94",
   "metadata": {},
   "source": [
    "- can be created as a function"
   ]
  },
  {
   "cell_type": "code",
   "execution_count": 20,
   "id": "83600d34",
   "metadata": {},
   "outputs": [],
   "source": [
    "l_country= pd.read_csv('data/list_country.csv') #we can see there's a latitude empty, so we remove it\n",
    "l_country.dropna(how= 'any',inplace= True)"
   ]
  },
  {
   "cell_type": "code",
   "execution_count": 21,
   "id": "f193064d",
   "metadata": {
    "scrolled": true
   },
   "outputs": [],
   "source": [
    "l_country[\"hemisphere\"]=l_country[\"latitude\"].apply(lambda x : \"north\" if x>0 else \"south\")\n",
    "l_country['name'] = l_country['name'].apply(lambda x: x.lower())"
   ]
  },
  {
   "cell_type": "code",
   "execution_count": 22,
   "id": "9f9b2b7f",
   "metadata": {},
   "outputs": [],
   "source": [
    "l_country.drop (labels= ['latitude','longitude'], axis= 1, inplace= True)\n"
   ]
  },
  {
   "cell_type": "code",
   "execution_count": 23,
   "id": "bcebb062",
   "metadata": {},
   "outputs": [
    {
     "data": {
      "text/html": [
       "<div>\n",
       "<style scoped>\n",
       "    .dataframe tbody tr th:only-of-type {\n",
       "        vertical-align: middle;\n",
       "    }\n",
       "\n",
       "    .dataframe tbody tr th {\n",
       "        vertical-align: top;\n",
       "    }\n",
       "\n",
       "    .dataframe thead th {\n",
       "        text-align: right;\n",
       "    }\n",
       "</style>\n",
       "<table border=\"1\" class=\"dataframe\">\n",
       "  <thead>\n",
       "    <tr style=\"text-align: right;\">\n",
       "      <th></th>\n",
       "      <th>Country</th>\n",
       "      <th>hemisphere</th>\n",
       "    </tr>\n",
       "  </thead>\n",
       "  <tbody>\n",
       "    <tr>\n",
       "      <th>0</th>\n",
       "      <td>andorra</td>\n",
       "      <td>north</td>\n",
       "    </tr>\n",
       "    <tr>\n",
       "      <th>1</th>\n",
       "      <td>united arab emirates</td>\n",
       "      <td>north</td>\n",
       "    </tr>\n",
       "    <tr>\n",
       "      <th>2</th>\n",
       "      <td>afghanistan</td>\n",
       "      <td>north</td>\n",
       "    </tr>\n",
       "    <tr>\n",
       "      <th>3</th>\n",
       "      <td>antigua and barbuda</td>\n",
       "      <td>north</td>\n",
       "    </tr>\n",
       "    <tr>\n",
       "      <th>4</th>\n",
       "      <td>anguilla</td>\n",
       "      <td>north</td>\n",
       "    </tr>\n",
       "    <tr>\n",
       "      <th>...</th>\n",
       "      <td>...</td>\n",
       "      <td>...</td>\n",
       "    </tr>\n",
       "    <tr>\n",
       "      <th>240</th>\n",
       "      <td>yemen</td>\n",
       "      <td>north</td>\n",
       "    </tr>\n",
       "    <tr>\n",
       "      <th>241</th>\n",
       "      <td>mayotte</td>\n",
       "      <td>south</td>\n",
       "    </tr>\n",
       "    <tr>\n",
       "      <th>242</th>\n",
       "      <td>south africa</td>\n",
       "      <td>south</td>\n",
       "    </tr>\n",
       "    <tr>\n",
       "      <th>243</th>\n",
       "      <td>zambia</td>\n",
       "      <td>south</td>\n",
       "    </tr>\n",
       "    <tr>\n",
       "      <th>244</th>\n",
       "      <td>zimbabwe</td>\n",
       "      <td>south</td>\n",
       "    </tr>\n",
       "  </tbody>\n",
       "</table>\n",
       "<p>244 rows × 2 columns</p>\n",
       "</div>"
      ],
      "text/plain": [
       "                  Country hemisphere\n",
       "0                 andorra      north\n",
       "1    united arab emirates      north\n",
       "2             afghanistan      north\n",
       "3     antigua and barbuda      north\n",
       "4                anguilla      north\n",
       "..                    ...        ...\n",
       "240                 yemen      north\n",
       "241               mayotte      south\n",
       "242          south africa      south\n",
       "243                zambia      south\n",
       "244              zimbabwe      south\n",
       "\n",
       "[244 rows x 2 columns]"
      ]
     },
     "execution_count": 23,
     "metadata": {},
     "output_type": "execute_result"
    }
   ],
   "source": [
    "l_country.rename(columns= {\"name\": \"Country\"})"
   ]
  },
  {
   "cell_type": "markdown",
   "id": "2e403ecc",
   "metadata": {},
   "source": [
    "### Comparing the df's"
   ]
  },
  {
   "cell_type": "markdown",
   "id": "b74dfd74",
   "metadata": {},
   "source": [
    "- Checking both lists can find there are some discrepancies how the countries are described. so, we gonna implement some changes to adjust as much as many countries in order to match both lists"
   ]
  },
  {
   "cell_type": "code",
   "execution_count": null,
   "id": "871d5a96",
   "metadata": {},
   "outputs": [],
   "source": []
  },
  {
   "cell_type": "code",
   "execution_count": null,
   "id": "0e19b1f0",
   "metadata": {},
   "outputs": [],
   "source": []
  },
  {
   "cell_type": "markdown",
   "id": "0aede3dc",
   "metadata": {},
   "source": [
    "### Creating the seasons according to the hemisphere"
   ]
  },
  {
   "cell_type": "code",
   "execution_count": 24,
   "id": "434ed288",
   "metadata": {},
   "outputs": [
    {
     "data": {
      "text/html": [
       "<div>\n",
       "<style scoped>\n",
       "    .dataframe tbody tr th:only-of-type {\n",
       "        vertical-align: middle;\n",
       "    }\n",
       "\n",
       "    .dataframe tbody tr th {\n",
       "        vertical-align: top;\n",
       "    }\n",
       "\n",
       "    .dataframe thead th {\n",
       "        text-align: right;\n",
       "    }\n",
       "</style>\n",
       "<table border=\"1\" class=\"dataframe\">\n",
       "  <thead>\n",
       "    <tr style=\"text-align: right;\">\n",
       "      <th></th>\n",
       "      <th>Date</th>\n",
       "      <th>Year</th>\n",
       "      <th>Country</th>\n",
       "    </tr>\n",
       "  </thead>\n",
       "  <tbody>\n",
       "    <tr>\n",
       "      <th>0</th>\n",
       "      <td>25-Jun-2018</td>\n",
       "      <td>2018</td>\n",
       "      <td>united states</td>\n",
       "    </tr>\n",
       "    <tr>\n",
       "      <th>1</th>\n",
       "      <td>18-Jun-2018</td>\n",
       "      <td>2018</td>\n",
       "      <td>united states</td>\n",
       "    </tr>\n",
       "    <tr>\n",
       "      <th>2</th>\n",
       "      <td>09-Jun-2018</td>\n",
       "      <td>2018</td>\n",
       "      <td>united states</td>\n",
       "    </tr>\n",
       "    <tr>\n",
       "      <th>3</th>\n",
       "      <td>08-Jun-2018</td>\n",
       "      <td>2018</td>\n",
       "      <td>australia</td>\n",
       "    </tr>\n",
       "    <tr>\n",
       "      <th>4</th>\n",
       "      <td>04-Jun-2018</td>\n",
       "      <td>2018</td>\n",
       "      <td>mexico</td>\n",
       "    </tr>\n",
       "    <tr>\n",
       "      <th>...</th>\n",
       "      <td>...</td>\n",
       "      <td>...</td>\n",
       "      <td>...</td>\n",
       "    </tr>\n",
       "    <tr>\n",
       "      <th>4610</th>\n",
       "      <td>05-Jan-1946</td>\n",
       "      <td>1946</td>\n",
       "      <td>australia</td>\n",
       "    </tr>\n",
       "    <tr>\n",
       "      <th>4611</th>\n",
       "      <td>01-Jan-1946</td>\n",
       "      <td>1946</td>\n",
       "      <td>south africa</td>\n",
       "    </tr>\n",
       "    <tr>\n",
       "      <th>4612</th>\n",
       "      <td>1946</td>\n",
       "      <td>1946</td>\n",
       "      <td>south africa</td>\n",
       "    </tr>\n",
       "    <tr>\n",
       "      <th>4613</th>\n",
       "      <td>1946</td>\n",
       "      <td>1946</td>\n",
       "      <td>south africa</td>\n",
       "    </tr>\n",
       "    <tr>\n",
       "      <th>4614</th>\n",
       "      <td>1946</td>\n",
       "      <td>1946</td>\n",
       "      <td>persian gulf</td>\n",
       "    </tr>\n",
       "  </tbody>\n",
       "</table>\n",
       "<p>4598 rows × 3 columns</p>\n",
       "</div>"
      ],
      "text/plain": [
       "             Date  Year        Country\n",
       "0     25-Jun-2018  2018  united states\n",
       "1     18-Jun-2018  2018  united states\n",
       "2     09-Jun-2018  2018  united states\n",
       "3     08-Jun-2018  2018      australia\n",
       "4     04-Jun-2018  2018         mexico\n",
       "...           ...   ...            ...\n",
       "4610  05-Jan-1946  1946      australia\n",
       "4611  01-Jan-1946  1946   south africa\n",
       "4612         1946  1946   south africa\n",
       "4613         1946  1946   south africa\n",
       "4614         1946  1946   persian gulf\n",
       "\n",
       "[4598 rows x 3 columns]"
      ]
     },
     "execution_count": 24,
     "metadata": {},
     "output_type": "execute_result"
    }
   ],
   "source": [
    "df"
   ]
  },
  {
   "cell_type": "code",
   "execution_count": null,
   "id": "3969c1e1",
   "metadata": {},
   "outputs": [],
   "source": []
  }
 ],
 "metadata": {
  "kernelspec": {
   "display_name": "ironhack",
   "language": "python",
   "name": "ironhack"
  },
  "language_info": {
   "codemirror_mode": {
    "name": "ipython",
    "version": 3
   },
   "file_extension": ".py",
   "mimetype": "text/x-python",
   "name": "python",
   "nbconvert_exporter": "python",
   "pygments_lexer": "ipython3",
   "version": "3.9.15"
  },
  "toc": {
   "base_numbering": 1,
   "nav_menu": {},
   "number_sections": true,
   "sideBar": true,
   "skip_h1_title": false,
   "title_cell": "Table of Contents",
   "title_sidebar": "Contents",
   "toc_cell": false,
   "toc_position": {},
   "toc_section_display": true,
   "toc_window_display": false
  },
  "vscode": {
   "interpreter": {
    "hash": "65c280bfb1607ddbce30fd0ce3f06f418f353a9e23ac72900d787e513dca203b"
   }
  }
 },
 "nbformat": 4,
 "nbformat_minor": 5
}
