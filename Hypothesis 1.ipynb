{
 "cells": [
  {
   "cell_type": "markdown",
   "id": "24329c8b",
   "metadata": {},
   "source": [
    "## Checking if attacks happen more in summer than other seasons"
   ]
  },
  {
   "cell_type": "code",
   "execution_count": 1,
   "id": "01b0c671",
   "metadata": {},
   "outputs": [],
   "source": [
    "import numpy as np\n",
    "import pandas as pd"
   ]
  },
  {
   "cell_type": "code",
   "execution_count": 2,
   "id": "65554156",
   "metadata": {},
   "outputs": [],
   "source": [
    "df= pd.read_csv(\"data/attacks.csv\", encoding='cp1252')"
   ]
  },
  {
   "cell_type": "code",
   "execution_count": 3,
   "id": "49d3cd82",
   "metadata": {},
   "outputs": [
    {
     "data": {
      "text/plain": [
       "(25723, 24)"
      ]
     },
     "execution_count": 3,
     "metadata": {},
     "output_type": "execute_result"
    }
   ],
   "source": [
    "df.shape"
   ]
  },
  {
   "cell_type": "code",
   "execution_count": 4,
   "id": "2153b23d",
   "metadata": {
    "scrolled": true
   },
   "outputs": [
    {
     "name": "stdout",
     "output_type": "stream",
     "text": [
      "<class 'pandas.core.frame.DataFrame'>\n",
      "RangeIndex: 25723 entries, 0 to 25722\n",
      "Data columns (total 24 columns):\n",
      " #   Column                  Non-Null Count  Dtype  \n",
      "---  ------                  --------------  -----  \n",
      " 0   Case Number             8702 non-null   object \n",
      " 1   Date                    6302 non-null   object \n",
      " 2   Year                    6300 non-null   float64\n",
      " 3   Type                    6298 non-null   object \n",
      " 4   Country                 6252 non-null   object \n",
      " 5   Area                    5847 non-null   object \n",
      " 6   Location                5762 non-null   object \n",
      " 7   Activity                5758 non-null   object \n",
      " 8   Name                    6092 non-null   object \n",
      " 9   Sex                     5737 non-null   object \n",
      " 10  Age                     3471 non-null   object \n",
      " 11  Injury                  6274 non-null   object \n",
      " 12  Fatal (Y/N)             5763 non-null   object \n",
      " 13  Time                    2948 non-null   object \n",
      " 14  Species                 3464 non-null   object \n",
      " 15  Investigator or Source  6285 non-null   object \n",
      " 16  pdf                     6302 non-null   object \n",
      " 17  href formula            6301 non-null   object \n",
      " 18  href                    6302 non-null   object \n",
      " 19  Case Number.1           6302 non-null   object \n",
      " 20  Case Number.2           6302 non-null   object \n",
      " 21  original order          6309 non-null   float64\n",
      " 22  Unnamed: 22             1 non-null      object \n",
      " 23  Unnamed: 23             2 non-null      object \n",
      "dtypes: float64(2), object(22)\n",
      "memory usage: 4.7+ MB\n"
     ]
    }
   ],
   "source": [
    "df.info() #check out the info of the table"
   ]
  },
  {
   "cell_type": "markdown",
   "id": "59410703",
   "metadata": {},
   "source": [
    "### dropping all duplicated and empty rows\n",
    "- create a fucntion called general cleaning"
   ]
  },
  {
   "cell_type": "code",
   "execution_count": 5,
   "id": "5a150218",
   "metadata": {},
   "outputs": [],
   "source": [
    "df.drop_duplicates(inplace= True) #remove all the values duplicated"
   ]
  },
  {
   "cell_type": "code",
   "execution_count": 6,
   "id": "49b971eb",
   "metadata": {},
   "outputs": [
    {
     "data": {
      "text/plain": [
       "(6312, 24)"
      ]
     },
     "execution_count": 6,
     "metadata": {},
     "output_type": "execute_result"
    }
   ],
   "source": [
    "df.shape"
   ]
  },
  {
   "cell_type": "code",
   "execution_count": 7,
   "id": "9850dd91",
   "metadata": {},
   "outputs": [],
   "source": [
    "df.dropna(how= 'all',inplace= True) #removed all the rows which all the values were NaN."
   ]
  },
  {
   "cell_type": "code",
   "execution_count": 8,
   "id": "29a517d2",
   "metadata": {},
   "outputs": [
    {
     "data": {
      "text/plain": [
       "(6311, 24)"
      ]
     },
     "execution_count": 8,
     "metadata": {},
     "output_type": "execute_result"
    }
   ],
   "source": [
    "df.shape"
   ]
  },
  {
   "cell_type": "code",
   "execution_count": 9,
   "id": "ec1ace6e",
   "metadata": {},
   "outputs": [
    {
     "data": {
      "text/html": [
       "<div>\n",
       "<style scoped>\n",
       "    .dataframe tbody tr th:only-of-type {\n",
       "        vertical-align: middle;\n",
       "    }\n",
       "\n",
       "    .dataframe tbody tr th {\n",
       "        vertical-align: top;\n",
       "    }\n",
       "\n",
       "    .dataframe thead th {\n",
       "        text-align: right;\n",
       "    }\n",
       "</style>\n",
       "<table border=\"1\" class=\"dataframe\">\n",
       "  <thead>\n",
       "    <tr style=\"text-align: right;\">\n",
       "      <th></th>\n",
       "      <th>Case Number</th>\n",
       "      <th>Date</th>\n",
       "      <th>Year</th>\n",
       "      <th>Type</th>\n",
       "      <th>Country</th>\n",
       "      <th>Area</th>\n",
       "      <th>Location</th>\n",
       "      <th>Activity</th>\n",
       "      <th>Name</th>\n",
       "      <th>Sex</th>\n",
       "      <th>...</th>\n",
       "      <th>Species</th>\n",
       "      <th>Investigator or Source</th>\n",
       "      <th>pdf</th>\n",
       "      <th>href formula</th>\n",
       "      <th>href</th>\n",
       "      <th>Case Number.1</th>\n",
       "      <th>Case Number.2</th>\n",
       "      <th>original order</th>\n",
       "      <th>Unnamed: 22</th>\n",
       "      <th>Unnamed: 23</th>\n",
       "    </tr>\n",
       "  </thead>\n",
       "  <tbody>\n",
       "    <tr>\n",
       "      <th>1630</th>\n",
       "      <td>2004.10.21</td>\n",
       "      <td>21-Oct-2004</td>\n",
       "      <td>2004.0</td>\n",
       "      <td>Unprovoked</td>\n",
       "      <td>AUSTRALIA</td>\n",
       "      <td>New South Wales</td>\n",
       "      <td>Stockton Beach</td>\n",
       "      <td>Surfing</td>\n",
       "      <td>John Gresham</td>\n",
       "      <td>M</td>\n",
       "      <td>...</td>\n",
       "      <td>Bronze whaler shark, 2.4 m [8']</td>\n",
       "      <td>The Border Mail, 10/23/2004</td>\n",
       "      <td>2004.10.21-Gresham.pdf</td>\n",
       "      <td>http://sharkattackfile.net/spreadsheets/pdf_di...</td>\n",
       "      <td>http://sharkattackfile.net/spreadsheets/pdf_di...</td>\n",
       "      <td>2004.10.21</td>\n",
       "      <td>2004.10.21</td>\n",
       "      <td>4673.0</td>\n",
       "      <td>NaN</td>\n",
       "      <td>NaN</td>\n",
       "    </tr>\n",
       "  </tbody>\n",
       "</table>\n",
       "<p>1 rows × 24 columns</p>\n",
       "</div>"
      ],
      "text/plain": [
       "     Case Number         Date    Year        Type    Country             Area  \\\n",
       "1630  2004.10.21  21-Oct-2004  2004.0  Unprovoked  AUSTRALIA  New South Wales   \n",
       "\n",
       "            Location Activity          Name Sex   ...  \\\n",
       "1630  Stockton Beach  Surfing  John Gresham    M  ...   \n",
       "\n",
       "                              Species        Investigator or Source  \\\n",
       "1630  Bronze whaler shark, 2.4 m [8']   The Border Mail, 10/23/2004   \n",
       "\n",
       "                         pdf  \\\n",
       "1630  2004.10.21-Gresham.pdf   \n",
       "\n",
       "                                           href formula  \\\n",
       "1630  http://sharkattackfile.net/spreadsheets/pdf_di...   \n",
       "\n",
       "                                                   href Case Number.1  \\\n",
       "1630  http://sharkattackfile.net/spreadsheets/pdf_di...    2004.10.21   \n",
       "\n",
       "     Case Number.2 original order Unnamed: 22 Unnamed: 23  \n",
       "1630    2004.10.21         4673.0         NaN         NaN  \n",
       "\n",
       "[1 rows x 24 columns]"
      ]
     },
     "execution_count": 9,
     "metadata": {},
     "output_type": "execute_result"
    }
   ],
   "source": [
    "df.sample()"
   ]
  },
  {
   "cell_type": "markdown",
   "id": "0935026d",
   "metadata": {
    "scrolled": true
   },
   "source": [
    "### Eliminating all the columns are not useful for the hypothesis and rows without the all data it's necesary \n",
    "- cleaning data not useful"
   ]
  },
  {
   "cell_type": "code",
   "execution_count": 10,
   "id": "314b235e",
   "metadata": {},
   "outputs": [
    {
     "data": {
      "text/plain": [
       "Index(['Case Number', 'Date', 'Year', 'Type', 'Country', 'Area', 'Location',\n",
       "       'Activity', 'Name', 'Sex ', 'Age', 'Injury', 'Fatal (Y/N)', 'Time',\n",
       "       'Species ', 'Investigator or Source', 'pdf', 'href formula', 'href',\n",
       "       'Case Number.1', 'Case Number.2', 'original order', 'Unnamed: 22',\n",
       "       'Unnamed: 23'],\n",
       "      dtype='object')"
      ]
     },
     "execution_count": 10,
     "metadata": {},
     "output_type": "execute_result"
    }
   ],
   "source": [
    "df.columns"
   ]
  },
  {
   "cell_type": "code",
   "execution_count": 11,
   "id": "22ae9b78",
   "metadata": {},
   "outputs": [],
   "source": [
    "df.drop (labels= ['Case Number', 'Type', 'Activity', 'Name', 'Sex ', 'Age', 'Injury', 'Fatal (Y/N)', 'Time', 'Species ', 'Investigator or Source', 'pdf', 'href formula', 'href', 'Case Number.1', 'Case Number.2', 'Unnamed: 22', 'Unnamed: 23', 'original order', 'Area', 'Location'], axis= 1, inplace= True)"
   ]
  },
  {
   "cell_type": "code",
   "execution_count": 12,
   "id": "26deb656",
   "metadata": {},
   "outputs": [
    {
     "data": {
      "text/html": [
       "<div>\n",
       "<style scoped>\n",
       "    .dataframe tbody tr th:only-of-type {\n",
       "        vertical-align: middle;\n",
       "    }\n",
       "\n",
       "    .dataframe tbody tr th {\n",
       "        vertical-align: top;\n",
       "    }\n",
       "\n",
       "    .dataframe thead th {\n",
       "        text-align: right;\n",
       "    }\n",
       "</style>\n",
       "<table border=\"1\" class=\"dataframe\">\n",
       "  <thead>\n",
       "    <tr style=\"text-align: right;\">\n",
       "      <th></th>\n",
       "      <th>Date</th>\n",
       "      <th>Year</th>\n",
       "      <th>Country</th>\n",
       "    </tr>\n",
       "  </thead>\n",
       "  <tbody>\n",
       "    <tr>\n",
       "      <th>0</th>\n",
       "      <td>25-Jun-2018</td>\n",
       "      <td>2018.0</td>\n",
       "      <td>USA</td>\n",
       "    </tr>\n",
       "    <tr>\n",
       "      <th>1</th>\n",
       "      <td>18-Jun-2018</td>\n",
       "      <td>2018.0</td>\n",
       "      <td>USA</td>\n",
       "    </tr>\n",
       "    <tr>\n",
       "      <th>2</th>\n",
       "      <td>09-Jun-2018</td>\n",
       "      <td>2018.0</td>\n",
       "      <td>USA</td>\n",
       "    </tr>\n",
       "    <tr>\n",
       "      <th>3</th>\n",
       "      <td>08-Jun-2018</td>\n",
       "      <td>2018.0</td>\n",
       "      <td>AUSTRALIA</td>\n",
       "    </tr>\n",
       "    <tr>\n",
       "      <th>4</th>\n",
       "      <td>04-Jun-2018</td>\n",
       "      <td>2018.0</td>\n",
       "      <td>MEXICO</td>\n",
       "    </tr>\n",
       "  </tbody>\n",
       "</table>\n",
       "</div>"
      ],
      "text/plain": [
       "          Date    Year    Country\n",
       "0  25-Jun-2018  2018.0        USA\n",
       "1  18-Jun-2018  2018.0        USA\n",
       "2  09-Jun-2018  2018.0        USA\n",
       "3  08-Jun-2018  2018.0  AUSTRALIA\n",
       "4  04-Jun-2018  2018.0     MEXICO"
      ]
     },
     "execution_count": 12,
     "metadata": {},
     "output_type": "execute_result"
    }
   ],
   "source": [
    "df.head()"
   ]
  },
  {
   "cell_type": "markdown",
   "id": "419e0629",
   "metadata": {},
   "source": [
    "### Deleting all the incidents happened before 1946 when the World Tourism Organization was created"
   ]
  },
  {
   "cell_type": "code",
   "execution_count": 13,
   "id": "0c1ff213",
   "metadata": {},
   "outputs": [],
   "source": [
    "df=df[df[\"Year\"]>=1946] #remove the row before the year "
   ]
  },
  {
   "cell_type": "code",
   "execution_count": 14,
   "id": "8eb4fe31",
   "metadata": {},
   "outputs": [],
   "source": [
    "df['Year'] = df['Year'].astype('str') # remove the .0 format to have a proper year\n",
    "df['Year'] = df['Year'].map(lambda x: x.rstrip('.0'))\n",
    "df['Year'] = df['Year'].astype('int')"
   ]
  },
  {
   "cell_type": "code",
   "execution_count": 15,
   "id": "e1522f32",
   "metadata": {},
   "outputs": [],
   "source": [
    "df.dropna(subset = ['Country'], inplace=True) # remove all the empty values for country"
   ]
  },
  {
   "cell_type": "code",
   "execution_count": 16,
   "id": "7a7c1c42",
   "metadata": {},
   "outputs": [],
   "source": [
    "df['Country'] = df['Country'].apply(lambda x: x.lower())#lowercase to compare later with a list of countries"
   ]
  },
  {
   "cell_type": "code",
   "execution_count": 17,
   "id": "2df7d944",
   "metadata": {
    "scrolled": true
   },
   "outputs": [],
   "source": [
    "df['Country'] =df['Country'].str.strip()"
   ]
  },
  {
   "cell_type": "code",
   "execution_count": 18,
   "id": "5efc97db",
   "metadata": {
    "scrolled": true
   },
   "outputs": [],
   "source": [
    "df['Country'] = df['Country'].replace([\"usa\"], 'united states')\n",
    "df['Country'] = df['Country'].replace([\"sudan?\"], 'sudan')\n",
    "df['Country'] = df['Country'].replace([\"united arab emirates (uae)\"], 'united arab emirates')\n"
   ]
  },
  {
   "cell_type": "markdown",
   "id": "e3b32ecc",
   "metadata": {},
   "source": [
    "### Creating a list of countries of the world separing them in between the north and south"
   ]
  },
  {
   "cell_type": "markdown",
   "id": "f2fa3f94",
   "metadata": {},
   "source": [
    "- can be created as a function"
   ]
  },
  {
   "cell_type": "code",
   "execution_count": 19,
   "id": "83600d34",
   "metadata": {},
   "outputs": [],
   "source": [
    "l_country= pd.read_csv('data/list_country.csv') #we can see there's a latitude empty, so we remove it\n",
    "l_country.dropna(how= 'any',inplace= True)"
   ]
  },
  {
   "cell_type": "code",
   "execution_count": 20,
   "id": "f193064d",
   "metadata": {
    "scrolled": true
   },
   "outputs": [],
   "source": [
    "l_country[\"hemisphere\"]=l_country[\"latitude\"].apply(lambda x : \"north\" if x>0 else \"south\")\n",
    "l_country['name'] = l_country['name'].apply(lambda x: x.lower())"
   ]
  },
  {
   "cell_type": "code",
   "execution_count": 21,
   "id": "9f9b2b7f",
   "metadata": {},
   "outputs": [],
   "source": [
    "l_country.drop (labels= ['latitude','longitude'], axis= 1, inplace= True)"
   ]
  },
  {
   "cell_type": "code",
   "execution_count": 22,
   "id": "e294dfa9",
   "metadata": {},
   "outputs": [],
   "source": [
    "l_country= l_country[l_country.hemisphere == \"south\"]\n",
    "south_list= l_country['name'].values.tolist()"
   ]
  },
  {
   "cell_type": "code",
   "execution_count": 23,
   "id": "cd166c1c",
   "metadata": {
    "scrolled": true
   },
   "outputs": [
    {
     "data": {
      "text/html": [
       "<div>\n",
       "<style scoped>\n",
       "    .dataframe tbody tr th:only-of-type {\n",
       "        vertical-align: middle;\n",
       "    }\n",
       "\n",
       "    .dataframe tbody tr th {\n",
       "        vertical-align: top;\n",
       "    }\n",
       "\n",
       "    .dataframe thead th {\n",
       "        text-align: right;\n",
       "    }\n",
       "</style>\n",
       "<table border=\"1\" class=\"dataframe\">\n",
       "  <thead>\n",
       "    <tr style=\"text-align: right;\">\n",
       "      <th></th>\n",
       "      <th>name</th>\n",
       "      <th>hemisphere</th>\n",
       "    </tr>\n",
       "  </thead>\n",
       "  <tbody>\n",
       "    <tr>\n",
       "      <th>0</th>\n",
       "      <td>angola</td>\n",
       "      <td>south</td>\n",
       "    </tr>\n",
       "    <tr>\n",
       "      <th>1</th>\n",
       "      <td>antarctica</td>\n",
       "      <td>south</td>\n",
       "    </tr>\n",
       "    <tr>\n",
       "      <th>2</th>\n",
       "      <td>argentina</td>\n",
       "      <td>south</td>\n",
       "    </tr>\n",
       "    <tr>\n",
       "      <th>3</th>\n",
       "      <td>american samoa</td>\n",
       "      <td>south</td>\n",
       "    </tr>\n",
       "    <tr>\n",
       "      <th>4</th>\n",
       "      <td>australia</td>\n",
       "      <td>south</td>\n",
       "    </tr>\n",
       "    <tr>\n",
       "      <th>...</th>\n",
       "      <td>...</td>\n",
       "      <td>...</td>\n",
       "    </tr>\n",
       "    <tr>\n",
       "      <th>58</th>\n",
       "      <td>samoa</td>\n",
       "      <td>south</td>\n",
       "    </tr>\n",
       "    <tr>\n",
       "      <th>59</th>\n",
       "      <td>mayotte</td>\n",
       "      <td>south</td>\n",
       "    </tr>\n",
       "    <tr>\n",
       "      <th>60</th>\n",
       "      <td>south africa</td>\n",
       "      <td>south</td>\n",
       "    </tr>\n",
       "    <tr>\n",
       "      <th>61</th>\n",
       "      <td>zambia</td>\n",
       "      <td>south</td>\n",
       "    </tr>\n",
       "    <tr>\n",
       "      <th>62</th>\n",
       "      <td>zimbabwe</td>\n",
       "      <td>south</td>\n",
       "    </tr>\n",
       "  </tbody>\n",
       "</table>\n",
       "<p>63 rows × 2 columns</p>\n",
       "</div>"
      ],
      "text/plain": [
       "              name hemisphere\n",
       "0           angola      south\n",
       "1       antarctica      south\n",
       "2        argentina      south\n",
       "3   american samoa      south\n",
       "4        australia      south\n",
       "..             ...        ...\n",
       "58           samoa      south\n",
       "59         mayotte      south\n",
       "60    south africa      south\n",
       "61          zambia      south\n",
       "62        zimbabwe      south\n",
       "\n",
       "[63 rows x 2 columns]"
      ]
     },
     "execution_count": 23,
     "metadata": {},
     "output_type": "execute_result"
    }
   ],
   "source": [
    "l_country.reset_index(drop=True)"
   ]
  },
  {
   "cell_type": "markdown",
   "id": "2e403ecc",
   "metadata": {},
   "source": [
    "### Comparing the df's"
   ]
  },
  {
   "cell_type": "markdown",
   "id": "b74dfd74",
   "metadata": {},
   "source": [
    "- Checking both lists can find there are some discrepancies how the countries are described. so, we gonna implement some changes to adjust as much as many countries in order to match both lists"
   ]
  },
  {
   "cell_type": "code",
   "execution_count": 24,
   "id": "03f4837b",
   "metadata": {},
   "outputs": [],
   "source": [
    "ls_country_df= df['Country'].values.tolist()"
   ]
  },
  {
   "cell_type": "code",
   "execution_count": 25,
   "id": "b3294555",
   "metadata": {},
   "outputs": [],
   "source": [
    "df.set_index(['Country'], inplace=True) "
   ]
  },
  {
   "cell_type": "code",
   "execution_count": 26,
   "id": "8ab49a38",
   "metadata": {},
   "outputs": [],
   "source": [
    "lst_n_s=[]\n",
    "for i in ls_country_df:\n",
    "    if i in south_list:\n",
    "        lst_n_s.append(\"south\")\n",
    "    else:\n",
    "        lst_n_s.append(\"north\")"
   ]
  },
  {
   "cell_type": "code",
   "execution_count": 27,
   "id": "9d7bcbb7",
   "metadata": {},
   "outputs": [],
   "source": [
    "dict_={\"hemisphere\":lst_n_s, \"Country\": ls_country_df}"
   ]
  },
  {
   "cell_type": "code",
   "execution_count": 28,
   "id": "f6f9538c",
   "metadata": {},
   "outputs": [],
   "source": [
    "df_hemisphere=pd.DataFrame(dict_)"
   ]
  },
  {
   "cell_type": "code",
   "execution_count": 29,
   "id": "8ac5bae7",
   "metadata": {},
   "outputs": [],
   "source": [
    "df_hemisphere.set_index(['Country'], inplace=True) "
   ]
  },
  {
   "cell_type": "code",
   "execution_count": 30,
   "id": "d1a491d5",
   "metadata": {},
   "outputs": [],
   "source": [
    "df_concat = pd.concat([df, df_hemisphere], axis=1)"
   ]
  },
  {
   "cell_type": "markdown",
   "id": "cc3a697d",
   "metadata": {},
   "source": [
    "### Creating the seasons according to the hemisphere"
   ]
  },
  {
   "cell_type": "code",
   "execution_count": 31,
   "id": "5b712eaa",
   "metadata": {
    "scrolled": true
   },
   "outputs": [],
   "source": [
    "import re\n",
    "df_concat['month'] = df_concat['Date'].apply(lambda x: re.search(r'-(\\w+)-', x).group(1) if re.search(r'-(\\w+)-', x) else \"month_not_found\")"
   ]
  },
  {
   "cell_type": "code",
   "execution_count": 32,
   "id": "43f325c5",
   "metadata": {},
   "outputs": [],
   "source": [
    "df_concat.month.replace({'Ap':'Apr','July': 'Jul'}, inplace =True )"
   ]
  },
  {
   "cell_type": "code",
   "execution_count": 33,
   "id": "bab4c5d5",
   "metadata": {},
   "outputs": [
    {
     "data": {
      "text/plain": [
       "array(['Jun', 'May', 'month_not_found', 'Apr', 'Mar', 'Feb', 'Jan', 'Dec',\n",
       "       'Nov', 'Oct', 'Sep', 'Aug', 'Jul', '30'], dtype=object)"
      ]
     },
     "execution_count": 33,
     "metadata": {},
     "output_type": "execute_result"
    }
   ],
   "source": [
    "df_concat.month.unique()"
   ]
  },
  {
   "cell_type": "code",
   "execution_count": 34,
   "id": "8a60db00",
   "metadata": {},
   "outputs": [],
   "source": [
    "df_concat= df_concat[df_concat.month !='month_not_found'] "
   ]
  },
  {
   "cell_type": "code",
   "execution_count": 35,
   "id": "cfd37bc9",
   "metadata": {},
   "outputs": [],
   "source": [
    "df_concat= df_concat[df_concat.month !='30']"
   ]
  },
  {
   "cell_type": "code",
   "execution_count": 36,
   "id": "b6a30eb0",
   "metadata": {},
   "outputs": [],
   "source": [
    "df_north= df_concat.loc[df_concat['hemisphere'] == \"north\"]#subset for northern countries"
   ]
  },
  {
   "cell_type": "code",
   "execution_count": 37,
   "id": "049f5e2a",
   "metadata": {},
   "outputs": [],
   "source": [
    "df_south= df_concat.loc[df_concat['hemisphere'] == \"south\"]#subset for southern countries"
   ]
  },
  {
   "cell_type": "code",
   "execution_count": 38,
   "id": "4e4a874e",
   "metadata": {},
   "outputs": [],
   "source": [
    "def south_season(month):\n",
    "    season_month_south = {\n",
    "            'Dec':'Summer', 'Jan':'Summer', 'Feb':'Summer',\n",
    "            'Mar':'Autumn', 'Apr':'Autumn', 'May':'Autumn',\n",
    "            'Jun':'Winter', 'Jul':'Winter', 'Aug':'Winter',\n",
    "            'Sep':'Spring', 'Oct':'Spring', 'Nov':'Spring'}\n",
    "    for key, value in season_month_south.items():\n",
    "        if month in key:\n",
    "            return value"
   ]
  },
  {
   "cell_type": "code",
   "execution_count": 39,
   "id": "25ee9b7c",
   "metadata": {
    "scrolled": true
   },
   "outputs": [
    {
     "name": "stderr",
     "output_type": "stream",
     "text": [
      "/var/folders/8p/zy_zh8_j0k926kzhhbp39j9c0000gn/T/ipykernel_18752/210517750.py:1: SettingWithCopyWarning: \n",
      "A value is trying to be set on a copy of a slice from a DataFrame.\n",
      "Try using .loc[row_indexer,col_indexer] = value instead\n",
      "\n",
      "See the caveats in the documentation: https://pandas.pydata.org/pandas-docs/stable/user_guide/indexing.html#returning-a-view-versus-a-copy\n",
      "  df_south['season'] = df_south['month'].map(lambda month:south_season(month))\n"
     ]
    }
   ],
   "source": [
    "df_south['season'] = df_south['month'].map(lambda month:south_season(month))"
   ]
  },
  {
   "cell_type": "code",
   "execution_count": 40,
   "id": "41757e21",
   "metadata": {},
   "outputs": [],
   "source": [
    "def north_season(month):\n",
    "    season_month_north = {\n",
    "            'Dec':'Winter', 'Jan':'Winter', 'Feb':'Winter',\n",
    "            'Mar':'Spring', 'Apr':'Spring', 'May':'Spring',\n",
    "            'Jun':'Summer', 'Jul':'Summer', 'Aug':'Summer',\n",
    "            'Sep':'Autumn', 'Oct':'Autumn', 'Nov':'Autumn'}\n",
    "    for key, value in season_month_north.items():\n",
    "        if key in month:\n",
    "            return value"
   ]
  },
  {
   "cell_type": "code",
   "execution_count": 41,
   "id": "797ed50b",
   "metadata": {},
   "outputs": [
    {
     "name": "stderr",
     "output_type": "stream",
     "text": [
      "/var/folders/8p/zy_zh8_j0k926kzhhbp39j9c0000gn/T/ipykernel_18752/3300816878.py:1: SettingWithCopyWarning: \n",
      "A value is trying to be set on a copy of a slice from a DataFrame.\n",
      "Try using .loc[row_indexer,col_indexer] = value instead\n",
      "\n",
      "See the caveats in the documentation: https://pandas.pydata.org/pandas-docs/stable/user_guide/indexing.html#returning-a-view-versus-a-copy\n",
      "  df_north['season'] = df_north['month'].map(lambda month:north_season(month))\n"
     ]
    }
   ],
   "source": [
    "df_north['season'] = df_north['month'].map(lambda month:north_season(month))"
   ]
  },
  {
   "cell_type": "markdown",
   "id": "71ea9990",
   "metadata": {},
   "source": [
    "### Extracting the data"
   ]
  },
  {
   "cell_type": "code",
   "execution_count": 58,
   "id": "0c09bfcc",
   "metadata": {},
   "outputs": [],
   "source": [
    "import seaborn as sns\n",
    "import matplotlib.pyplot as plt\n"
   ]
  },
  {
   "cell_type": "code",
   "execution_count": 59,
   "id": "801f9da8",
   "metadata": {},
   "outputs": [],
   "source": [
    "north_summer= df_north['season'].value_counts()['Summer']\n",
    "north_autm  = df_north['season'].value_counts()['Autumn']\n",
    "north_wnt   = df_north['season'].value_counts()['Winter']\n",
    "north_sprng = df_north['season'].value_counts()['Spring']\n",
    "total_north= df_north['season'].count()"
   ]
  },
  {
   "cell_type": "code",
   "execution_count": 60,
   "id": "132b389a",
   "metadata": {},
   "outputs": [
    {
     "name": "stdout",
     "output_type": "stream",
     "text": [
      "1020 675 259 486 2440\n"
     ]
    }
   ],
   "source": [
    "print(north_summer, north_autm, north_wnt, north_sprng, total_north)"
   ]
  },
  {
   "cell_type": "code",
   "execution_count": 61,
   "id": "8ec8d9b9",
   "metadata": {},
   "outputs": [],
   "source": [
    "south_summer= df_south['season'].value_counts()['Summer']\n",
    "south_autm  = df_south['season'].value_counts()['Autumn']\n",
    "south_wnt   = df_south['season'].value_counts()['Winter']\n",
    "south_sprng = df_south['season'].value_counts()['Spring']\n",
    "total_south = df_south['season'].count()"
   ]
  },
  {
   "cell_type": "code",
   "execution_count": 62,
   "id": "41d2aac6",
   "metadata": {},
   "outputs": [
    {
     "name": "stdout",
     "output_type": "stream",
     "text": [
      "682 414 265 348 1709\n"
     ]
    }
   ],
   "source": [
    "print (south_summer, south_autm, south_wnt, south_sprng, total_south)"
   ]
  },
  {
   "cell_type": "code",
   "execution_count": 63,
   "id": "7120e8da",
   "metadata": {},
   "outputs": [
    {
     "data": {
      "text/html": [
       "<div>\n",
       "<style scoped>\n",
       "    .dataframe tbody tr th:only-of-type {\n",
       "        vertical-align: middle;\n",
       "    }\n",
       "\n",
       "    .dataframe tbody tr th {\n",
       "        vertical-align: top;\n",
       "    }\n",
       "\n",
       "    .dataframe thead th {\n",
       "        text-align: right;\n",
       "    }\n",
       "</style>\n",
       "<table border=\"1\" class=\"dataframe\">\n",
       "  <thead>\n",
       "    <tr style=\"text-align: right;\">\n",
       "      <th></th>\n",
       "      <th>Date</th>\n",
       "      <th>Year</th>\n",
       "      <th>hemisphere</th>\n",
       "      <th>month</th>\n",
       "    </tr>\n",
       "    <tr>\n",
       "      <th>season</th>\n",
       "      <th></th>\n",
       "      <th></th>\n",
       "      <th></th>\n",
       "      <th></th>\n",
       "    </tr>\n",
       "  </thead>\n",
       "  <tbody>\n",
       "    <tr>\n",
       "      <th>Autumn</th>\n",
       "      <td>675</td>\n",
       "      <td>675</td>\n",
       "      <td>675</td>\n",
       "      <td>675</td>\n",
       "    </tr>\n",
       "    <tr>\n",
       "      <th>Spring</th>\n",
       "      <td>486</td>\n",
       "      <td>486</td>\n",
       "      <td>486</td>\n",
       "      <td>486</td>\n",
       "    </tr>\n",
       "    <tr>\n",
       "      <th>Summer</th>\n",
       "      <td>1020</td>\n",
       "      <td>1020</td>\n",
       "      <td>1020</td>\n",
       "      <td>1020</td>\n",
       "    </tr>\n",
       "    <tr>\n",
       "      <th>Winter</th>\n",
       "      <td>259</td>\n",
       "      <td>259</td>\n",
       "      <td>259</td>\n",
       "      <td>259</td>\n",
       "    </tr>\n",
       "  </tbody>\n",
       "</table>\n",
       "</div>"
      ],
      "text/plain": [
       "        Date  Year  hemisphere  month\n",
       "season                               \n",
       "Autumn   675   675         675    675\n",
       "Spring   486   486         486    486\n",
       "Summer  1020  1020        1020   1020\n",
       "Winter   259   259         259    259"
      ]
     },
     "execution_count": 63,
     "metadata": {},
     "output_type": "execute_result"
    }
   ],
   "source": [
    "df_north.groupby(\"season\").agg(\"count\")"
   ]
  },
  {
   "cell_type": "code",
   "execution_count": 71,
   "id": "290e527f",
   "metadata": {},
   "outputs": [
    {
     "data": {
      "image/png": "[encoded data removed]",
      "text/plain": [
       "<Figure size 432x288 with 1 Axes>"
      ]
     },
     "metadata": {
      "needs_background": "light"
     },
     "output_type": "display_data"
    }
   ],
   "source": [
    "sns.countplot(x=df_north.season).set(title='Northern Hemisphere');"
   ]
  },
  {
   "cell_type": "code",
   "execution_count": 69,
   "id": "604423ee",
   "metadata": {},
   "outputs": [
    {
     "data": {
      "text/html": [
       "<div>\n",
       "<style scoped>\n",
       "    .dataframe tbody tr th:only-of-type {\n",
       "        vertical-align: middle;\n",
       "    }\n",
       "\n",
       "    .dataframe tbody tr th {\n",
       "        vertical-align: top;\n",
       "    }\n",
       "\n",
       "    .dataframe thead th {\n",
       "        text-align: right;\n",
       "    }\n",
       "</style>\n",
       "<table border=\"1\" class=\"dataframe\">\n",
       "  <thead>\n",
       "    <tr style=\"text-align: right;\">\n",
       "      <th></th>\n",
       "      <th>Date</th>\n",
       "      <th>Year</th>\n",
       "      <th>hemisphere</th>\n",
       "      <th>month</th>\n",
       "    </tr>\n",
       "    <tr>\n",
       "      <th>season</th>\n",
       "      <th></th>\n",
       "      <th></th>\n",
       "      <th></th>\n",
       "      <th></th>\n",
       "    </tr>\n",
       "  </thead>\n",
       "  <tbody>\n",
       "    <tr>\n",
       "      <th>Autumn</th>\n",
       "      <td>414</td>\n",
       "      <td>414</td>\n",
       "      <td>414</td>\n",
       "      <td>414</td>\n",
       "    </tr>\n",
       "    <tr>\n",
       "      <th>Spring</th>\n",
       "      <td>348</td>\n",
       "      <td>348</td>\n",
       "      <td>348</td>\n",
       "      <td>348</td>\n",
       "    </tr>\n",
       "    <tr>\n",
       "      <th>Summer</th>\n",
       "      <td>682</td>\n",
       "      <td>682</td>\n",
       "      <td>682</td>\n",
       "      <td>682</td>\n",
       "    </tr>\n",
       "    <tr>\n",
       "      <th>Winter</th>\n",
       "      <td>265</td>\n",
       "      <td>265</td>\n",
       "      <td>265</td>\n",
       "      <td>265</td>\n",
       "    </tr>\n",
       "  </tbody>\n",
       "</table>\n",
       "</div>"
      ],
      "text/plain": [
       "        Date  Year  hemisphere  month\n",
       "season                               \n",
       "Autumn   414   414         414    414\n",
       "Spring   348   348         348    348\n",
       "Summer   682   682         682    682\n",
       "Winter   265   265         265    265"
      ]
     },
     "execution_count": 69,
     "metadata": {},
     "output_type": "execute_result"
    }
   ],
   "source": [
    "df_south.groupby(\"season\").agg(\"count\")"
   ]
  },
  {
   "cell_type": "code",
   "execution_count": 70,
   "id": "63464500",
   "metadata": {},
   "outputs": [
    {
     "data": {
      "image/png": "[encoded data removed]",
      "text/plain": [
       "<Figure size 432x288 with 1 Axes>"
      ]
     },
     "metadata": {
      "needs_background": "light"
     },
     "output_type": "display_data"
    }
   ],
   "source": [
    "sns.countplot(x=df_south.season).set(title='Southern Hemisphere');"
   ]
  },
  {
   "cell_type": "code",
   "execution_count": 77,
   "id": "8aeef5f7",
   "metadata": {},
   "outputs": [],
   "source": [
    "#df_north + df_south\n",
    "df_both_hemisp_= pd.concat([df_north, df_south], ignore_index=True, sort=False)"
   ]
  },
  {
   "cell_type": "code",
   "execution_count": 78,
   "id": "2446d6ea",
   "metadata": {},
   "outputs": [
    {
     "data": {
      "text/html": [
       "<div>\n",
       "<style scoped>\n",
       "    .dataframe tbody tr th:only-of-type {\n",
       "        vertical-align: middle;\n",
       "    }\n",
       "\n",
       "    .dataframe tbody tr th {\n",
       "        vertical-align: top;\n",
       "    }\n",
       "\n",
       "    .dataframe thead th {\n",
       "        text-align: right;\n",
       "    }\n",
       "</style>\n",
       "<table border=\"1\" class=\"dataframe\">\n",
       "  <thead>\n",
       "    <tr style=\"text-align: right;\">\n",
       "      <th></th>\n",
       "      <th>Date</th>\n",
       "      <th>Year</th>\n",
       "      <th>hemisphere</th>\n",
       "      <th>month</th>\n",
       "    </tr>\n",
       "    <tr>\n",
       "      <th>season</th>\n",
       "      <th></th>\n",
       "      <th></th>\n",
       "      <th></th>\n",
       "      <th></th>\n",
       "    </tr>\n",
       "  </thead>\n",
       "  <tbody>\n",
       "    <tr>\n",
       "      <th>Autumn</th>\n",
       "      <td>1089</td>\n",
       "      <td>1089</td>\n",
       "      <td>1089</td>\n",
       "      <td>1089</td>\n",
       "    </tr>\n",
       "    <tr>\n",
       "      <th>Spring</th>\n",
       "      <td>834</td>\n",
       "      <td>834</td>\n",
       "      <td>834</td>\n",
       "      <td>834</td>\n",
       "    </tr>\n",
       "    <tr>\n",
       "      <th>Summer</th>\n",
       "      <td>1702</td>\n",
       "      <td>1702</td>\n",
       "      <td>1702</td>\n",
       "      <td>1702</td>\n",
       "    </tr>\n",
       "    <tr>\n",
       "      <th>Winter</th>\n",
       "      <td>524</td>\n",
       "      <td>524</td>\n",
       "      <td>524</td>\n",
       "      <td>524</td>\n",
       "    </tr>\n",
       "  </tbody>\n",
       "</table>\n",
       "</div>"
      ],
      "text/plain": [
       "        Date  Year  hemisphere  month\n",
       "season                               \n",
       "Autumn  1089  1089        1089   1089\n",
       "Spring   834   834         834    834\n",
       "Summer  1702  1702        1702   1702\n",
       "Winter   524   524         524    524"
      ]
     },
     "execution_count": 78,
     "metadata": {},
     "output_type": "execute_result"
    }
   ],
   "source": [
    "df_both_hemisp_.groupby(\"season\").agg(\"count\")"
   ]
  },
  {
   "cell_type": "code",
   "execution_count": 79,
   "id": "b69bd90b",
   "metadata": {},
   "outputs": [
    {
     "data": {
      "image/png": "[encoded data removed]",
      "text/plain": [
       "<Figure size 432x288 with 1 Axes>"
      ]
     },
     "metadata": {
      "needs_background": "light"
     },
     "output_type": "display_data"
    }
   ],
   "source": [
    "sns.countplot(x=df_both_hemisp_.season).set(title='Both Hemispheres Together');"
   ]
  },
  {
   "cell_type": "code",
   "execution_count": null,
   "id": "8862a0d7",
   "metadata": {},
   "outputs": [],
   "source": []
  }
 ],
 "metadata": {
  "kernelspec": {
   "display_name": "ironhack",
   "language": "python",
   "name": "ironhack"
  },
  "language_info": {
   "codemirror_mode": {
    "name": "ipython",
    "version": 3
   },
   "file_extension": ".py",
   "mimetype": "text/x-python",
   "name": "python",
   "nbconvert_exporter": "python",
   "pygments_lexer": "ipython3",
   "version": "3.9.15"
  },
  "toc": {
   "base_numbering": 1,
   "nav_menu": {},
   "number_sections": true,
   "sideBar": true,
   "skip_h1_title": false,
   "title_cell": "Table of Contents",
   "title_sidebar": "Contents",
   "toc_cell": false,
   "toc_position": {},
   "toc_section_display": true,
   "toc_window_display": false
  },
  "vscode": {
   "interpreter": {
    "hash": "65c280bfb1607ddbce30fd0ce3f06f418f353a9e23ac72900d787e513dca203b"
   }
  }
 },
 "nbformat": 4,
 "nbformat_minor": 5
}
