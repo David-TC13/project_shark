{
 "cells": [
  {
   "cell_type": "code",
   "execution_count": 1,
   "id": "01b0c671",
   "metadata": {},
   "outputs": [],
   "source": [
    "import numpy as np\n",
    "import pandas as pd"
   ]
  },
  {
   "cell_type": "code",
   "execution_count": 2,
   "id": "65554156",
   "metadata": {},
   "outputs": [],
   "source": [
    "df= pd.read_csv(\"data/attacks.csv\", encoding='cp1252')"
   ]
  },
  {
   "cell_type": "code",
   "execution_count": 3,
   "id": "21a94f74",
   "metadata": {},
   "outputs": [
    {
     "data": {
      "text/plain": [
       "(25723, 24)"
      ]
     },
     "execution_count": 3,
     "metadata": {},
     "output_type": "execute_result"
    }
   ],
   "source": [
    "df.shape"
   ]
  },
  {
   "cell_type": "code",
   "execution_count": 4,
   "id": "2153b23d",
   "metadata": {
    "scrolled": true
   },
   "outputs": [
    {
     "name": "stdout",
     "output_type": "stream",
     "text": [
      "<class 'pandas.core.frame.DataFrame'>\n",
      "RangeIndex: 25723 entries, 0 to 25722\n",
      "Data columns (total 24 columns):\n",
      " #   Column                  Non-Null Count  Dtype  \n",
      "---  ------                  --------------  -----  \n",
      " 0   Case Number             8702 non-null   object \n",
      " 1   Date                    6302 non-null   object \n",
      " 2   Year                    6300 non-null   float64\n",
      " 3   Type                    6298 non-null   object \n",
      " 4   Country                 6252 non-null   object \n",
      " 5   Area                    5847 non-null   object \n",
      " 6   Location                5762 non-null   object \n",
      " 7   Activity                5758 non-null   object \n",
      " 8   Name                    6092 non-null   object \n",
      " 9   Sex                     5737 non-null   object \n",
      " 10  Age                     3471 non-null   object \n",
      " 11  Injury                  6274 non-null   object \n",
      " 12  Fatal (Y/N)             5763 non-null   object \n",
      " 13  Time                    2948 non-null   object \n",
      " 14  Species                 3464 non-null   object \n",
      " 15  Investigator or Source  6285 non-null   object \n",
      " 16  pdf                     6302 non-null   object \n",
      " 17  href formula            6301 non-null   object \n",
      " 18  href                    6302 non-null   object \n",
      " 19  Case Number.1           6302 non-null   object \n",
      " 20  Case Number.2           6302 non-null   object \n",
      " 21  original order          6309 non-null   float64\n",
      " 22  Unnamed: 22             1 non-null      object \n",
      " 23  Unnamed: 23             2 non-null      object \n",
      "dtypes: float64(2), object(22)\n",
      "memory usage: 4.7+ MB\n"
     ]
    }
   ],
   "source": [
    "df.info() #check out the info of the table"
   ]
  },
  {
   "cell_type": "markdown",
   "id": "ed6b8d6e",
   "metadata": {},
   "source": [
    "### dropping all duplicated and empty rows"
   ]
  },
  {
   "cell_type": "code",
   "execution_count": 5,
   "id": "fd4e1aef",
   "metadata": {},
   "outputs": [],
   "source": [
    "df.drop_duplicates(inplace= True) #remove all the values duplicated"
   ]
  },
  {
   "cell_type": "code",
   "execution_count": 6,
   "id": "d250fe17",
   "metadata": {},
   "outputs": [
    {
     "data": {
      "text/plain": [
       "(6312, 24)"
      ]
     },
     "execution_count": 6,
     "metadata": {},
     "output_type": "execute_result"
    }
   ],
   "source": [
    "df.shape"
   ]
  },
  {
   "cell_type": "code",
   "execution_count": 7,
   "id": "9850dd91",
   "metadata": {},
   "outputs": [],
   "source": [
    "df.dropna(how= 'all',inplace= True) #removed all the rows which all the values were NaN."
   ]
  },
  {
   "cell_type": "code",
   "execution_count": 8,
   "id": "b658a45c",
   "metadata": {},
   "outputs": [
    {
     "data": {
      "text/plain": [
       "(6311, 24)"
      ]
     },
     "execution_count": 8,
     "metadata": {},
     "output_type": "execute_result"
    }
   ],
   "source": [
    "df.shape"
   ]
  },
  {
   "cell_type": "code",
   "execution_count": 9,
   "id": "9f273e58",
   "metadata": {},
   "outputs": [
    {
     "data": {
      "text/html": [
       "<div>\n",
       "<style scoped>\n",
       "    .dataframe tbody tr th:only-of-type {\n",
       "        vertical-align: middle;\n",
       "    }\n",
       "\n",
       "    .dataframe tbody tr th {\n",
       "        vertical-align: top;\n",
       "    }\n",
       "\n",
       "    .dataframe thead th {\n",
       "        text-align: right;\n",
       "    }\n",
       "</style>\n",
       "<table border=\"1\" class=\"dataframe\">\n",
       "  <thead>\n",
       "    <tr style=\"text-align: right;\">\n",
       "      <th></th>\n",
       "      <th>Case Number</th>\n",
       "      <th>Date</th>\n",
       "      <th>Year</th>\n",
       "      <th>Type</th>\n",
       "      <th>Country</th>\n",
       "      <th>Area</th>\n",
       "      <th>Location</th>\n",
       "      <th>Activity</th>\n",
       "      <th>Name</th>\n",
       "      <th>Sex</th>\n",
       "      <th>...</th>\n",
       "      <th>Species</th>\n",
       "      <th>Investigator or Source</th>\n",
       "      <th>pdf</th>\n",
       "      <th>href formula</th>\n",
       "      <th>href</th>\n",
       "      <th>Case Number.1</th>\n",
       "      <th>Case Number.2</th>\n",
       "      <th>original order</th>\n",
       "      <th>Unnamed: 22</th>\n",
       "      <th>Unnamed: 23</th>\n",
       "    </tr>\n",
       "  </thead>\n",
       "  <tbody>\n",
       "    <tr>\n",
       "      <th>658</th>\n",
       "      <td>2013.07.02</td>\n",
       "      <td>02-Jul-2013</td>\n",
       "      <td>2013.0</td>\n",
       "      <td>Unprovoked</td>\n",
       "      <td>AUSTRALIA</td>\n",
       "      <td>Victoria</td>\n",
       "      <td>Flinders, Mornington Penisula</td>\n",
       "      <td>Body surfing</td>\n",
       "      <td>Jimmy McDonald-Jones</td>\n",
       "      <td>M</td>\n",
       "      <td>...</td>\n",
       "      <td>NaN</td>\n",
       "      <td>Herald Sun, 7/3/2013</td>\n",
       "      <td>2013.07.02-McDonald-Jones.pdf</td>\n",
       "      <td>http://sharkattackfile.net/spreadsheets/pdf_di...</td>\n",
       "      <td>http://sharkattackfile.net/spreadsheets/pdf_di...</td>\n",
       "      <td>2013.07.02</td>\n",
       "      <td>2013.07.02</td>\n",
       "      <td>5645.0</td>\n",
       "      <td>NaN</td>\n",
       "      <td>NaN</td>\n",
       "    </tr>\n",
       "  </tbody>\n",
       "</table>\n",
       "<p>1 rows × 24 columns</p>\n",
       "</div>"
      ],
      "text/plain": [
       "    Case Number         Date    Year        Type    Country      Area  \\\n",
       "658  2013.07.02  02-Jul-2013  2013.0  Unprovoked  AUSTRALIA  Victoria   \n",
       "\n",
       "                          Location      Activity                  Name Sex   \\\n",
       "658  Flinders, Mornington Penisula  Body surfing  Jimmy McDonald-Jones    M   \n",
       "\n",
       "     ... Species  Investigator or Source                            pdf  \\\n",
       "658  ...      NaN   Herald Sun, 7/3/2013  2013.07.02-McDonald-Jones.pdf   \n",
       "\n",
       "                                          href formula  \\\n",
       "658  http://sharkattackfile.net/spreadsheets/pdf_di...   \n",
       "\n",
       "                                                  href Case Number.1  \\\n",
       "658  http://sharkattackfile.net/spreadsheets/pdf_di...    2013.07.02   \n",
       "\n",
       "    Case Number.2 original order Unnamed: 22 Unnamed: 23  \n",
       "658    2013.07.02         5645.0         NaN         NaN  \n",
       "\n",
       "[1 rows x 24 columns]"
      ]
     },
     "execution_count": 9,
     "metadata": {},
     "output_type": "execute_result"
    }
   ],
   "source": [
    "df.sample()"
   ]
  },
  {
   "cell_type": "markdown",
   "id": "fdf1d974",
   "metadata": {
    "scrolled": true
   },
   "source": [
    "### Eliminating all the columns are not useful for the hypothesis and rows without the all data it's necesary "
   ]
  },
  {
   "cell_type": "code",
   "execution_count": 10,
   "id": "e5baea5c",
   "metadata": {},
   "outputs": [
    {
     "data": {
      "text/plain": [
       "['Case Number',\n",
       " 'Date',\n",
       " 'Year',\n",
       " 'Type',\n",
       " 'Country',\n",
       " 'Area',\n",
       " 'Location',\n",
       " 'Activity',\n",
       " 'Name',\n",
       " 'Sex ',\n",
       " 'Age',\n",
       " 'Injury',\n",
       " 'Fatal (Y/N)',\n",
       " 'Time',\n",
       " 'Species ',\n",
       " 'Investigator or Source',\n",
       " 'pdf',\n",
       " 'href formula',\n",
       " 'href',\n",
       " 'Case Number.1',\n",
       " 'Case Number.2',\n",
       " 'original order',\n",
       " 'Unnamed: 22',\n",
       " 'Unnamed: 23']"
      ]
     },
     "execution_count": 10,
     "metadata": {},
     "output_type": "execute_result"
    }
   ],
   "source": [
    "list(df.columns)"
   ]
  },
  {
   "cell_type": "code",
   "execution_count": 11,
   "id": "d5e99154",
   "metadata": {},
   "outputs": [],
   "source": [
    "df.drop (labels= ['Case Number',\n",
    " 'Type',\n",
    " 'Activity',\n",
    " 'Name',\n",
    " 'Sex ',\n",
    " 'Age',\n",
    " 'Injury',\n",
    " 'Fatal (Y/N)',\n",
    " 'Time',\n",
    " 'Species ',\n",
    " 'Investigator or Source',\n",
    " 'pdf',\n",
    " 'href formula',\n",
    " 'href',\n",
    " 'Case Number.1',\n",
    " 'Case Number.2',\n",
    " 'Unnamed: 22',\n",
    " 'Unnamed: 23'], axis= 1, inplace= True)"
   ]
  },
  {
   "cell_type": "code",
   "execution_count": 12,
   "id": "389ee7a3",
   "metadata": {},
   "outputs": [],
   "source": [
    "df = df[df[\"original order\"] != \"nan\"]"
   ]
  },
  {
   "cell_type": "code",
   "execution_count": 13,
   "id": "1b01905c",
   "metadata": {},
   "outputs": [],
   "source": [
    "df=df[df[\"Year\"]>=1946]"
   ]
  },
  {
   "cell_type": "code",
   "execution_count": 14,
   "id": "d8939f5e",
   "metadata": {},
   "outputs": [],
   "source": [
    "df['original order'] = df['original order'].astype('str')\n",
    "df['original order'] = df['original order'].map(lambda x: x.rstrip('.0'))\n",
    "df['original order'] = df['original order'].astype('int')"
   ]
  },
  {
   "cell_type": "code",
   "execution_count": 15,
   "id": "b2211536",
   "metadata": {},
   "outputs": [],
   "source": [
    "df['Year'] = df['Year'].astype('str')\n",
    "df['Year'] = df['Year'].map(lambda x: x.rstrip('.0'))\n",
    "df['Year'] = df['Year'].astype('int')"
   ]
  },
  {
   "cell_type": "code",
   "execution_count": 16,
   "id": "ea475897",
   "metadata": {},
   "outputs": [
    {
     "data": {
      "text/plain": [
       "Date              object\n",
       "Year               int64\n",
       "Country           object\n",
       "Area              object\n",
       "Location          object\n",
       "original order     int64\n",
       "dtype: object"
      ]
     },
     "execution_count": 16,
     "metadata": {},
     "output_type": "execute_result"
    }
   ],
   "source": [
    "df.dtypes"
   ]
  },
  {
   "cell_type": "code",
   "execution_count": 17,
   "id": "f63bb8e0",
   "metadata": {},
   "outputs": [
    {
     "data": {
      "text/plain": [
       "4598"
      ]
     },
     "execution_count": 17,
     "metadata": {},
     "output_type": "execute_result"
    }
   ],
   "source": [
    "df['Country'].notna().sum()\n"
   ]
  },
  {
   "cell_type": "code",
   "execution_count": 18,
   "id": "2726c868",
   "metadata": {},
   "outputs": [
    {
     "data": {
      "text/plain": [
       "15"
      ]
     },
     "execution_count": 18,
     "metadata": {},
     "output_type": "execute_result"
    }
   ],
   "source": [
    "df['Country'].isna().sum()"
   ]
  },
  {
   "cell_type": "code",
   "execution_count": 19,
   "id": "e3b5408f",
   "metadata": {},
   "outputs": [
    {
     "data": {
      "text/plain": [
       "(array([  62,  524, 2955, 3377, 3386, 3387, 3394, 3398, 3424, 3604, 3660,\n",
       "        4017, 4230, 4265, 4497]),)"
      ]
     },
     "execution_count": 19,
     "metadata": {},
     "output_type": "execute_result"
    }
   ],
   "source": [
    "np.where(pd.isnull(df[\"Country\"]))"
   ]
  },
  {
   "cell_type": "markdown",
   "id": "0070b176",
   "metadata": {},
   "source": [
    "### check if it was summer"
   ]
  },
  {
   "cell_type": "code",
   "execution_count": null,
   "id": "93282b2f",
   "metadata": {},
   "outputs": [],
   "source": []
  },
  {
   "cell_type": "code",
   "execution_count": null,
   "id": "9c9c1dc9",
   "metadata": {},
   "outputs": [],
   "source": []
  }
 ],
 "metadata": {
  "kernelspec": {
   "display_name": "Python 3 (ipykernel)",
   "language": "python",
   "name": "python3"
  },
  "language_info": {
   "codemirror_mode": {
    "name": "ipython",
    "version": 3
   },
   "file_extension": ".py",
   "mimetype": "text/x-python",
   "name": "python",
   "nbconvert_exporter": "python",
   "pygments_lexer": "ipython3",
   "version": "3.9.15"
  },
  "toc": {
   "base_numbering": 1,
   "nav_menu": {},
   "number_sections": true,
   "sideBar": true,
   "skip_h1_title": false,
   "title_cell": "Table of Contents",
   "title_sidebar": "Contents",
   "toc_cell": false,
   "toc_position": {},
   "toc_section_display": true,
   "toc_window_display": false
  },
  "vscode": {
   "interpreter": {
    "hash": "65c280bfb1607ddbce30fd0ce3f06f418f353a9e23ac72900d787e513dca203b"
   }
  }
 },
 "nbformat": 4,
 "nbformat_minor": 5
}
