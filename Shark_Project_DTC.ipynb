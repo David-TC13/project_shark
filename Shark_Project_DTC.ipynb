{
 "cells": [
  {
   "cell_type": "code",
   "execution_count": 1,
   "id": "01b0c671",
   "metadata": {},
   "outputs": [],
   "source": [
    "import numpy as np\n",
    "import pandas as pd"
   ]
  },
  {
   "cell_type": "code",
   "execution_count": 2,
   "id": "65554156",
   "metadata": {},
   "outputs": [],
   "source": [
    "df= pd.read_csv(\"data/attacks.csv\", encoding='cp1252')"
   ]
  },
  {
   "cell_type": "code",
   "execution_count": 3,
   "id": "1123d689",
   "metadata": {},
   "outputs": [
    {
     "data": {
      "text/plain": [
       "(25723, 24)"
      ]
     },
     "execution_count": 3,
     "metadata": {},
     "output_type": "execute_result"
    }
   ],
   "source": [
    "df.shape"
   ]
  },
  {
   "cell_type": "code",
   "execution_count": 4,
   "id": "2153b23d",
   "metadata": {
    "scrolled": true
   },
   "outputs": [
    {
     "name": "stdout",
     "output_type": "stream",
     "text": [
      "<class 'pandas.core.frame.DataFrame'>\n",
      "RangeIndex: 25723 entries, 0 to 25722\n",
      "Data columns (total 24 columns):\n",
      " #   Column                  Non-Null Count  Dtype  \n",
      "---  ------                  --------------  -----  \n",
      " 0   Case Number             8702 non-null   object \n",
      " 1   Date                    6302 non-null   object \n",
      " 2   Year                    6300 non-null   float64\n",
      " 3   Type                    6298 non-null   object \n",
      " 4   Country                 6252 non-null   object \n",
      " 5   Area                    5847 non-null   object \n",
      " 6   Location                5762 non-null   object \n",
      " 7   Activity                5758 non-null   object \n",
      " 8   Name                    6092 non-null   object \n",
      " 9   Sex                     5737 non-null   object \n",
      " 10  Age                     3471 non-null   object \n",
      " 11  Injury                  6274 non-null   object \n",
      " 12  Fatal (Y/N)             5763 non-null   object \n",
      " 13  Time                    2948 non-null   object \n",
      " 14  Species                 3464 non-null   object \n",
      " 15  Investigator or Source  6285 non-null   object \n",
      " 16  pdf                     6302 non-null   object \n",
      " 17  href formula            6301 non-null   object \n",
      " 18  href                    6302 non-null   object \n",
      " 19  Case Number.1           6302 non-null   object \n",
      " 20  Case Number.2           6302 non-null   object \n",
      " 21  original order          6309 non-null   float64\n",
      " 22  Unnamed: 22             1 non-null      object \n",
      " 23  Unnamed: 23             2 non-null      object \n",
      "dtypes: float64(2), object(22)\n",
      "memory usage: 4.7+ MB\n"
     ]
    }
   ],
   "source": [
    "df.info() #check out the info of the table"
   ]
  },
  {
   "cell_type": "markdown",
   "id": "ee97d066",
   "metadata": {},
   "source": [
    "### dropping all duplicated and empty rows"
   ]
  },
  {
   "cell_type": "code",
   "execution_count": 5,
   "id": "482b5ba4",
   "metadata": {},
   "outputs": [],
   "source": [
    "df.drop_duplicates(inplace= True) #remove all the values duplicated"
   ]
  },
  {
   "cell_type": "code",
   "execution_count": 6,
   "id": "aac0dab3",
   "metadata": {},
   "outputs": [
    {
     "data": {
      "text/plain": [
       "(6312, 24)"
      ]
     },
     "execution_count": 6,
     "metadata": {},
     "output_type": "execute_result"
    }
   ],
   "source": [
    "df.shape"
   ]
  },
  {
   "cell_type": "code",
   "execution_count": 7,
   "id": "9850dd91",
   "metadata": {},
   "outputs": [],
   "source": [
    "df.dropna(how= 'all',inplace= True) #removed all the rows which all the values were NaN."
   ]
  },
  {
   "cell_type": "code",
   "execution_count": 8,
   "id": "815ac468",
   "metadata": {},
   "outputs": [
    {
     "data": {
      "text/plain": [
       "(6311, 24)"
      ]
     },
     "execution_count": 8,
     "metadata": {},
     "output_type": "execute_result"
    }
   ],
   "source": [
    "df.shape"
   ]
  },
  {
   "cell_type": "code",
   "execution_count": 9,
   "id": "95d814a5",
   "metadata": {},
   "outputs": [
    {
     "data": {
      "text/html": [
       "<div>\n",
       "<style scoped>\n",
       "    .dataframe tbody tr th:only-of-type {\n",
       "        vertical-align: middle;\n",
       "    }\n",
       "\n",
       "    .dataframe tbody tr th {\n",
       "        vertical-align: top;\n",
       "    }\n",
       "\n",
       "    .dataframe thead th {\n",
       "        text-align: right;\n",
       "    }\n",
       "</style>\n",
       "<table border=\"1\" class=\"dataframe\">\n",
       "  <thead>\n",
       "    <tr style=\"text-align: right;\">\n",
       "      <th></th>\n",
       "      <th>Case Number</th>\n",
       "      <th>Date</th>\n",
       "      <th>Year</th>\n",
       "      <th>Type</th>\n",
       "      <th>Country</th>\n",
       "      <th>Area</th>\n",
       "      <th>Location</th>\n",
       "      <th>Activity</th>\n",
       "      <th>Name</th>\n",
       "      <th>Sex</th>\n",
       "      <th>...</th>\n",
       "      <th>Species</th>\n",
       "      <th>Investigator or Source</th>\n",
       "      <th>pdf</th>\n",
       "      <th>href formula</th>\n",
       "      <th>href</th>\n",
       "      <th>Case Number.1</th>\n",
       "      <th>Case Number.2</th>\n",
       "      <th>original order</th>\n",
       "      <th>Unnamed: 22</th>\n",
       "      <th>Unnamed: 23</th>\n",
       "    </tr>\n",
       "  </thead>\n",
       "  <tbody>\n",
       "    <tr>\n",
       "      <th>3582</th>\n",
       "      <td>1966.04.08</td>\n",
       "      <td>08-Apr-1966</td>\n",
       "      <td>1966.0</td>\n",
       "      <td>Unprovoked</td>\n",
       "      <td>USA</td>\n",
       "      <td>Puerto Rico</td>\n",
       "      <td>NaN</td>\n",
       "      <td>Swimming</td>\n",
       "      <td>John Seaver</td>\n",
       "      <td>M</td>\n",
       "      <td>...</td>\n",
       "      <td>NaN</td>\n",
       "      <td>H.D. Baldridge (1994) SAF Case #1483</td>\n",
       "      <td>1966.04.08-NV-Seaver.pdf</td>\n",
       "      <td>http://sharkattackfile.net/spreadsheets/pdf_di...</td>\n",
       "      <td>http://sharkattackfile.net/spreadsheets/pdf_di...</td>\n",
       "      <td>1966.04.08</td>\n",
       "      <td>1966.04.08</td>\n",
       "      <td>2721.0</td>\n",
       "      <td>NaN</td>\n",
       "      <td>NaN</td>\n",
       "    </tr>\n",
       "  </tbody>\n",
       "</table>\n",
       "<p>1 rows × 24 columns</p>\n",
       "</div>"
      ],
      "text/plain": [
       "     Case Number         Date    Year        Type Country         Area  \\\n",
       "3582  1966.04.08  08-Apr-1966  1966.0  Unprovoked     USA  Puerto Rico   \n",
       "\n",
       "     Location  Activity         Name Sex   ... Species   \\\n",
       "3582      NaN  Swimming  John Seaver    M  ...      NaN   \n",
       "\n",
       "                    Investigator or Source                       pdf  \\\n",
       "3582  H.D. Baldridge (1994) SAF Case #1483  1966.04.08-NV-Seaver.pdf   \n",
       "\n",
       "                                           href formula  \\\n",
       "3582  http://sharkattackfile.net/spreadsheets/pdf_di...   \n",
       "\n",
       "                                                   href Case Number.1  \\\n",
       "3582  http://sharkattackfile.net/spreadsheets/pdf_di...    1966.04.08   \n",
       "\n",
       "     Case Number.2 original order Unnamed: 22 Unnamed: 23  \n",
       "3582    1966.04.08         2721.0         NaN         NaN  \n",
       "\n",
       "[1 rows x 24 columns]"
      ]
     },
     "execution_count": 9,
     "metadata": {},
     "output_type": "execute_result"
    }
   ],
   "source": [
    "df.sample()"
   ]
  },
  {
   "cell_type": "markdown",
   "id": "fe0385f3",
   "metadata": {
    "scrolled": true
   },
   "source": [
    "### Eliminating all the columns are not useful for the hypothesis and rows without the all data it's necesary "
   ]
  },
  {
   "cell_type": "code",
   "execution_count": 10,
   "id": "1dee15a0",
   "metadata": {},
   "outputs": [
    {
     "data": {
      "text/plain": [
       "['Case Number',\n",
       " 'Date',\n",
       " 'Year',\n",
       " 'Type',\n",
       " 'Country',\n",
       " 'Area',\n",
       " 'Location',\n",
       " 'Activity',\n",
       " 'Name',\n",
       " 'Sex ',\n",
       " 'Age',\n",
       " 'Injury',\n",
       " 'Fatal (Y/N)',\n",
       " 'Time',\n",
       " 'Species ',\n",
       " 'Investigator or Source',\n",
       " 'pdf',\n",
       " 'href formula',\n",
       " 'href',\n",
       " 'Case Number.1',\n",
       " 'Case Number.2',\n",
       " 'original order',\n",
       " 'Unnamed: 22',\n",
       " 'Unnamed: 23']"
      ]
     },
     "execution_count": 10,
     "metadata": {},
     "output_type": "execute_result"
    }
   ],
   "source": [
    "list(df.columns)"
   ]
  },
  {
   "cell_type": "code",
   "execution_count": 11,
   "id": "e014c762",
   "metadata": {},
   "outputs": [],
   "source": [
    "df.drop (labels= ['Case Number',\n",
    " 'Type',\n",
    " 'Activity',\n",
    " 'Name',\n",
    " 'Sex ',\n",
    " 'Age',\n",
    " 'Injury',\n",
    " 'Fatal (Y/N)',\n",
    " 'Time',\n",
    " 'Species ',\n",
    " 'Investigator or Source',\n",
    " 'pdf',\n",
    " 'href formula',\n",
    " 'href',\n",
    " 'Case Number.1',\n",
    " 'Case Number.2',\n",
    " 'Unnamed: 22',\n",
    " 'Unnamed: 23',\n",
    " 'original order'], axis= 1, inplace= True)"
   ]
  },
  {
   "cell_type": "markdown",
   "id": "f5109600",
   "metadata": {},
   "source": [
    "### Deleting all the incidents happened before 1946 when the World Tourism Organization was created"
   ]
  },
  {
   "cell_type": "code",
   "execution_count": 12,
   "id": "5cf571f1",
   "metadata": {},
   "outputs": [],
   "source": [
    "df=df[df[\"Year\"]>=1946] #remove the row before the year "
   ]
  },
  {
   "cell_type": "code",
   "execution_count": 13,
   "id": "94956bad",
   "metadata": {},
   "outputs": [],
   "source": [
    "df['Year'] = df['Year'].astype('str') # remove the .0 format to have a proper year\n",
    "df['Year'] = df['Year'].map(lambda x: x.rstrip('.0'))\n",
    "df['Year'] = df['Year'].astype('int')"
   ]
  },
  {
   "cell_type": "code",
   "execution_count": 14,
   "id": "31cca859",
   "metadata": {},
   "outputs": [],
   "source": [
    "df.dropna(subset = ['Country'], inplace=True) # remove all the empty values for country"
   ]
  },
  {
   "cell_type": "code",
   "execution_count": 15,
   "id": "22285937",
   "metadata": {},
   "outputs": [],
   "source": [
    "df['Country'] = df['Country'].apply(lambda x: x.lower())#lowercase to compare later with a list of countries"
   ]
  },
  {
   "cell_type": "code",
   "execution_count": 16,
   "id": "b815d8e2",
   "metadata": {},
   "outputs": [
    {
     "data": {
      "text/plain": [
       "array(['usa', 'australia', 'mexico', 'brazil', 'england', 'south africa',\n",
       "       'thailand', 'costa rica', 'maldives', 'bahamas', 'new caledonia',\n",
       "       'ecuador', 'malaysia', 'libya', 'cuba', 'mauritius', 'new zealand',\n",
       "       'spain', 'samoa', 'solomon islands', 'japan', 'egypt',\n",
       "       'st helena, british overseas territory', 'comoros', 'reunion',\n",
       "       'french polynesia', 'united kingdom', 'united arab emirates',\n",
       "       'philippines', 'indonesia', 'china', 'columbia', 'cape verde',\n",
       "       'fiji', 'dominican republic', 'cayman islands', 'aruba',\n",
       "       'mozambique', 'puerto rico', 'italy', 'atlantic ocean', 'greece',\n",
       "       'st. martin', 'france', 'papua new guinea', 'trinidad & tobago',\n",
       "       'kiribati', 'israel', 'diego garcia', 'taiwan', 'jamaica',\n",
       "       'palestinian territories', 'guam', 'seychelles', 'belize',\n",
       "       'nigeria', 'tonga', 'scotland', 'canada', 'croatia',\n",
       "       'saudi arabia', 'chile', 'antigua', 'kenya', 'russia',\n",
       "       'turks & caicos', 'united arab emirates (uae)', 'azores',\n",
       "       'south korea', 'malta', 'vietnam', 'madagascar', 'panama',\n",
       "       'somalia', 'nevis', 'british virgin islands', 'norway', 'senegal',\n",
       "       'yemen', 'gulf of aden', 'sierra leone', 'st. maartin',\n",
       "       'grand cayman', 'liberia', 'vanuatu', 'honduras', 'venezuela',\n",
       "       'sri lanka', 'uruguay', 'india', 'micronesia', 'caribbean sea',\n",
       "       'okinawa', 'tanzania', 'marshall islands', 'egypt / israel',\n",
       "       'northern arabian sea', 'hong kong', 'el salvador', 'angola',\n",
       "       'bermuda', 'montenegro', 'iran', 'tunisia', 'namibia',\n",
       "       'north atlantic ocean', 'portugal', 'south china sea',\n",
       "       'bangladesh', 'palau', 'western samoa', 'pacific ocean',\n",
       "       'british isles', 'grenada', 'iraq', 'turkey', 'singapore',\n",
       "       'new britain', 'sudan', 'johnston island', 'south pacific ocean',\n",
       "       'new guinea', 'red sea', 'north pacific ocean',\n",
       "       'federated states of micronesia', 'mid atlantic ocean',\n",
       "       'admiralty islands', 'british west indies', 'south atlantic ocean',\n",
       "       'persian gulf', 'red sea / indian ocean', 'north sea', 'nicaragua',\n",
       "       'maldive islands', 'american samoa', 'andaman / nicobar islandas',\n",
       "       'gabon', 'mayotte', 'the balkans', 'sudan?', 'argentina',\n",
       "       'martinique', 'indian ocean', 'guatemala', 'netherlands antilles',\n",
       "       'northern mariana islands'], dtype=object)"
      ]
     },
     "execution_count": 16,
     "metadata": {},
     "output_type": "execute_result"
    }
   ],
   "source": [
    "df['Country'] =df['Country'].str.strip()\n",
    "df['Country'].unique()"
   ]
  },
  {
   "cell_type": "code",
   "execution_count": 17,
   "id": "b44f0cf1",
   "metadata": {},
   "outputs": [],
   "source": [
    "df['Country'] = df['Country'].replace([\"usa\"], 'united states')\n",
    "df['Country'] = df['Country'].replace([\"sudan?\"], 'sudan')\n",
    "df['Country'] = df['Country'].replace([\"united arab emirates (uae)\"], 'united arab emirates')"
   ]
  },
  {
   "cell_type": "code",
   "execution_count": 31,
   "id": "24f15c00",
   "metadata": {},
   "outputs": [],
   "source": [
    "df.set_index('Country', inplace=True)"
   ]
  },
  {
   "cell_type": "code",
   "execution_count": 32,
   "id": "37c7f44f",
   "metadata": {},
   "outputs": [
    {
     "data": {
      "text/plain": [
       "(4598, 4)"
      ]
     },
     "execution_count": 32,
     "metadata": {},
     "output_type": "execute_result"
    }
   ],
   "source": [
    "df.shape"
   ]
  },
  {
   "cell_type": "markdown",
   "id": "bd9992ac",
   "metadata": {},
   "source": [
    "### Creating a list of countries of the world separing them in between the north and south"
   ]
  },
  {
   "cell_type": "markdown",
   "id": "4b6b7542",
   "metadata": {},
   "source": [
    "- can be created as a function"
   ]
  },
  {
   "cell_type": "code",
   "execution_count": 19,
   "id": "a2070b7a",
   "metadata": {},
   "outputs": [],
   "source": [
    "l_country= pd.read_csv('data/list_country.csv') #we can see there's a latitude empty, so we remove it\n",
    "l_country.dropna(how= 'any',inplace= True)"
   ]
  },
  {
   "cell_type": "code",
   "execution_count": 20,
   "id": "e0ce3c2f",
   "metadata": {
    "scrolled": true
   },
   "outputs": [
    {
     "data": {
      "text/html": [
       "<div>\n",
       "<style scoped>\n",
       "    .dataframe tbody tr th:only-of-type {\n",
       "        vertical-align: middle;\n",
       "    }\n",
       "\n",
       "    .dataframe tbody tr th {\n",
       "        vertical-align: top;\n",
       "    }\n",
       "\n",
       "    .dataframe thead th {\n",
       "        text-align: right;\n",
       "    }\n",
       "</style>\n",
       "<table border=\"1\" class=\"dataframe\">\n",
       "  <thead>\n",
       "    <tr style=\"text-align: right;\">\n",
       "      <th></th>\n",
       "      <th>latitude</th>\n",
       "      <th>longitude</th>\n",
       "      <th>name</th>\n",
       "      <th>hemisphere</th>\n",
       "    </tr>\n",
       "  </thead>\n",
       "  <tbody>\n",
       "    <tr>\n",
       "      <th>0</th>\n",
       "      <td>42.546245</td>\n",
       "      <td>1.601554</td>\n",
       "      <td>andorra</td>\n",
       "      <td>north</td>\n",
       "    </tr>\n",
       "    <tr>\n",
       "      <th>1</th>\n",
       "      <td>23.424076</td>\n",
       "      <td>53.847818</td>\n",
       "      <td>united arab emirates</td>\n",
       "      <td>north</td>\n",
       "    </tr>\n",
       "    <tr>\n",
       "      <th>2</th>\n",
       "      <td>33.939110</td>\n",
       "      <td>67.709953</td>\n",
       "      <td>afghanistan</td>\n",
       "      <td>north</td>\n",
       "    </tr>\n",
       "    <tr>\n",
       "      <th>3</th>\n",
       "      <td>17.060816</td>\n",
       "      <td>-61.796428</td>\n",
       "      <td>antigua and barbuda</td>\n",
       "      <td>north</td>\n",
       "    </tr>\n",
       "    <tr>\n",
       "      <th>4</th>\n",
       "      <td>18.220554</td>\n",
       "      <td>-63.068615</td>\n",
       "      <td>anguilla</td>\n",
       "      <td>north</td>\n",
       "    </tr>\n",
       "    <tr>\n",
       "      <th>...</th>\n",
       "      <td>...</td>\n",
       "      <td>...</td>\n",
       "      <td>...</td>\n",
       "      <td>...</td>\n",
       "    </tr>\n",
       "    <tr>\n",
       "      <th>240</th>\n",
       "      <td>15.552727</td>\n",
       "      <td>48.516388</td>\n",
       "      <td>yemen</td>\n",
       "      <td>north</td>\n",
       "    </tr>\n",
       "    <tr>\n",
       "      <th>241</th>\n",
       "      <td>-12.827500</td>\n",
       "      <td>45.166244</td>\n",
       "      <td>mayotte</td>\n",
       "      <td>south</td>\n",
       "    </tr>\n",
       "    <tr>\n",
       "      <th>242</th>\n",
       "      <td>-30.559482</td>\n",
       "      <td>22.937506</td>\n",
       "      <td>south africa</td>\n",
       "      <td>south</td>\n",
       "    </tr>\n",
       "    <tr>\n",
       "      <th>243</th>\n",
       "      <td>-13.133897</td>\n",
       "      <td>27.849332</td>\n",
       "      <td>zambia</td>\n",
       "      <td>south</td>\n",
       "    </tr>\n",
       "    <tr>\n",
       "      <th>244</th>\n",
       "      <td>-19.015438</td>\n",
       "      <td>29.154857</td>\n",
       "      <td>zimbabwe</td>\n",
       "      <td>south</td>\n",
       "    </tr>\n",
       "  </tbody>\n",
       "</table>\n",
       "<p>244 rows × 4 columns</p>\n",
       "</div>"
      ],
      "text/plain": [
       "      latitude  longitude                  name hemisphere\n",
       "0    42.546245   1.601554               andorra      north\n",
       "1    23.424076  53.847818  united arab emirates      north\n",
       "2    33.939110  67.709953           afghanistan      north\n",
       "3    17.060816 -61.796428   antigua and barbuda      north\n",
       "4    18.220554 -63.068615              anguilla      north\n",
       "..         ...        ...                   ...        ...\n",
       "240  15.552727  48.516388                 yemen      north\n",
       "241 -12.827500  45.166244               mayotte      south\n",
       "242 -30.559482  22.937506          south africa      south\n",
       "243 -13.133897  27.849332                zambia      south\n",
       "244 -19.015438  29.154857              zimbabwe      south\n",
       "\n",
       "[244 rows x 4 columns]"
      ]
     },
     "execution_count": 20,
     "metadata": {},
     "output_type": "execute_result"
    }
   ],
   "source": [
    "l_country[\"hemisphere\"]=l_country[\"latitude\"].apply(lambda x : \"north\" if x>0 else \"south\")\n",
    "l_country['name'] = l_country['name'].apply(lambda x: x.lower())\n",
    "l_country"
   ]
  },
  {
   "cell_type": "code",
   "execution_count": 21,
   "id": "6088ea5c",
   "metadata": {},
   "outputs": [],
   "source": [
    "l_country.drop (labels= ['latitude','longitude'], axis= 1, inplace= True)\n"
   ]
  },
  {
   "cell_type": "code",
   "execution_count": 29,
   "id": "6bbe7d6a",
   "metadata": {},
   "outputs": [],
   "source": [
    "l_country.set_index('name', inplace=True)"
   ]
  },
  {
   "cell_type": "code",
   "execution_count": 30,
   "id": "48a45979",
   "metadata": {},
   "outputs": [
    {
     "data": {
      "text/html": [
       "<div>\n",
       "<style scoped>\n",
       "    .dataframe tbody tr th:only-of-type {\n",
       "        vertical-align: middle;\n",
       "    }\n",
       "\n",
       "    .dataframe tbody tr th {\n",
       "        vertical-align: top;\n",
       "    }\n",
       "\n",
       "    .dataframe thead th {\n",
       "        text-align: right;\n",
       "    }\n",
       "</style>\n",
       "<table border=\"1\" class=\"dataframe\">\n",
       "  <thead>\n",
       "    <tr style=\"text-align: right;\">\n",
       "      <th></th>\n",
       "      <th>hemisphere</th>\n",
       "    </tr>\n",
       "    <tr>\n",
       "      <th>name</th>\n",
       "      <th></th>\n",
       "    </tr>\n",
       "  </thead>\n",
       "  <tbody>\n",
       "    <tr>\n",
       "      <th>andorra</th>\n",
       "      <td>north</td>\n",
       "    </tr>\n",
       "    <tr>\n",
       "      <th>united arab emirates</th>\n",
       "      <td>north</td>\n",
       "    </tr>\n",
       "    <tr>\n",
       "      <th>afghanistan</th>\n",
       "      <td>north</td>\n",
       "    </tr>\n",
       "    <tr>\n",
       "      <th>antigua and barbuda</th>\n",
       "      <td>north</td>\n",
       "    </tr>\n",
       "    <tr>\n",
       "      <th>anguilla</th>\n",
       "      <td>north</td>\n",
       "    </tr>\n",
       "    <tr>\n",
       "      <th>...</th>\n",
       "      <td>...</td>\n",
       "    </tr>\n",
       "    <tr>\n",
       "      <th>yemen</th>\n",
       "      <td>north</td>\n",
       "    </tr>\n",
       "    <tr>\n",
       "      <th>mayotte</th>\n",
       "      <td>south</td>\n",
       "    </tr>\n",
       "    <tr>\n",
       "      <th>south africa</th>\n",
       "      <td>south</td>\n",
       "    </tr>\n",
       "    <tr>\n",
       "      <th>zambia</th>\n",
       "      <td>south</td>\n",
       "    </tr>\n",
       "    <tr>\n",
       "      <th>zimbabwe</th>\n",
       "      <td>south</td>\n",
       "    </tr>\n",
       "  </tbody>\n",
       "</table>\n",
       "<p>244 rows × 1 columns</p>\n",
       "</div>"
      ],
      "text/plain": [
       "                     hemisphere\n",
       "name                           \n",
       "andorra                   north\n",
       "united arab emirates      north\n",
       "afghanistan               north\n",
       "antigua and barbuda       north\n",
       "anguilla                  north\n",
       "...                         ...\n",
       "yemen                     north\n",
       "mayotte                   south\n",
       "south africa              south\n",
       "zambia                    south\n",
       "zimbabwe                  south\n",
       "\n",
       "[244 rows x 1 columns]"
      ]
     },
     "execution_count": 30,
     "metadata": {},
     "output_type": "execute_result"
    }
   ],
   "source": [
    "l_country"
   ]
  },
  {
   "cell_type": "markdown",
   "id": "789110f0",
   "metadata": {},
   "source": [
    "### Comparing the df's"
   ]
  },
  {
   "cell_type": "markdown",
   "id": "6c2ab1b2",
   "metadata": {},
   "source": [
    "- Checking both lists can find there are some discrepancies how the countries are described. so, we gonna implement some changes to adjust as much as many countries in order to match both lists"
   ]
  },
  {
   "cell_type": "code",
   "execution_count": 34,
   "id": "db2d6acb",
   "metadata": {},
   "outputs": [],
   "source": [
    "for index in df:\n",
    "    if index in l_country:\n",
    "        print (i)"
   ]
  },
  {
   "cell_type": "code",
   "execution_count": null,
   "id": "27d8adc4",
   "metadata": {},
   "outputs": [],
   "source": []
  }
 ],
 "metadata": {
  "kernelspec": {
   "display_name": "ironhack",
   "language": "python",
   "name": "ironhack"
  },
  "language_info": {
   "codemirror_mode": {
    "name": "ipython",
    "version": 3
   },
   "file_extension": ".py",
   "mimetype": "text/x-python",
   "name": "python",
   "nbconvert_exporter": "python",
   "pygments_lexer": "ipython3",
   "version": "3.9.15"
  },
  "toc": {
   "base_numbering": 1,
   "nav_menu": {},
   "number_sections": true,
   "sideBar": true,
   "skip_h1_title": false,
   "title_cell": "Table of Contents",
   "title_sidebar": "Contents",
   "toc_cell": false,
   "toc_position": {},
   "toc_section_display": true,
   "toc_window_display": true
  },
  "vscode": {
   "interpreter": {
    "hash": "65c280bfb1607ddbce30fd0ce3f06f418f353a9e23ac72900d787e513dca203b"
   }
  }
 },
 "nbformat": 4,
 "nbformat_minor": 5
}
