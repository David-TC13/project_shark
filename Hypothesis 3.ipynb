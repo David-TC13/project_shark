{
 "cells": [
  {
   "cell_type": "markdown",
   "id": "643f7040",
   "metadata": {},
   "source": [
    "## attacks being provoked or not in the US since 1946"
   ]
  },
  {
   "cell_type": "code",
   "execution_count": 1,
   "id": "5425688d",
   "metadata": {},
   "outputs": [],
   "source": [
    "import numpy as np\n",
    "import pandas as pd"
   ]
  },
  {
   "cell_type": "code",
   "execution_count": 2,
   "id": "4a5d9288",
   "metadata": {},
   "outputs": [],
   "source": [
    "df= pd.read_csv(\"data/attacks.csv\", encoding='cp1252')"
   ]
  },
  {
   "cell_type": "code",
   "execution_count": 3,
   "id": "d91dfbf5",
   "metadata": {},
   "outputs": [],
   "source": [
    "df.drop_duplicates(inplace= True)"
   ]
  },
  {
   "cell_type": "code",
   "execution_count": 4,
   "id": "afaab536",
   "metadata": {},
   "outputs": [
    {
     "data": {
      "text/plain": [
       "Index(['Case Number', 'Date', 'Year', 'Type', 'Country', 'Area', 'Location',\n",
       "       'Activity', 'Name', 'Sex ', 'Age', 'Injury', 'Fatal (Y/N)', 'Time',\n",
       "       'Species ', 'Investigator or Source', 'pdf', 'href formula', 'href',\n",
       "       'Case Number.1', 'Case Number.2', 'original order', 'Unnamed: 22',\n",
       "       'Unnamed: 23'],\n",
       "      dtype='object')"
      ]
     },
     "execution_count": 4,
     "metadata": {},
     "output_type": "execute_result"
    }
   ],
   "source": [
    "df.columns"
   ]
  },
  {
   "cell_type": "code",
   "execution_count": 5,
   "id": "87683007",
   "metadata": {},
   "outputs": [
    {
     "data": {
      "text/html": [
       "<div>\n",
       "<style scoped>\n",
       "    .dataframe tbody tr th:only-of-type {\n",
       "        vertical-align: middle;\n",
       "    }\n",
       "\n",
       "    .dataframe tbody tr th {\n",
       "        vertical-align: top;\n",
       "    }\n",
       "\n",
       "    .dataframe thead th {\n",
       "        text-align: right;\n",
       "    }\n",
       "</style>\n",
       "<table border=\"1\" class=\"dataframe\">\n",
       "  <thead>\n",
       "    <tr style=\"text-align: right;\">\n",
       "      <th></th>\n",
       "      <th>Case Number</th>\n",
       "      <th>Date</th>\n",
       "      <th>Year</th>\n",
       "      <th>Type</th>\n",
       "      <th>Country</th>\n",
       "      <th>Area</th>\n",
       "      <th>Location</th>\n",
       "      <th>Activity</th>\n",
       "      <th>Name</th>\n",
       "      <th>Sex</th>\n",
       "      <th>...</th>\n",
       "      <th>Species</th>\n",
       "      <th>Investigator or Source</th>\n",
       "      <th>pdf</th>\n",
       "      <th>href formula</th>\n",
       "      <th>href</th>\n",
       "      <th>Case Number.1</th>\n",
       "      <th>Case Number.2</th>\n",
       "      <th>original order</th>\n",
       "      <th>Unnamed: 22</th>\n",
       "      <th>Unnamed: 23</th>\n",
       "    </tr>\n",
       "  </thead>\n",
       "  <tbody>\n",
       "    <tr>\n",
       "      <th>6186</th>\n",
       "      <td>ND-0149</td>\n",
       "      <td>Before 1934</td>\n",
       "      <td>0.0</td>\n",
       "      <td>Unprovoked</td>\n",
       "      <td>URUGUAY</td>\n",
       "      <td>Rocha</td>\n",
       "      <td>Playa del Barco, La Pedrera</td>\n",
       "      <td>Swimming</td>\n",
       "      <td>Maciello</td>\n",
       "      <td>M</td>\n",
       "      <td>...</td>\n",
       "      <td>NaN</td>\n",
       "      <td>Di Candia, 2004</td>\n",
       "      <td>ND-0149-Maciello.pdf</td>\n",
       "      <td>http://sharkattackfile.net/spreadsheets/pdf_di...</td>\n",
       "      <td>http://sharkattackfile.net/spreadsheets/pdf_di...</td>\n",
       "      <td>ND-0149</td>\n",
       "      <td>ND-0149</td>\n",
       "      <td>117.0</td>\n",
       "      <td>NaN</td>\n",
       "      <td>NaN</td>\n",
       "    </tr>\n",
       "  </tbody>\n",
       "</table>\n",
       "<p>1 rows × 24 columns</p>\n",
       "</div>"
      ],
      "text/plain": [
       "     Case Number         Date  Year        Type  Country    Area  \\\n",
       "6186     ND-0149  Before 1934   0.0  Unprovoked  URUGUAY  Rocha    \n",
       "\n",
       "                         Location  Activity      Name Sex   ... Species   \\\n",
       "6186  Playa del Barco, La Pedrera  Swimming  Maciello    M  ...      NaN   \n",
       "\n",
       "     Investigator or Source                   pdf  \\\n",
       "6186        Di Candia, 2004  ND-0149-Maciello.pdf   \n",
       "\n",
       "                                           href formula  \\\n",
       "6186  http://sharkattackfile.net/spreadsheets/pdf_di...   \n",
       "\n",
       "                                                   href Case Number.1  \\\n",
       "6186  http://sharkattackfile.net/spreadsheets/pdf_di...       ND-0149   \n",
       "\n",
       "     Case Number.2 original order Unnamed: 22 Unnamed: 23  \n",
       "6186       ND-0149          117.0         NaN         NaN  \n",
       "\n",
       "[1 rows x 24 columns]"
      ]
     },
     "execution_count": 5,
     "metadata": {},
     "output_type": "execute_result"
    }
   ],
   "source": [
    "df.sample()"
   ]
  },
  {
   "cell_type": "code",
   "execution_count": 6,
   "id": "762452f7",
   "metadata": {},
   "outputs": [],
   "source": [
    "df.drop(labels=['Case Number', 'Date', 'Area', 'Location',\n",
    "       'Activity', 'Name', 'Sex ', 'Age', 'Injury', 'Fatal (Y/N)', 'Time',\n",
    "       'Species ', 'Investigator or Source', 'pdf', 'href formula', 'href',\n",
    "       'Case Number.1', 'Case Number.2', 'original order', 'Unnamed: 22',\n",
    "       'Unnamed: 23'], inplace= True, axis= 1)"
   ]
  },
  {
   "cell_type": "code",
   "execution_count": 7,
   "id": "04701035",
   "metadata": {},
   "outputs": [],
   "source": [
    "df=df[df[\"Year\"]>=1946]"
   ]
  },
  {
   "cell_type": "code",
   "execution_count": 8,
   "id": "de59e5d2",
   "metadata": {},
   "outputs": [],
   "source": [
    "df['Year'] = df['Year'].astype('str')"
   ]
  },
  {
   "cell_type": "code",
   "execution_count": 9,
   "id": "f147ed0e",
   "metadata": {},
   "outputs": [],
   "source": [
    "df['Year'] = df['Year'].map(lambda x: x.rstrip('.0'))\n",
    "df['Year'] = df['Year'].astype('int')"
   ]
  },
  {
   "cell_type": "code",
   "execution_count": 15,
   "id": "f3378775",
   "metadata": {},
   "outputs": [],
   "source": [
    "df= df.drop(df[(df['Country'] != 'USA')].index)"
   ]
  },
  {
   "cell_type": "code",
   "execution_count": 16,
   "id": "89f77a32",
   "metadata": {},
   "outputs": [
    {
     "data": {
      "text/plain": [
       "array(['Boating', 'Unprovoked', 'Invalid', 'Provoked', 'Boat',\n",
       "       'Sea Disaster'], dtype=object)"
      ]
     },
     "execution_count": 16,
     "metadata": {},
     "output_type": "execute_result"
    }
   ],
   "source": [
    "df.Type.unique()"
   ]
  },
  {
   "cell_type": "code",
   "execution_count": 12,
   "id": "976a0a5f",
   "metadata": {},
   "outputs": [
    {
     "name": "stdout",
     "output_type": "stream",
     "text": [
      "Type\n",
      "Boat             130\n",
      "Boating          123\n",
      "Boatomg            1\n",
      "Invalid          384\n",
      "Provoked         442\n",
      "Questionable       2\n",
      "Sea Disaster     102\n",
      "Unprovoked      3427\n",
      "dtype: int64\n"
     ]
    }
   ],
   "source": [
    "df2 = df.pivot_table(index = ['Type'], aggfunc ='size')\n",
    "print(df2)"
   ]
  },
  {
   "cell_type": "code",
   "execution_count": 18,
   "id": "8de1930a",
   "metadata": {},
   "outputs": [],
   "source": [
    "df['Type'] = df['Type'].replace([\"Boating\"], 'Boat')"
   ]
  },
  {
   "cell_type": "code",
   "execution_count": 19,
   "id": "7b32fe90",
   "metadata": {},
   "outputs": [],
   "source": [
    "df['Type'] = df['Type'].replace([\"Boatomg\"], 'Boat')"
   ]
  },
  {
   "cell_type": "code",
   "execution_count": 21,
   "id": "75bf7ef6",
   "metadata": {},
   "outputs": [
    {
     "data": {
      "text/plain": [
       "array(['Boat', 'Unprovoked', 'Invalid', 'Provoked', 'Sea Disaster'],\n",
       "      dtype=object)"
      ]
     },
     "execution_count": 21,
     "metadata": {},
     "output_type": "execute_result"
    }
   ],
   "source": [
    "df['Type'].unique()"
   ]
  },
  {
   "cell_type": "code",
   "execution_count": null,
   "id": "ed32ac75",
   "metadata": {},
   "outputs": [],
   "source": []
  }
 ],
 "metadata": {
  "kernelspec": {
   "display_name": "ironhack",
   "language": "python",
   "name": "ironhack"
  },
  "language_info": {
   "codemirror_mode": {
    "name": "ipython",
    "version": 3
   },
   "file_extension": ".py",
   "mimetype": "text/x-python",
   "name": "python",
   "nbconvert_exporter": "python",
   "pygments_lexer": "ipython3",
   "version": "3.9.15"
  },
  "toc": {
   "base_numbering": 1,
   "nav_menu": {},
   "number_sections": true,
   "sideBar": true,
   "skip_h1_title": false,
   "title_cell": "Table of Contents",
   "title_sidebar": "Contents",
   "toc_cell": false,
   "toc_position": {},
   "toc_section_display": true,
   "toc_window_display": false
  }
 },
 "nbformat": 4,
 "nbformat_minor": 5
}
